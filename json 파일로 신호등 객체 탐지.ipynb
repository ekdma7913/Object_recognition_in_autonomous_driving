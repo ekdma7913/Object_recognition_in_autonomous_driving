{
 "cells": [
  {
   "cell_type": "markdown",
   "id": "eca7c5a3",
   "metadata": {},
   "source": [
    "# 신호등 이미지 추출 & 디렉토리 분류"
   ]
  },
  {
   "cell_type": "markdown",
   "id": "fc7792a0",
   "metadata": {},
   "source": [
    "신호등 정보 읽어와서 좌표대로 이미지를 자르고 \n",
    "red, green, yellow 디렉토리에 각각 분류하기"
   ]
  },
  {
   "cell_type": "code",
   "execution_count": 1,
   "id": "ee3fdc45",
   "metadata": {},
   "outputs": [],
   "source": [
    "import numpy as np\n",
    "import pandas as pd\n",
    "\n",
    "data = pd.read_csv('train_data.csv')"
   ]
  },
  {
   "cell_type": "code",
   "execution_count": 2,
   "id": "fd364e29",
   "metadata": {},
   "outputs": [],
   "source": [
    "data = data.iloc[:,1:]"
   ]
  },
  {
   "cell_type": "code",
   "execution_count": 3,
   "id": "6258325e",
   "metadata": {},
   "outputs": [
    {
     "data": {
      "text/html": [
       "<div>\n",
       "<style scoped>\n",
       "    .dataframe tbody tr th:only-of-type {\n",
       "        vertical-align: middle;\n",
       "    }\n",
       "\n",
       "    .dataframe tbody tr th {\n",
       "        vertical-align: top;\n",
       "    }\n",
       "\n",
       "    .dataframe thead th {\n",
       "        text-align: right;\n",
       "    }\n",
       "</style>\n",
       "<table border=\"1\" class=\"dataframe\">\n",
       "  <thead>\n",
       "    <tr style=\"text-align: right;\">\n",
       "      <th></th>\n",
       "      <th>파일명</th>\n",
       "      <th>좌표</th>\n",
       "      <th>red</th>\n",
       "      <th>green</th>\n",
       "      <th>yellow</th>\n",
       "    </tr>\n",
       "  </thead>\n",
       "  <tbody>\n",
       "    <tr>\n",
       "      <th>0</th>\n",
       "      <td>15409944.json</td>\n",
       "      <td>[210, 506, 232, 515]</td>\n",
       "      <td>off</td>\n",
       "      <td>off</td>\n",
       "      <td>off</td>\n",
       "    </tr>\n",
       "    <tr>\n",
       "      <th>1</th>\n",
       "      <td>15409944.json</td>\n",
       "      <td>[263, 500, 285, 509]</td>\n",
       "      <td>off</td>\n",
       "      <td>off</td>\n",
       "      <td>off</td>\n",
       "    </tr>\n",
       "    <tr>\n",
       "      <th>2</th>\n",
       "      <td>15421491.json</td>\n",
       "      <td>[970, 504, 981, 509]</td>\n",
       "      <td>off</td>\n",
       "      <td>on</td>\n",
       "      <td>off</td>\n",
       "    </tr>\n",
       "    <tr>\n",
       "      <th>3</th>\n",
       "      <td>15421491.json</td>\n",
       "      <td>[962, 524, 974, 528]</td>\n",
       "      <td>off</td>\n",
       "      <td>on</td>\n",
       "      <td>off</td>\n",
       "    </tr>\n",
       "    <tr>\n",
       "      <th>4</th>\n",
       "      <td>14509674.json</td>\n",
       "      <td>[1222, 77, 1272, 106]</td>\n",
       "      <td>off</td>\n",
       "      <td>on</td>\n",
       "      <td>off</td>\n",
       "    </tr>\n",
       "    <tr>\n",
       "      <th>...</th>\n",
       "      <td>...</td>\n",
       "      <td>...</td>\n",
       "      <td>...</td>\n",
       "      <td>...</td>\n",
       "      <td>...</td>\n",
       "    </tr>\n",
       "    <tr>\n",
       "      <th>5663</th>\n",
       "      <td>14732542.json</td>\n",
       "      <td>[1255, 361, 1272, 369]</td>\n",
       "      <td>off</td>\n",
       "      <td>on</td>\n",
       "      <td>off</td>\n",
       "    </tr>\n",
       "    <tr>\n",
       "      <th>5664</th>\n",
       "      <td>14732542.json</td>\n",
       "      <td>[1304, 354, 1322, 363]</td>\n",
       "      <td>off</td>\n",
       "      <td>on</td>\n",
       "      <td>off</td>\n",
       "    </tr>\n",
       "    <tr>\n",
       "      <th>5665</th>\n",
       "      <td>a16220312.json</td>\n",
       "      <td>[1068, 128, 1157, 165]</td>\n",
       "      <td>off</td>\n",
       "      <td>off</td>\n",
       "      <td>off</td>\n",
       "    </tr>\n",
       "    <tr>\n",
       "      <th>5666</th>\n",
       "      <td>a16220312.json</td>\n",
       "      <td>[1304, 139, 1394, 176]</td>\n",
       "      <td>off</td>\n",
       "      <td>off</td>\n",
       "      <td>off</td>\n",
       "    </tr>\n",
       "    <tr>\n",
       "      <th>5667</th>\n",
       "      <td>a16220312.json</td>\n",
       "      <td>[1524, 152, 1615, 185]</td>\n",
       "      <td>off</td>\n",
       "      <td>off</td>\n",
       "      <td>off</td>\n",
       "    </tr>\n",
       "  </tbody>\n",
       "</table>\n",
       "<p>5668 rows × 5 columns</p>\n",
       "</div>"
      ],
      "text/plain": [
       "                 파일명                      좌표  red green yellow\n",
       "0      15409944.json    [210, 506, 232, 515]  off   off    off\n",
       "1      15409944.json    [263, 500, 285, 509]  off   off    off\n",
       "2      15421491.json    [970, 504, 981, 509]  off    on    off\n",
       "3      15421491.json    [962, 524, 974, 528]  off    on    off\n",
       "4      14509674.json   [1222, 77, 1272, 106]  off    on    off\n",
       "...              ...                     ...  ...   ...    ...\n",
       "5663   14732542.json  [1255, 361, 1272, 369]  off    on    off\n",
       "5664   14732542.json  [1304, 354, 1322, 363]  off    on    off\n",
       "5665  a16220312.json  [1068, 128, 1157, 165]  off   off    off\n",
       "5666  a16220312.json  [1304, 139, 1394, 176]  off   off    off\n",
       "5667  a16220312.json  [1524, 152, 1615, 185]  off   off    off\n",
       "\n",
       "[5668 rows x 5 columns]"
      ]
     },
     "execution_count": 3,
     "metadata": {},
     "output_type": "execute_result"
    }
   ],
   "source": [
    "data"
   ]
  },
  {
   "cell_type": "code",
   "execution_count": 4,
   "id": "023b821a",
   "metadata": {},
   "outputs": [
    {
     "data": {
      "text/plain": [
       "5668"
      ]
     },
     "execution_count": 4,
     "metadata": {},
     "output_type": "execute_result"
    }
   ],
   "source": [
    "len(data)"
   ]
  },
  {
   "cell_type": "code",
   "execution_count": 9,
   "id": "7a7a5ce7",
   "metadata": {},
   "outputs": [],
   "source": [
    "import os\n",
    "import cv2\n",
    "filepath = \"data/train/train_daylight\"\n",
    "classes = os.listdir(filepath)\n",
    "\n",
    "savedir = ['red','green','yellow','etc']\n",
    "cnt = 0\n",
    "for i in range(0,len(data)):\n",
    "    cnt+= 1\n",
    "    \n",
    "    filename = data['파일명'][i]\n",
    "    coor = data['좌표'][i].replace(\"[\",\"\")\n",
    "    coor = coor.replace(\"]\",\"\")\n",
    "    \n",
    "    filename =filename.split(\".\")[0]+'.jpg'\n",
    "    img  = cv2.imread(filepath+'/'+filename)\n",
    "    \n",
    "    # 좌표로 신호등 이미지 자르기\n",
    "    x,y,w,h = map(int,coor.split(\",\"))\n",
    "    roi_img = img[y:h, x:w]\n",
    "    \n",
    "    # 색깔별 디렉토리 나눠서 저장\n",
    "    red = data['red'][i]\n",
    "    yellow = data['yellow'][i]\n",
    "    green = data['green'][i]\n",
    "    \n",
    "    if red == \"on\":\n",
    "        direct = savedir[0]\n",
    "    elif green == \"on\":\n",
    "        direct = savedir[1]\n",
    "    elif yellow == 'on':\n",
    "        direct = savedir[2]\n",
    "    else:\n",
    "        direct = savedir[3]\n",
    "    \n",
    "    cv2.imwrite('./'+direct+'/'+str(cnt)+'.jpg',roi_img)"
   ]
  },
  {
   "cell_type": "code",
   "execution_count": null,
   "id": "c80b418b",
   "metadata": {},
   "outputs": [],
   "source": []
  }
 ],
 "metadata": {
  "kernelspec": {
   "display_name": "Python 3 (ipykernel)",
   "language": "python",
   "name": "python3"
  },
  "language_info": {
   "codemirror_mode": {
    "name": "ipython",
    "version": 3
   },
   "file_extension": ".py",
   "mimetype": "text/x-python",
   "name": "python",
   "nbconvert_exporter": "python",
   "pygments_lexer": "ipython3",
   "version": "3.7.11"
  },
  "toc": {
   "base_numbering": 1,
   "nav_menu": {},
   "number_sections": true,
   "sideBar": true,
   "skip_h1_title": false,
   "title_cell": "Table of Contents",
   "title_sidebar": "Contents",
   "toc_cell": false,
   "toc_position": {},
   "toc_section_display": true,
   "toc_window_display": false
  }
 },
 "nbformat": 4,
 "nbformat_minor": 5
}
