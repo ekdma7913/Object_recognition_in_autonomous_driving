{
 "cells": [
  {
   "cell_type": "code",
   "execution_count": 1,
   "id": "72123e42",
   "metadata": {
    "ExecuteTime": {
     "end_time": "2022-03-18T02:48:49.509531Z",
     "start_time": "2022-03-18T02:48:48.880235Z"
    }
   },
   "outputs": [],
   "source": [
    "import cv2\n",
    "import sys\n",
    "import numpy as np\n",
    "import matplotlib.pyplot as plt\n",
    "import math"
   ]
  },
  {
   "cell_type": "code",
   "execution_count": 4,
   "id": "73dee15f",
   "metadata": {
    "ExecuteTime": {
     "end_time": "2022-03-18T02:49:14.550478Z",
     "start_time": "2022-03-18T02:49:14.399957Z"
    }
   },
   "outputs": [
    {
     "data": {
      "text/plain": [
       "<matplotlib.image.AxesImage at 0x2269c9790a0>"
      ]
     },
     "execution_count": 4,
     "metadata": {},
     "output_type": "execute_result"
    },
    {
     "data": {
      "image/png": "[encoded data removed]",
      "text/plain": [
       "<Figure size 432x288 with 1 Axes>"
      ]
     },
     "metadata": {
      "needs_background": "light"
     },
     "output_type": "display_data"
    }
   ],
   "source": [
    "# 이미지\n",
    "img = \"./ex/ex (1).jpg\"\n",
    "A = cv2.imread(img, cv2.IMREAD_COLOR)\n",
    "\n",
    "#roi\n",
    "A_roi = A.copy()\n",
    "\n",
    "X=200; Y=500; W=1520; H=580;\n",
    "A_roi = A_roi[Y:Y+H, X:X+W]\n",
    "\n",
    "mask1 = np.zeros(A_roi.shape[:3],dtype = np.uint8)\n",
    "polygon = np.array([[350,0],[700,0],[900,200],[180,200]])\n",
    "white = (255,255,255)\n",
    "mask1 = cv2.fillConvexPoly(mask1,polygon,white)\n",
    "\n",
    "a_copy = A_roi.copy()\n",
    "a_result = cv2.bitwise_and(a_copy, mask1)\n",
    "\n",
    "## 노란색 부분 추출\n",
    "a = a_result.copy()\n",
    "# hsv 영역 전환\n",
    "a2 = cv2.cvtColor(a,cv2.COLOR_BGR2HSV)\n",
    "\n",
    "# hsv 색 범위 지정2\n",
    "low = (20, 20, 100)\n",
    "up = (31, 255, 255)\n",
    "\n",
    "a2_mask = cv2.inRange(a2, low, up)\n",
    "a2_result = cv2.bitwise_and(a,a, mask = a2_mask)\n",
    "\n",
    "## 흰색 부분 추출\n",
    "a = a_result.copy()\n",
    "# hsv 영역 전환\n",
    "a2 = cv2.cvtColor(a,cv2.COLOR_BGR2HSV)\n",
    "\n",
    "\n",
    "# hsv 색 범위 지정2\n",
    "low = (0, 0, 140)\n",
    "up = (250, 90, 200)\n",
    "\n",
    "a2_mask = cv2.inRange(a2, low, up)\n",
    "a2_result = cv2.bitwise_and(a,a, mask = a2_mask)\n",
    "\n",
    "# 캐니 추출\n",
    "a2_canny = cv2.Canny(a2_result, 50 , 250)\n",
    "\n",
    "plt.imshow(a2_canny)"
   ]
  },
  {
   "cell_type": "code",
   "execution_count": 11,
   "id": "648c2a92",
   "metadata": {
    "ExecuteTime": {
     "end_time": "2022-03-18T02:55:09.844863Z",
     "start_time": "2022-03-18T02:55:09.739206Z"
    }
   },
   "outputs": [
    {
     "data": {
      "text/plain": [
       "<matplotlib.image.AxesImage at 0x2269faa4cd0>"
      ]
     },
     "execution_count": 11,
     "metadata": {},
     "output_type": "execute_result"
    },
    {
     "data": {
      "image/png": "[encoded data removed]",
      "text/plain": [
       "<Figure size 432x288 with 1 Axes>"
      ]
     },
     "metadata": {
      "needs_background": "light"
     },
     "output_type": "display_data"
    }
   ],
   "source": [
    "# 허프변환P\n",
    "r = []\n",
    "l = []\n",
    "src = a2_result\n",
    "dst = a2_canny\n",
    "cdst = cv2.cvtColor(a2_canny, cv2.COLOR_GRAY2BGR)\n",
    "\n",
    "cdstP = np.copy(cdst)\n",
    "\n",
    "linesP = cv2.HoughLinesP(dst, 1, np.pi/180, 60, None, 5, 20)\n",
    "                         \n",
    "#if linesP != None: 리스트에 데이터 없으면 오류나서 추가해야함 근데 데이터 있으면 오류남\n",
    "for a in linesP:\n",
    "    for b in a: # [] 가 두개 겹쳐있음\n",
    "        if (b[2]-b[0]) != 0: # 분모가 0이면 나눌 수 없어\n",
    "            radian = math.atan((b[3]-b[1])/(b[2]-b[0]))\n",
    "            degree = radian * 180 / math.pi\n",
    "            if degree >= 30 and degree <= 80: # 오른쪽\n",
    "                r.append(b)\n",
    "                cv2.line(cdstP, (b[0], b[1]), (b[2], b[3]), (0, 0, 255), 2, cv2.LINE_AA)\n",
    "            elif degree >= -80 and degree <= -30: # 왼쪽\n",
    "                l.append(b)\n",
    "                cv2.line(cdstP, (b[0], b[1]), (b[2], b[3]), (0, 0, 255), 2, cv2.LINE_AA)\n",
    "                \n",
    "plt.imshow(cdstP)"
   ]
  },
  {
   "cell_type": "code",
   "execution_count": 12,
   "id": "171c13b9",
   "metadata": {
    "ExecuteTime": {
     "end_time": "2022-03-18T02:55:10.282282Z",
     "start_time": "2022-03-18T02:55:10.277300Z"
    }
   },
   "outputs": [],
   "source": [
    "# r과 l에서 길이 조건으로 리스트에 저장\n",
    "new_r = []\n",
    "new_l = []\n",
    "\n",
    "for i in range(len(r)):\n",
    "    if math.dist([r[i][0], r[i][1]], [r[i][2], r[i][3]]) > 30:\n",
    "        new_r.append(r[i])\n",
    "        \n",
    "for i in range(len(l)):\n",
    "    if math.dist([l[i][0], l[i][1]], [l[i][2], l[i][3]]) > 30:\n",
    "        new_l.append(l[i])"
   ]
  },
  {
   "cell_type": "code",
   "execution_count": 13,
   "id": "7940b34e",
   "metadata": {
    "ExecuteTime": {
     "end_time": "2022-03-18T02:55:10.996648Z",
     "start_time": "2022-03-18T02:55:10.991667Z"
    }
   },
   "outputs": [
    {
     "data": {
      "text/plain": [
       "[]"
      ]
     },
     "execution_count": 13,
     "metadata": {},
     "output_type": "execute_result"
    }
   ],
   "source": [
    "new_r "
   ]
  },
  {
   "cell_type": "code",
   "execution_count": 14,
   "id": "74ef25ff",
   "metadata": {
    "ExecuteTime": {
     "end_time": "2022-03-18T02:55:11.720860Z",
     "start_time": "2022-03-18T02:55:11.713885Z"
    }
   },
   "outputs": [
    {
     "data": {
      "text/plain": [
       "[array([293, 142, 434,  32], dtype=int32),\n",
       " array([306, 143, 421,  43], dtype=int32)]"
      ]
     },
     "execution_count": 14,
     "metadata": {},
     "output_type": "execute_result"
    }
   ],
   "source": [
    "new_l"
   ]
  },
  {
   "cell_type": "code",
   "execution_count": 20,
   "id": "b7e2563c",
   "metadata": {
    "ExecuteTime": {
     "end_time": "2022-03-18T02:58:20.322538Z",
     "start_time": "2022-03-18T02:58:20.294627Z"
    }
   },
   "outputs": [],
   "source": [
    "# roi이미지에서 선 그리기\n",
    "a_copy = A_roi.copy()\n",
    "\n",
    "# r 에서 x0 최소값이 있는 인덱스 i 찾기\n",
    "least = []\n",
    "for x in new_r:\n",
    "    least.append(x[0])\n",
    "\n",
    "\n",
    "least2 = []\n",
    "for x in new_l:\n",
    "    least2.append(x[2])\n",
    "\n",
    "    \n",
    "if not least:\n",
    "    least_b = min(least2)\n",
    "    i3 = least2.index(least_b)\n",
    "    most_b = max(least2)\n",
    "    i4 = least2.index(most_b)\n",
    "    least_a = least_b\n",
    "    least.append(least_a)\n",
    "    i = least2.index(least_a)\n",
    "    most_a = most_b\n",
    "    least.append(most_a)\n",
    "    i2 = least2.index(most_a)\n",
    "    a_copy2 = a_copy.copy()\n",
    "    \n",
    "\n",
    "    ## l1\n",
    "    m3 = (l[i3][3]-l[i3][1])/(l[i3][2]-l[i3][0])\n",
    "    n3 = l[i3][1] - (m3 * l[i3][0])\n",
    "\n",
    "    ## l2\n",
    "    m4 = (l[i4][3]-l[i4][1])/(l[i4][2]-l[i4][0])\n",
    "    n4 = l[i4][1] - (m4 * l[i4][0])\n",
    "\n",
    "    ## r1\n",
    "    m = -m3\n",
    "    n = l[i][1] - (m * (550-(l[i][0]-550)))\n",
    "\n",
    "    ## r2\n",
    "    m2 = -m4\n",
    "    n2 = l[i2][1] - (m2 * (550-(l[i2][0]-500)))\n",
    "    \n",
    "    cv2.line(a_copy2, (int(((-n4/m4)+(-n/m))/2)+100, 0),(int((580-n)/m), 580), (0, 0, 255), 4, cv2.LINE_AA)\n",
    "    cv2.line(a_copy2, (int(((-n4/m4)+(-n/m))/2)-100, 0),(int((580-n4)/m4), 580), (0, 0, 255), 4, cv2.LINE_AA)\n",
    "    cv2.line(a_copy2, (int(((-n4/m4)+(-n/m))/2)+150, 0),(int((580-n)/m), 580), (255, 0, 0), 5, cv2.LINE_AA)\n",
    "    cv2.line(a_copy2, (int(((-n4/m4)+(-n/m))/2)-150, 0),(int((580-n4)/m4), 580), (255, 0, 0), 5, cv2.LINE_AA)\n",
    "    \n",
    "    \n",
    "elif not least2:\n",
    "    least_a = min(least)\n",
    "    i = least.index(least_a)\n",
    "    most_a = max(least)\n",
    "    i2 = least.index(most_a)\n",
    "    least_b = least_a\n",
    "    i3 = least.index(least_b)\n",
    "    most_b = most_a\n",
    "    i4 = least.index(most_b)    \n",
    "    a_copy2 = a_copy.copy()\n",
    "    \n",
    "    ## r\n",
    "    m = (r[i][3]-r[i][1])/(r[i][2]-r[i][0])\n",
    "    n = r[i][1] - (m * r[i][0])\n",
    "\n",
    "    ## r2\n",
    "    m2 = (r[i2][3]-r[i2][1])/(r[i2][2]-r[i2][0])\n",
    "    n2 = r[i2][1] - (m2 * r[i2][0])\n",
    "\n",
    "    ## l1\n",
    "    m3 = -m\n",
    "    n3 = r[i][1] - (m3 * (550-(r[i][0]-550)))\n",
    "\n",
    "    ## l2\n",
    "    m4 = -m2\n",
    "    n4 = r[i2][1] - (m4 * (550-(r[i2][0]-550)))\n",
    "\n",
    "    \n",
    "    cv2.line(a_copy2, (int(((-n4/m4)+(-n/m))/2)+100, 0),(int((580-n)/m), 580), (0, 0, 255), 4, cv2.LINE_AA)\n",
    "    cv2.line(a_copy2, (int(((-n4/m4)+(-n/m))/2)-100, 0),(int((580-n4)/m4), 580), (0, 0, 255), 4, cv2.LINE_AA)\n",
    "    cv2.line(a_copy2, (int(((-n4/m4)+(-n/m))/2)+150, 0),(int((580-n)/m), 580), (255, 0, 0), 5, cv2.LINE_AA)\n",
    "    cv2.line(a_copy2, (int(((-n4/m4)+(-n/m))/2)-150, 0),(int((580-n4)/m4), 580), (255, 0, 0), 5, cv2.LINE_AA)\n",
    "    \n",
    "    \n",
    "else:\n",
    "    least_a = min(least)\n",
    "    i = least.index(least_a)\n",
    "    most_a = max(least)\n",
    "    i2 = least.index(most_a)\n",
    "    least_b = min(least2)\n",
    "    i3 = least2.index(least_b)\n",
    "    most_b = max(least2)\n",
    "    i4 = least2.index(most_b)\n",
    "    a_copy2 = a_copy.copy()\n",
    "    \n",
    "    ## r1\n",
    "    m = (r[i][3]-r[i][1])/(r[i][2]-r[i][0])\n",
    "    n = r[i][1] - (m * r[i][0])\n",
    "\n",
    "    ## r2\n",
    "    m2 = (r[i2][3]-r[i2][1])/(r[i2][2]-r[i2][0])\n",
    "    n2 = r[i2][1] - (m2 * r[i2][0])\n",
    "\n",
    "    ## l1\n",
    "    m3 = (l[i3][3]-l[i3][1])/(l[i3][2]-l[i3][0])\n",
    "    n3 = l[i3][1] - (m3 * l[i3][0])\n",
    "\n",
    "    ## l2\n",
    "    m4 = (l[i4][3]-l[i4][1])/(l[i4][2]-l[i4][0])\n",
    "    n4 = l[i4][1] - (m4 * l[i4][0])\n",
    "\n",
    "    \n",
    "    cv2.line(a_copy2, (int(((-n4/m4)+(-n/m))/2)+100, 0),(int((580-n)/m), 580), (0, 0, 255), 4, cv2.LINE_AA)\n",
    "    cv2.line(a_copy2, (int(((-n4/m4)+(-n/m))/2)-100, 0),(int((580-n4)/m4), 580), (0, 0, 255), 4, cv2.LINE_AA)\n",
    "    cv2.line(a_copy2, (int(((-n4/m4)+(-n/m))/2)+150, 0),(int((580-n)/m), 580), (255, 0, 0), 5, cv2.LINE_AA)\n",
    "    cv2.line(a_copy2, (int(((-n4/m4)+(-n/m))/2)-150, 0),(int((580-n4)/m4), 580), (255, 0, 0), 5, cv2.LINE_AA)\n",
    "    \n",
    "    \n",
    "a_copy3 = A_roi.copy()\n",
    "\n",
    "pts = np.array([[int(((-n4/m4)+(-n/m))/2)+100, 0], [int(((-n4/m4)+(-n/m))/2)-100, 0],\n",
    "                [int((580-n4)/m4), 580],[int((580-n)/m), 580]], np.int32)\n",
    "area = cv2.fillPoly(a_copy3, [pts], (0, 255, 0))\n",
    "a_copy4 = cv2.addWeighted(a_copy3, 0.4, a_copy2, 0.6, 0)"
   ]
  },
  {
   "cell_type": "code",
   "execution_count": 21,
   "id": "8cb2224d",
   "metadata": {
    "ExecuteTime": {
     "end_time": "2022-03-18T02:58:30.301692Z",
     "start_time": "2022-03-18T02:58:21.052239Z"
    }
   },
   "outputs": [],
   "source": [
    "cv2.imshow(\"a_copy\", a_copy4)\n",
    "\n",
    "cv2.waitKey()\n",
    "cv2.destroyAllWindows()"
   ]
  },
  {
   "cell_type": "code",
   "execution_count": null,
   "id": "e1f0ab5a",
   "metadata": {},
   "outputs": [],
   "source": []
  }
 ],
 "metadata": {
  "kernelspec": {
   "display_name": "Python 3",
   "language": "python",
   "name": "python3"
  },
  "language_info": {
   "codemirror_mode": {
    "name": "ipython",
    "version": 3
   },
   "file_extension": ".py",
   "mimetype": "text/x-python",
   "name": "python",
   "nbconvert_exporter": "python",
   "pygments_lexer": "ipython3",
   "version": "3.8.12"
  },
  "nbTranslate": {
   "displayLangs": [
    "*"
   ],
   "hotkey": "alt-t",
   "langInMainMenu": true,
   "sourceLang": "en",
   "targetLang": "fr",
   "useGoogleTranslate": true
  },
  "toc": {
   "base_numbering": 1,
   "nav_menu": {},
   "number_sections": true,
   "sideBar": true,
   "skip_h1_title": false,
   "title_cell": "Table of Contents",
   "title_sidebar": "Contents",
   "toc_cell": false,
   "toc_position": {},
   "toc_section_display": true,
   "toc_window_display": false
  },
  "varInspector": {
   "cols": {
    "lenName": 16,
    "lenType": 16,
    "lenVar": 40
   },
   "kernels_config": {
    "python": {
     "delete_cmd_postfix": "",
     "delete_cmd_prefix": "del ",
     "library": "var_list.py",
     "varRefreshCmd": "print(var_dic_list())"
    },
    "r": {
     "delete_cmd_postfix": ") ",
     "delete_cmd_prefix": "rm(",
     "library": "var_list.r",
     "varRefreshCmd": "cat(var_dic_list()) "
    }
   },
   "types_to_exclude": [
    "module",
    "function",
    "builtin_function_or_method",
    "instance",
    "_Feature"
   ],
   "window_display": false
  }
 },
 "nbformat": 4,
 "nbformat_minor": 5
}
