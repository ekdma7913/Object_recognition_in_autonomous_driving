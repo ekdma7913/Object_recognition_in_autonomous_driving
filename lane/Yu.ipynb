{
 "cells": [
  {
   "cell_type": "code",
   "execution_count": 1,
   "id": "703e8771",
   "metadata": {
    "ExecuteTime": {
     "end_time": "2022-03-16T02:15:41.271083Z",
     "start_time": "2022-03-16T02:15:41.147749Z"
    }
   },
   "outputs": [],
   "source": [
    "import cv2\n",
    "import sys\n",
    "import math\n",
    "import cv2 as cv\n",
    "import numpy as np"
   ]
  },
  {
   "cell_type": "code",
   "execution_count": 74,
   "id": "7973e36d",
   "metadata": {
    "ExecuteTime": {
     "end_time": "2022-03-16T02:47:14.717444Z",
     "start_time": "2022-03-16T02:47:13.732869Z"
    }
   },
   "outputs": [
    {
     "data": {
      "text/plain": [
       "-1"
      ]
     },
     "execution_count": 74,
     "metadata": {},
     "output_type": "execute_result"
    }
   ],
   "source": [
    "### 0. 이미지 불러오기\n",
    "#img = \"/Users/yu/tf39_test/실습/자율주행_신호등인식/train/데이터/차선_샘플/a.jpg\"\n",
    "img = \"./1080p/1 (1).jpg\"\n",
    "A = cv2.imread(img, cv2.IMREAD_COLOR)\n",
    "\n",
    "cv2.imshow(\"A\",A)\n",
    "\n",
    "cv2.waitKey(0)\n",
    "cv2.destroyAllWindows()\n",
    "cv2.waitKey(1)"
   ]
  },
  {
   "cell_type": "code",
   "execution_count": 75,
   "id": "0f1f920f",
   "metadata": {
    "ExecuteTime": {
     "end_time": "2022-03-16T02:47:15.607646Z",
     "start_time": "2022-03-16T02:47:14.941038Z"
    }
   },
   "outputs": [
    {
     "data": {
      "text/plain": [
       "-1"
      ]
     },
     "execution_count": 75,
     "metadata": {},
     "output_type": "execute_result"
    }
   ],
   "source": [
    "# ROI 지정(중앙쪽으로) 1520*580\n",
    "A_roi = A.copy()\n",
    "\n",
    "X=200; Y=500; W=1520; H=580;\n",
    "A_roi = A_roi[Y:Y+H, X:X+W]\n",
    "\n",
    "cv2.imshow(\"A_roi\",A_roi)\n",
    "\n",
    "cv2.waitKey(0)\n",
    "cv2.destroyAllWindows()\n",
    "cv2.waitKey(1)"
   ]
  },
  {
   "cell_type": "code",
   "execution_count": 76,
   "id": "34bcf9f9",
   "metadata": {
    "ExecuteTime": {
     "end_time": "2022-03-16T02:47:15.747653Z",
     "start_time": "2022-03-16T02:47:15.739679Z"
    },
    "scrolled": true
   },
   "outputs": [
    {
     "data": {
      "text/plain": [
       "'\\n# 고속도로용\\n# ROI 지정(중앙쪽으로) 1920*1080\\nA_roi = A.copy()\\n\\nX=500; Y=400; W=1100; H=400;\\nA_roi = A_roi[Y:Y+H, X:X+W]\\ncv2.imshow(\"A_roi\",A_roi)\\n\\ncv2.waitKey(0)\\ncv2.destroyAllWindows()\\ncv2.waitKey(1)\\n'"
      ]
     },
     "execution_count": 76,
     "metadata": {},
     "output_type": "execute_result"
    }
   ],
   "source": [
    "\"\"\"\n",
    "# 고속도로용\n",
    "# ROI 지정(중앙쪽으로) 1920*1080\n",
    "A_roi = A.copy()\n",
    "\n",
    "X=500; Y=400; W=1100; H=400;\n",
    "A_roi = A_roi[Y:Y+H, X:X+W]\n",
    "cv2.imshow(\"A_roi\",A_roi)\n",
    "\n",
    "cv2.waitKey(0)\n",
    "cv2.destroyAllWindows()\n",
    "cv2.waitKey(1)\n",
    "\"\"\""
   ]
  },
  {
   "cell_type": "code",
   "execution_count": 77,
   "id": "095718d2",
   "metadata": {
    "ExecuteTime": {
     "end_time": "2022-03-16T02:47:16.181932Z",
     "start_time": "2022-03-16T02:47:16.165972Z"
    }
   },
   "outputs": [
    {
     "data": {
      "text/plain": [
       "(580, 1520, 3)"
      ]
     },
     "execution_count": 77,
     "metadata": {},
     "output_type": "execute_result"
    }
   ],
   "source": [
    "A_roi.shape[:3]"
   ]
  },
  {
   "cell_type": "code",
   "execution_count": 78,
   "id": "d2b95c20",
   "metadata": {
    "ExecuteTime": {
     "end_time": "2022-03-16T02:47:17.274152Z",
     "start_time": "2022-03-16T02:47:16.493901Z"
    }
   },
   "outputs": [
    {
     "data": {
      "text/plain": [
       "-1"
      ]
     },
     "execution_count": 78,
     "metadata": {},
     "output_type": "execute_result"
    }
   ],
   "source": [
    "### 1. 차선 진행 방향 고려해서 roi 지정(사다리꼴)\n",
    "# roi 사다리꼴 마스크 설정\n",
    "mask1 = np.zeros(A_roi.shape[:3],dtype = np.uint8)\n",
    "\n",
    "polygon = np.array([[500,0],[1020,0],[1450,580],[70,580]])\n",
    "white = (255,255,255)\n",
    "\n",
    "mask1 = cv2.fillPoly(mask1,[polygon],white)\n",
    "\n",
    "cv2.imshow(\"mask1\",mask1)\n",
    "cv2.imshow(\"original\",A_roi)\n",
    "\n",
    "cv2.waitKey(0)\n",
    "cv2.destroyAllWindows()\n",
    "cv2.waitKey(1)"
   ]
  },
  {
   "cell_type": "code",
   "execution_count": 79,
   "id": "79c569ec",
   "metadata": {
    "ExecuteTime": {
     "end_time": "2022-03-16T02:47:17.582893Z",
     "start_time": "2022-03-16T02:47:17.565950Z"
    }
   },
   "outputs": [
    {
     "data": {
      "text/plain": [
       "'\\n### 1. 차선 진행 방향 고려해서 roi 지정(사다리꼴)\\n## 고속도로용\\n# roi 사다리꼴 마스크 설정\\nmask1 = np.zeros(A_roi.shape[:3],dtype = np.uint8)\\n\\npolygon = np.array([[(400, 0), (50, 400), (1050, 400), (600, 0)]])\\nwhite = (255,255,255)\\n\\nmask1 = cv2.fillPoly(mask1,[polygon],white)\\n\\ncv2.imshow(\"mask1\",mask1)\\ncv2.imshow(\"original\",A_roi)\\n\\ncv2.waitKey(0)\\ncv2.destroyAllWindows()\\ncv2.waitKey(1)\\n'"
      ]
     },
     "execution_count": 79,
     "metadata": {},
     "output_type": "execute_result"
    }
   ],
   "source": [
    "\"\"\"\n",
    "### 1. 차선 진행 방향 고려해서 roi 지정(사다리꼴)\n",
    "## 고속도로용\n",
    "# roi 사다리꼴 마스크 설정\n",
    "mask1 = np.zeros(A_roi.shape[:3],dtype = np.uint8)\n",
    "\n",
    "polygon = np.array([[(400, 0), (50, 400), (1050, 400), (600, 0)]])\n",
    "white = (255,255,255)\n",
    "\n",
    "mask1 = cv2.fillPoly(mask1,[polygon],white)\n",
    "\n",
    "cv2.imshow(\"mask1\",mask1)\n",
    "cv2.imshow(\"original\",A_roi)\n",
    "\n",
    "cv2.waitKey(0)\n",
    "cv2.destroyAllWindows()\n",
    "cv2.waitKey(1)\n",
    "\"\"\""
   ]
  },
  {
   "cell_type": "code",
   "execution_count": 80,
   "id": "874786a1",
   "metadata": {
    "ExecuteTime": {
     "end_time": "2022-03-16T02:47:18.687932Z",
     "start_time": "2022-03-16T02:47:17.942872Z"
    }
   },
   "outputs": [
    {
     "data": {
      "text/plain": [
       "-1"
      ]
     },
     "execution_count": 80,
     "metadata": {},
     "output_type": "execute_result"
    }
   ],
   "source": [
    "# roi 사다리꼴 자르기\n",
    "a_copy = A_roi.copy()\n",
    "a_result = cv2.bitwise_and(a_copy, mask1)\n",
    "\n",
    "cv2.imshow('a_result',a_result) # 본래의 색인 마스크\n",
    "\n",
    "cv2.waitKey(0)\n",
    "cv2.destroyAllWindows()\n",
    "cv2.waitKey(1)"
   ]
  },
  {
   "cell_type": "code",
   "execution_count": 81,
   "id": "c0b9856b",
   "metadata": {
    "ExecuteTime": {
     "end_time": "2022-03-16T02:47:19.033175Z",
     "start_time": "2022-03-16T02:47:19.030180Z"
    }
   },
   "outputs": [],
   "source": [
    "### 2. hsv에서 흰색 차선 후보 검출, hsv에서 노랑색 차선 후보 검출"
   ]
  },
  {
   "cell_type": "code",
   "execution_count": 82,
   "id": "318e81b2",
   "metadata": {
    "ExecuteTime": {
     "end_time": "2022-03-16T02:47:20.179290Z",
     "start_time": "2022-03-16T02:47:19.367696Z"
    }
   },
   "outputs": [
    {
     "data": {
      "text/plain": [
       "-1"
      ]
     },
     "execution_count": 82,
     "metadata": {},
     "output_type": "execute_result"
    }
   ],
   "source": [
    "## 노란색 부분 추출\n",
    "a = a_result.copy()\n",
    "# hsv 영역 전환\n",
    "a2 = cv2.cvtColor(a,cv2.COLOR_BGR2HSV)\n",
    "\n",
    "# hsv 색 범위 지정2\n",
    "low = (20, 20, 100)\n",
    "up = (31, 255, 255)\n",
    "\n",
    "a2_mask = cv2.inRange(a2, low, up)\n",
    "a2_result = cv2.bitwise_and(a,a, mask = a2_mask)\n",
    "\n",
    "cv2.imshow('color',a) # 원본\n",
    "cv2.imshow('mask',a2_mask) # 마스크\n",
    "cv2.imshow('result',a2_result) # 본래의 색인 마스크\n",
    "\n",
    "cv2.waitKey(0)\n",
    "cv2.destroyAllWindows()\n",
    "cv2.waitKey(1)"
   ]
  },
  {
   "cell_type": "code",
   "execution_count": 83,
   "id": "01dbb1c8",
   "metadata": {
    "ExecuteTime": {
     "end_time": "2022-03-16T02:47:21.252051Z",
     "start_time": "2022-03-16T02:47:20.429150Z"
    }
   },
   "outputs": [
    {
     "data": {
      "text/plain": [
       "-1"
      ]
     },
     "execution_count": 83,
     "metadata": {},
     "output_type": "execute_result"
    }
   ],
   "source": [
    "## 흰색 부분 추출\n",
    "a = a_result.copy()\n",
    "# hsv 영역 전환\n",
    "a2 = cv2.cvtColor(a,cv2.COLOR_BGR2HSV)\n",
    "\n",
    "# bgr 색 범위 지정\n",
    "#low = (0, 255, 255)\n",
    "#up = (200, 255, 255)\n",
    "\n",
    "# hsv 색 범위 지정2\n",
    "low = (0, 0, 140)\n",
    "up = (250, 90, 200)\n",
    "\n",
    "a2_mask = cv2.inRange(a2, low, up)\n",
    "a2_result = cv2.bitwise_and(a,a, mask = a2_mask)\n",
    "\n",
    "cv2.imshow('color',a) # 원본\n",
    "cv2.imshow('mask',a2_mask) # 마스크\n",
    "cv2.imshow('result',a2_result) # 본래의 색인 마스크\n",
    "\n",
    "cv2.waitKey(0)\n",
    "cv2.destroyAllWindows()\n",
    "cv2.waitKey(1)"
   ]
  },
  {
   "cell_type": "code",
   "execution_count": 84,
   "id": "ef52907c",
   "metadata": {
    "ExecuteTime": {
     "end_time": "2022-03-16T02:47:21.561660Z",
     "start_time": "2022-03-16T02:47:21.547706Z"
    }
   },
   "outputs": [
    {
     "data": {
      "text/plain": [
       "\"\\n## 고속도로용 흰색 부분 추출\\na = a_result.copy()\\n# hsv 영역 전환\\na2 = cv2.cvtColor(a,cv2.COLOR_BGR2HSV)\\n\\n# bgr 색 범위 지정\\n#low = (0, 255, 255)\\n#up = (200, 255, 255)\\n\\n# hsv 색 범위 지정2\\nlow = (0, 0, 197)\\nup = (180, 80, 255)\\n\\na2_mask = cv2.inRange(a2, low, up)\\na2_result = cv2.bitwise_and(a,a, mask = a2_mask)\\n\\ncv2.imshow('color',a) # 원본\\ncv2.imshow('mask',a2_mask) # 마스크\\ncv2.imshow('result',a2_result) # 본래의 색인 마스크\\n\\ncv2.waitKey(0)\\ncv2.destroyAllWindows()\\ncv2.waitKey(1)\\n\""
      ]
     },
     "execution_count": 84,
     "metadata": {},
     "output_type": "execute_result"
    }
   ],
   "source": [
    "\"\"\"\n",
    "## 고속도로용 흰색 부분 추출\n",
    "a = a_result.copy()\n",
    "# hsv 영역 전환\n",
    "a2 = cv2.cvtColor(a,cv2.COLOR_BGR2HSV)\n",
    "\n",
    "# bgr 색 범위 지정\n",
    "#low = (0, 255, 255)\n",
    "#up = (200, 255, 255)\n",
    "\n",
    "# hsv 색 범위 지정2\n",
    "low = (0, 0, 197)\n",
    "up = (180, 80, 255)\n",
    "\n",
    "a2_mask = cv2.inRange(a2, low, up)\n",
    "a2_result = cv2.bitwise_and(a,a, mask = a2_mask)\n",
    "\n",
    "cv2.imshow('color',a) # 원본\n",
    "cv2.imshow('mask',a2_mask) # 마스크\n",
    "cv2.imshow('result',a2_result) # 본래의 색인 마스크\n",
    "\n",
    "cv2.waitKey(0)\n",
    "cv2.destroyAllWindows()\n",
    "cv2.waitKey(1)\n",
    "\"\"\""
   ]
  },
  {
   "cell_type": "code",
   "execution_count": 85,
   "id": "7d8ea400",
   "metadata": {
    "ExecuteTime": {
     "end_time": "2022-03-16T02:47:22.265299Z",
     "start_time": "2022-03-16T02:47:21.881955Z"
    }
   },
   "outputs": [
    {
     "data": {
      "text/plain": [
       "-1"
      ]
     },
     "execution_count": 85,
     "metadata": {},
     "output_type": "execute_result"
    }
   ],
   "source": [
    "### 3. 캐니 활용해서 윤곽선 드러내기\n",
    "# 캐니 추출\n",
    "\n",
    "a2_canny = cv2.Canny(a2_result, 50 , 250)\n",
    "\n",
    "cv2.imshow(\"a2_canny\",a2_canny)\n",
    "\n",
    "cv2.waitKey(0)\n",
    "cv2.destroyAllWindows()\n",
    "cv2.waitKey(1)"
   ]
  },
  {
   "cell_type": "code",
   "execution_count": 86,
   "id": "811d8e83",
   "metadata": {
    "ExecuteTime": {
     "end_time": "2022-03-16T02:47:22.592437Z",
     "start_time": "2022-03-16T02:47:22.581469Z"
    }
   },
   "outputs": [
    {
     "data": {
      "text/plain": [
       "'# 일반적 허프 선 변환\\nsrc = a2_result\\ndst = a2_canny\\ncdst = cv.cvtColor(a2_canny, cv.COLOR_GRAY2BGR)\\n\\ncdstP = np.copy(cdst)\\n\\nlines = cv2.HoughLines(dst, 1, np.pi/180, 50, srn = 100, stn = 200, min_theta = 0, max_theta = np.pi)'"
      ]
     },
     "execution_count": 86,
     "metadata": {},
     "output_type": "execute_result"
    }
   ],
   "source": [
    "'''# 일반적 허프 선 변환\n",
    "src = a2_result\n",
    "dst = a2_canny\n",
    "cdst = cv.cvtColor(a2_canny, cv.COLOR_GRAY2BGR)\n",
    "\n",
    "cdstP = np.copy(cdst)\n",
    "\n",
    "lines = cv2.HoughLines(dst, 1, np.pi/180, 50, srn = 100, stn = 200, min_theta = 0, max_theta = np.pi)'''"
   ]
  },
  {
   "cell_type": "code",
   "execution_count": 87,
   "id": "a8bae962",
   "metadata": {
    "ExecuteTime": {
     "end_time": "2022-03-16T02:47:22.916908Z",
     "start_time": "2022-03-16T02:47:22.910935Z"
    }
   },
   "outputs": [
    {
     "data": {
      "text/plain": [
       "'# 확률적 허프 선 변환\\nsrc = a2_result\\ndst = a2_canny\\ncdst = cv.cvtColor(a2_canny, cv.COLOR_GRAY2BGR)\\n\\ncdstP = np.copy(cdst)\\n\\nlinesP = cv.HoughLinesP(dst, 1, np.pi/180, 50, None, 50, 10)\\n\\nif linesP is not None:\\n    for i in range(0, len(linesP)):\\n        l = linesP[i][0]\\n        cv.line(cdstP, (l[0], l[1]), (l[2], l[3]), (0, 0, 255), 2, cv.LINE_AA)\\n        \\n        \\ncv.imshow(\"확률적 허프 선 변환\", cdstP)\\n\\ncv2.waitKey()\\ncv2.destroyAllWindows()\\ncv2.waitKey(1)'"
      ]
     },
     "execution_count": 87,
     "metadata": {},
     "output_type": "execute_result"
    }
   ],
   "source": [
    "'''# 확률적 허프 선 변환\n",
    "src = a2_result\n",
    "dst = a2_canny\n",
    "cdst = cv.cvtColor(a2_canny, cv.COLOR_GRAY2BGR)\n",
    "\n",
    "cdstP = np.copy(cdst)\n",
    "\n",
    "linesP = cv.HoughLinesP(dst, 1, np.pi/180, 50, None, 50, 10)\n",
    "\n",
    "if linesP is not None:\n",
    "    for i in range(0, len(linesP)):\n",
    "        l = linesP[i][0]\n",
    "        cv.line(cdstP, (l[0], l[1]), (l[2], l[3]), (0, 0, 255), 2, cv.LINE_AA)\n",
    "        \n",
    "        \n",
    "cv.imshow(\"확률적 허프 선 변환\", cdstP)\n",
    "\n",
    "cv2.waitKey()\n",
    "cv2.destroyAllWindows()\n",
    "cv2.waitKey(1)'''"
   ]
  },
  {
   "cell_type": "code",
   "execution_count": 88,
   "id": "3ad647af",
   "metadata": {
    "ExecuteTime": {
     "end_time": "2022-03-16T02:47:23.258863Z",
     "start_time": "2022-03-16T02:47:23.240968Z"
    }
   },
   "outputs": [],
   "source": [
    "# img :\n",
    "# rho :\n",
    "# theta :\n",
    "# threshold : (점 임계값)\n",
    "# lines : 검출된 넘파이 배열 선 좌표들 (생략) None\n",
    "# minlinelength : (선 최소 길이)\n",
    "# maxLineGap : (선사이 최대 허용간격)"
   ]
  },
  {
   "cell_type": "code",
   "execution_count": 89,
   "id": "4ab0f594",
   "metadata": {
    "ExecuteTime": {
     "end_time": "2022-03-16T02:47:24.380968Z",
     "start_time": "2022-03-16T02:47:23.628805Z"
    }
   },
   "outputs": [
    {
     "data": {
      "text/plain": [
       "-1"
      ]
     },
     "execution_count": 89,
     "metadata": {},
     "output_type": "execute_result"
    }
   ],
   "source": [
    "### 4. 하프변환P로 차선 긋기\n",
    "# 검출된 데이터 없으면 오류 뜨므로 수정 요함\n",
    "r = []\n",
    "l = []\n",
    "src = a2_result\n",
    "dst = a2_canny\n",
    "cdst = cv.cvtColor(a2_canny, cv.COLOR_GRAY2BGR)\n",
    "\n",
    "cdstP = np.copy(cdst)\n",
    "\n",
    "linesP = cv2.HoughLinesP(dst, 1, np.pi/180, 60, None, 5, 5)\n",
    "#if linesP != None: 리스트에 데이터 없으면 오류나서 추가해야함 근데 데이터 있으면 오류남\n",
    "for a in linesP:\n",
    "    for b in a: # [] 가 두개 겹쳐있음\n",
    "        if (b[2]-b[0]) != 0: # 분모가 0이면 나눌 수 없어\n",
    "            radian = math.atan((b[3]-b[1])/(b[2]-b[0]))\n",
    "            degree = radian * 180 / math.pi\n",
    "            if degree >= 30 and degree <= 80: # 오른쪽\n",
    "                r.append(b)\n",
    "                cv2.line(cdstP, (b[0], b[1]), (b[2], b[3]), (0, 0, 255), 2, cv2.LINE_AA)\n",
    "            elif degree >= -80 and degree <= -30: # 왼쪽\n",
    "                l.append(b)\n",
    "                cv2.line(cdstP, (b[0], b[1]), (b[2], b[3]), (0, 0, 255), 2, cv2.LINE_AA)\n",
    "\n",
    "cv.imshow(\"houghP\", cdstP)\n",
    "\n",
    "cv2.waitKey()\n",
    "cv2.destroyAllWindows()\n",
    "cv2.waitKey(1)"
   ]
  },
  {
   "cell_type": "code",
   "execution_count": 90,
   "id": "7515833b",
   "metadata": {
    "ExecuteTime": {
     "end_time": "2022-03-16T02:47:24.675810Z",
     "start_time": "2022-03-16T02:47:24.658866Z"
    }
   },
   "outputs": [],
   "source": [
    "### 여기까지 하면 차선 양옆들 검출 성공"
   ]
  },
  {
   "cell_type": "code",
   "execution_count": 91,
   "id": "27e47df5",
   "metadata": {
    "ExecuteTime": {
     "end_time": "2022-03-16T02:47:25.033923Z",
     "start_time": "2022-03-16T02:47:25.022965Z"
    }
   },
   "outputs": [
    {
     "data": {
      "text/plain": [
       "[array([ 745,  289, 1040,  480], dtype=int32),\n",
       " array([745, 295, 859, 375], dtype=int32),\n",
       " array([ 923,  419, 1071,  522], dtype=int32),\n",
       " array([746, 296, 930, 425], dtype=int32),\n",
       " array([ 998,  452, 1042,  481], dtype=int32),\n",
       " array([1100,  518, 1190,  578], dtype=int32),\n",
       " array([817,  58, 837,  78], dtype=int32),\n",
       " array([1061,  514, 1147,  574], dtype=int32),\n",
       " array([702, 250, 708, 254], dtype=int32),\n",
       " array([727, 268, 748, 282], dtype=int32),\n",
       " array([819,  59, 838,  78], dtype=int32),\n",
       " array([792,  36, 798,  42], dtype=int32),\n",
       " array([1066,  496, 1132,  540], dtype=int32),\n",
       " array([824,  68, 829,  73], dtype=int32),\n",
       " array([ 993,  233, 1006,  246], dtype=int32),\n",
       " array([813,  56, 834,  77], dtype=int32),\n",
       " array([1035,  476, 1093,  515], dtype=int32)]"
      ]
     },
     "execution_count": 91,
     "metadata": {},
     "output_type": "execute_result"
    }
   ],
   "source": [
    "# 확인\n",
    "r"
   ]
  },
  {
   "cell_type": "code",
   "execution_count": 92,
   "id": "a7cccb88",
   "metadata": {
    "ExecuteTime": {
     "end_time": "2022-03-16T02:47:25.428151Z",
     "start_time": "2022-03-16T02:47:25.421174Z"
    },
    "scrolled": true
   },
   "outputs": [
    {
     "data": {
      "text/plain": [
       "[array([201, 523, 271, 472], dtype=int32),\n",
       " array([ 91, 578, 267, 459], dtype=int32),\n",
       " array([204, 501, 409, 362], dtype=int32),\n",
       " array([247, 490, 412, 370], dtype=int32),\n",
       " array([464, 330, 531, 283], dtype=int32),\n",
       " array([797, 100, 806,  94], dtype=int32),\n",
       " array([469, 324, 485, 314], dtype=int32),\n",
       " array([607, 227, 634, 209], dtype=int32),\n",
       " array([126, 578, 172, 545], dtype=int32),\n",
       " array([521, 286, 530, 280], dtype=int32),\n",
       " array([486, 309, 507, 295], dtype=int32),\n",
       " array([451, 336, 459, 331], dtype=int32),\n",
       " array([509, 298, 519, 291], dtype=int32),\n",
       " array([626, 218, 632, 214], dtype=int32),\n",
       " array([383, 379, 449, 336], dtype=int32),\n",
       " array([181, 518, 209, 499], dtype=int32),\n",
       " array([159, 554, 233, 500], dtype=int32),\n",
       " array([370, 402, 390, 387], dtype=int32),\n",
       " array([932,  15, 946,   6], dtype=int32),\n",
       " array([401, 379, 460, 331], dtype=int32),\n",
       " array([846,  50, 851,  47], dtype=int32),\n",
       " array([ 91, 579, 116, 562], dtype=int32),\n",
       " array([863,  42, 868,  39], dtype=int32)]"
      ]
     },
     "execution_count": 92,
     "metadata": {},
     "output_type": "execute_result"
    }
   ],
   "source": [
    "# 확인2\n",
    "l"
   ]
  },
  {
   "cell_type": "code",
   "execution_count": 93,
   "id": "8805c653",
   "metadata": {
    "ExecuteTime": {
     "end_time": "2022-03-16T02:47:25.813089Z",
     "start_time": "2022-03-16T02:47:25.797622Z"
    }
   },
   "outputs": [],
   "source": [
    "# r과 l에서 길이를 조건으로 두어 추출하도록 재조정하여 리스트에 저장"
   ]
  },
  {
   "cell_type": "code",
   "execution_count": 94,
   "id": "b11a5e54",
   "metadata": {
    "ExecuteTime": {
     "end_time": "2022-03-16T02:47:26.298219Z",
     "start_time": "2022-03-16T02:47:26.282332Z"
    }
   },
   "outputs": [],
   "source": [
    "new_r = []\n",
    "new_l = []"
   ]
  },
  {
   "cell_type": "code",
   "execution_count": 95,
   "id": "b0ae17cc",
   "metadata": {
    "ExecuteTime": {
     "end_time": "2022-03-16T02:47:26.654331Z",
     "start_time": "2022-03-16T02:47:26.642372Z"
    }
   },
   "outputs": [],
   "source": [
    "for i in range(len(r)):\n",
    "    if math.dist([r[i][0], r[i][1]], [r[i][2], r[i][3]]) > 150:\n",
    "        new_r.append(r[i])\n",
    "        \n",
    "for i in range(len(l)):\n",
    "    if math.dist([l[i][0], l[i][1]], [l[i][2], l[i][3]]) > 150:\n",
    "        new_l.append(l[i])"
   ]
  },
  {
   "cell_type": "code",
   "execution_count": 96,
   "id": "22763fb1",
   "metadata": {
    "ExecuteTime": {
     "end_time": "2022-03-16T02:47:27.180873Z",
     "start_time": "2022-03-16T02:47:27.169905Z"
    }
   },
   "outputs": [
    {
     "data": {
      "text/plain": [
       "[array([ 745,  289, 1040,  480], dtype=int32),\n",
       " array([ 923,  419, 1071,  522], dtype=int32),\n",
       " array([746, 296, 930, 425], dtype=int32)]"
      ]
     },
     "execution_count": 96,
     "metadata": {},
     "output_type": "execute_result"
    }
   ],
   "source": [
    "new_r"
   ]
  },
  {
   "cell_type": "code",
   "execution_count": 97,
   "id": "4b318fd3",
   "metadata": {
    "ExecuteTime": {
     "end_time": "2022-03-16T02:47:27.571688Z",
     "start_time": "2022-03-16T02:47:27.553749Z"
    }
   },
   "outputs": [
    {
     "data": {
      "text/plain": [
       "[array([ 91, 578, 267, 459], dtype=int32),\n",
       " array([204, 501, 409, 362], dtype=int32),\n",
       " array([247, 490, 412, 370], dtype=int32)]"
      ]
     },
     "execution_count": 97,
     "metadata": {},
     "output_type": "execute_result"
    }
   ],
   "source": [
    "new_l"
   ]
  },
  {
   "cell_type": "code",
   "execution_count": 98,
   "id": "52871ec6",
   "metadata": {
    "ExecuteTime": {
     "end_time": "2022-03-16T02:47:28.004408Z",
     "start_time": "2022-03-16T02:47:27.990455Z"
    }
   },
   "outputs": [
    {
     "data": {
      "text/plain": [
       "'\\n### 5. roi 이미지에서 선그리기 (+각 선들 특징에 맞게 위치 저장)\\na_copy = A_roi.copy()\\n\\n# r 에서 x0 최소값이 있는 인덱스 i 찾기\\nleast = []\\nfor x in r:\\n    least.append(x[0])\\n    \\nleast_a = min(least)\\ni = least.index(least_a)\\n\\n# r 에서 x0 최대값이 있는 인덱스 i2 찾기\\nmost_a = max(least)\\ni2 = least.index(most_a)\\n\\n# l 에서 x1 최소값이 있는 인덱스 i3 찾기\\nleast2 = []\\nfor x in l:\\n    least2.append(x[2])\\n    \\nleast_b = min(least2)\\ni3 = least2.index(least_b)\\n\\n# l 에서 x1 최대값이 있는 인덱스 i4 찾기  \\nmost_b = max(least2)\\ni4 = least2.index(most_b)\\n\\n\\ncv2.line(a_copy, (r[i][0], r[i][1]), (r[i][2], r[i][3]), (0, 0, 255), 2, cv2.LINE_AA)\\ncv2.line(a_copy, (r[i2][0], r[i2][1]), (r[i2][2], r[i2][3]), (0, 0, 255), 2, cv2.LINE_AA)\\n\\ncv2.line(a_copy, (l[i3][0], l[i3][1]), (l[i3][2], l[i3][3]), (0, 0, 255), 2, cv2.LINE_AA)\\ncv2.line(a_copy, (l[i4][0], l[i4][1]), (l[i4][2], l[i4][3]), (0, 0, 255), 2, cv2.LINE_AA)\\n\\n\\ncv.imshow(\"a_copy\", a_copy)\\n\\ncv2.waitKey()\\ncv2.destroyAllWindows()\\ncv2.waitKey(1)\\n'"
      ]
     },
     "execution_count": 98,
     "metadata": {},
     "output_type": "execute_result"
    }
   ],
   "source": [
    "\"\"\"\n",
    "### 5. roi 이미지에서 선그리기 (+각 선들 특징에 맞게 위치 저장)\n",
    "a_copy = A_roi.copy()\n",
    "\n",
    "# r 에서 x0 최소값이 있는 인덱스 i 찾기\n",
    "least = []\n",
    "for x in r:\n",
    "    least.append(x[0])\n",
    "    \n",
    "least_a = min(least)\n",
    "i = least.index(least_a)\n",
    "\n",
    "# r 에서 x0 최대값이 있는 인덱스 i2 찾기\n",
    "most_a = max(least)\n",
    "i2 = least.index(most_a)\n",
    "\n",
    "# l 에서 x1 최소값이 있는 인덱스 i3 찾기\n",
    "least2 = []\n",
    "for x in l:\n",
    "    least2.append(x[2])\n",
    "    \n",
    "least_b = min(least2)\n",
    "i3 = least2.index(least_b)\n",
    "\n",
    "# l 에서 x1 최대값이 있는 인덱스 i4 찾기  \n",
    "most_b = max(least2)\n",
    "i4 = least2.index(most_b)\n",
    "\n",
    "\n",
    "cv2.line(a_copy, (r[i][0], r[i][1]), (r[i][2], r[i][3]), (0, 0, 255), 2, cv2.LINE_AA)\n",
    "cv2.line(a_copy, (r[i2][0], r[i2][1]), (r[i2][2], r[i2][3]), (0, 0, 255), 2, cv2.LINE_AA)\n",
    "\n",
    "cv2.line(a_copy, (l[i3][0], l[i3][1]), (l[i3][2], l[i3][3]), (0, 0, 255), 2, cv2.LINE_AA)\n",
    "cv2.line(a_copy, (l[i4][0], l[i4][1]), (l[i4][2], l[i4][3]), (0, 0, 255), 2, cv2.LINE_AA)\n",
    "\n",
    "\n",
    "cv.imshow(\"a_copy\", a_copy)\n",
    "\n",
    "cv2.waitKey()\n",
    "cv2.destroyAllWindows()\n",
    "cv2.waitKey(1)\n",
    "\"\"\""
   ]
  },
  {
   "cell_type": "code",
   "execution_count": 100,
   "id": "7b10a5c9",
   "metadata": {
    "ExecuteTime": {
     "end_time": "2022-03-16T02:59:14.776679Z",
     "start_time": "2022-03-16T02:59:08.863975Z"
    }
   },
   "outputs": [
    {
     "data": {
      "text/plain": [
       "-1"
      ]
     },
     "execution_count": 100,
     "metadata": {},
     "output_type": "execute_result"
    }
   ],
   "source": [
    "### 5. roi 이미지에서 선그리기 (+각 선들 특징에 맞게 위치 저장)  \n",
    "##- 좌측, 혹은 우측 리스트가 비어있는 경우 반대쪽 좌표를 옮겨오도록 함, 각도조정 필요 03.09\n",
    "\n",
    "a_copy = A_roi.copy()\n",
    "\n",
    "# r 에서 x0 최소값이 있는 인덱스 i 찾기\n",
    "least = []\n",
    "for x in new_r:\n",
    "    least.append(x[0])\n",
    "\n",
    "least2 = []\n",
    "for x in new_l:\n",
    "    least2.append(x[2])\n",
    "        \n",
    "if not least:\n",
    "    least_a = least_b\n",
    "    least.append(least_a)\n",
    "    i = least2.index(least_a)\n",
    "    most_a = most_b\n",
    "    least.append(most_a)\n",
    "    i2 = least2.index(max_a)\n",
    "    least_b = min(least2)\n",
    "    i3 = least2.index(least_b)\n",
    "    most_b = max(least2)\n",
    "    i4 = least2.index(most_b)\n",
    "    a_copy2 = a_copy.copy()\n",
    "    \n",
    "    ## l1\n",
    "    m3 = (l[i3][3]-l[i3][1])/(l[i3][2]-l[i3][0])\n",
    "    n3 = l[i3][1] - (m3 * l[i3][0])\n",
    "\n",
    "    ## l2\n",
    "    m4 = (l[i4][3]-l[i4][1])/(l[i4][2]-l[i4][0])\n",
    "    n4 = l[i4][1] - (m4 * l[i4][0])\n",
    "\n",
    "    ## r\n",
    "    m = -m3\n",
    "    n = l[i][1] - (m * (550-(l[i][0]-550)))\n",
    "\n",
    "    ## r2\n",
    "    m2 = -m4\n",
    "    n2 = l[i2][1] - (m2 * (550-(l[i2][0]-500)))\n",
    "    \n",
    "\n",
    "    cv2.line(a_copy2, (int(-n/m), 0),(int((1080-n)/m), 1080), (0, 0, 255), 2, cv2.LINE_AA)\n",
    "    cv2.line(a_copy2, (int(-n2/m2), 0),(int((1080-n2)/m2), 1080), (0, 0, 255), 2, cv2.LINE_AA)\n",
    "    cv2.line(a_copy2, (int(-n3/m3), 0),(int((1080-n3)/m3), 1080), (0, 0, 255), 2, cv2.LINE_AA)\n",
    "    cv2.line(a_copy2, (int(-n4/m4), 0),(int((1080-n4)/m4), 1080), (0, 0, 255), 2, cv2.LINE_AA)\n",
    "    pts = np.array([[int(-n4/m4), 0],[int((1080-n4)/m4), 1080],[int((1080-n2)/m2), 1080], [int(-n2/m2), 0]], np.int32)\n",
    "    cv2.fillPoly(a_copy2, pts, (0, 255, 0))\n",
    "\n",
    "    \n",
    "elif not least2:\n",
    "    least_a = min(least)\n",
    "    i = least.index(least_a)\n",
    "    most_a = max(least)\n",
    "    i2 = least.index(most_a)\n",
    "    least_b = least_a\n",
    "    i3 = least.index(least_b)\n",
    "    most_b = most_a\n",
    "    i4 = least.index(most_b)    \n",
    "    a_copy2 = a_copy.copy()\n",
    "    \n",
    "    ## r\n",
    "    m = (r[i][3]-r[i][1])/(r[i][2]-r[i][0])\n",
    "    n = r[i][1] - (m * r[i][0])\n",
    "\n",
    "    ## r2\n",
    "    m2 = (r[i2][3]-r[i2][1])/(r[i2][2]-r[i2][0])\n",
    "    n2 = r[i2][1] - (m2 * r[i2][0])\n",
    "\n",
    "    ## l1\n",
    "    m3 = -m\n",
    "    n3 = r[i][1] - (m3 * (550-(r[i][0]-550)))\n",
    "\n",
    "    ## l2\n",
    "    m4 = -m2\n",
    "    n4 = r[i2][1] - (m4 * (550-(r[i2][0]-550)))\n",
    "    \n",
    "    ## r1과 l2의 교차점\n",
    "    c1 = (n4-n)/(m+m2)\n",
    "    \n",
    "    ## r2와 l1의 교차점\n",
    "    c2 = (n3-n2)/(m2+m)\n",
    "\n",
    "\n",
    "    cv2.line(a_copy2, (int(-n/m), 0),(int((1080-n)/m), 1080), (0, 0, 255), 2, cv2.LINE_AA)\n",
    "    cv2.line(a_copy2, (int(-n2/m2), 0),(int((1080-n2)/m2), 1080), (0, 0, 255), 2, cv2.LINE_AA)\n",
    "    cv2.line(a_copy2, (int(-n3/m3), 0),(int((1080-n3)/m3), 1080), (0, 0, 255), 2, cv2.LINE_AA)\n",
    "    cv2.line(a_copy2, (int(-n4/m4), 0),(int((1080-n4)/m4), 1080), (0, 0, 255), 2, cv2.LINE_AA)\n",
    "    cv2.line(a_copy2, (550, 0), (550, 1080), (255, 0, 0), 2, cv2.LINE_AA)\n",
    "    pts = np.array([[int(-n4/m4), 0],[int((1080-n4)/m4), 1080],[int((1080-n2)/m2), 1080], [int(-n2/m2), 0]], np.int32)\n",
    "    cv2.fillPoly(a_copy2, pts, (0, 255, 0))\n",
    "    \n",
    "else:\n",
    "    least_a = min(least)\n",
    "    i = least.index(least_a)\n",
    "    most_a = max(least)\n",
    "    i2 = least.index(most_a)\n",
    "    least_b = min(least2)\n",
    "    i3 = least2.index(least_b)\n",
    "    most_b = max(least2)\n",
    "    i4 = least2.index(most_b)\n",
    "    a_copy2 = a_copy.copy()\n",
    "    \n",
    "    ## r\n",
    "    m = (r[i][3]-r[i][1])/(r[i][2]-r[i][0])\n",
    "    n = r[i][1] - (m * r[i][0])\n",
    "\n",
    "    ## r2\n",
    "    m2 = (r[i2][3]-r[i2][1])/(r[i2][2]-r[i2][0])\n",
    "    n2 = r[i2][1] - (m2 * r[i2][0])\n",
    "\n",
    "    ## l1\n",
    "    m3 = (l[i3][3]-l[i3][1])/(l[i3][2]-l[i3][0])\n",
    "    n3 = l[i3][1] - (m3 * l[i3][0])\n",
    "\n",
    "    ## l2\n",
    "    m4 = (l[i4][3]-l[i4][1])/(l[i4][2]-l[i4][0])\n",
    "    n4 = l[i4][1] - (m4 * l[i4][0])\n",
    "\n",
    "\n",
    "    cv2.line(a_copy2, (int(-n/m), 0),(int((1080-n)/m), 1080), (0, 0, 255), 2, cv2.LINE_AA)\n",
    "    cv2.line(a_copy2, (int(-n2/m2), 0),(int((1080-n2)/m2), 1080), (0, 0, 255), 2, cv2.LINE_AA)\n",
    "    cv2.line(a_copy2, (int(-n3/m3), 0),(int((1080-n3)/m3), 1080), (0, 0, 255), 2, cv2.LINE_AA)\n",
    "    cv2.line(a_copy2, (int(-n4/m4), 0),(int((1080-n4)/m4), 1080), (0, 0, 255), 2, cv2.LINE_AA)\n",
    "    pts = np.array([[int(-n4/m4), 0],[int((1080-n4)/m4), 1080],[int((1080-n)/m), 1080], [int(-n/m), 0]], np.int32)\n",
    "    area = cv2.fillPoly(a_copy2, [pts], (0, 255, 0))\n",
    "    a_copy3 = cv2.addWeighted(a_copy2, 0.1, area, 0.9, 0)\n",
    "    \n",
    "cv.imshow(\"a_copy\", a_copy3)\n",
    "\n",
    "cv2.waitKey()\n",
    "cv2.destroyAllWindows()\n",
    "cv2.waitKey(1)"
   ]
  },
  {
   "cell_type": "code",
   "execution_count": 185,
   "id": "fa42e7b7",
   "metadata": {
    "ExecuteTime": {
     "end_time": "2022-03-14T07:31:21.423486Z",
     "start_time": "2022-03-14T07:31:21.410526Z"
    }
   },
   "outputs": [
    {
     "data": {
      "text/plain": [
       "'\\n### 6. l, r 선길게 4개 긋기\\na_copy2 = A_roi.copy()\\n\\n# 기울기 m\\n# y절편 n\\n\\n## r\\nm = (r[i][3]-r[i][1])/(r[i][2]-r[i][0])\\nn = r[i][1] - (m * r[i][0])\\n\\n## r2\\nm2 = (r[i2][3]-r[i2][1])/(r[i2][2]-r[i2][0])\\nn2 = r[i2][1] - (m2 * r[i2][0])\\n\\n## l1\\nm3 = (l[i3][3]-l[i3][1])/(l[i3][2]-l[i3][0])\\nn3 = l[i3][1] - (m3 * l[i3][0])\\n\\n## l2\\nm4 = (l[i4][3]-l[i4][1])/(l[i4][2]-l[i4][0])\\nn4 = l[i4][1] - (m4 * l[i4][0])\\n\\n\\ncv2.line(a_copy2, (int(-n/m), 0),(int((580-n)/m), 580), (0, 0, 255), 2, cv2.LINE_AA)\\ncv2.line(a_copy2, (int(-n2/m2), 0),(int((580-n2)/m2), 580), (0, 0, 255), 2, cv2.LINE_AA)\\ncv2.line(a_copy2, (int(-n3/m3), 0),(int((580-n3)/m3), 580), (0, 0, 255), 2, cv2.LINE_AA)\\ncv2.line(a_copy2, (int(-n4/m4), 0),(int((580-n4)/m4), 580), (0, 0, 255), 2, cv2.LINE_AA)\\n\\ncv2.imshow(\"a_copy2\", a_copy2)\\n\\ncv2.waitKey()\\ncv2.destroyAllWindows()\\ncv2.waitKey(1)\\n'"
      ]
     },
     "execution_count": 185,
     "metadata": {},
     "output_type": "execute_result"
    }
   ],
   "source": [
    "\"\"\"\n",
    "### 6. l, r 선길게 4개 긋기\n",
    "a_copy2 = A_roi.copy()\n",
    "\n",
    "# 기울기 m\n",
    "# y절편 n\n",
    "\n",
    "## r\n",
    "m = (r[i][3]-r[i][1])/(r[i][2]-r[i][0])\n",
    "n = r[i][1] - (m * r[i][0])\n",
    "\n",
    "## r2\n",
    "m2 = (r[i2][3]-r[i2][1])/(r[i2][2]-r[i2][0])\n",
    "n2 = r[i2][1] - (m2 * r[i2][0])\n",
    "\n",
    "## l1\n",
    "m3 = (l[i3][3]-l[i3][1])/(l[i3][2]-l[i3][0])\n",
    "n3 = l[i3][1] - (m3 * l[i3][0])\n",
    "\n",
    "## l2\n",
    "m4 = (l[i4][3]-l[i4][1])/(l[i4][2]-l[i4][0])\n",
    "n4 = l[i4][1] - (m4 * l[i4][0])\n",
    "\n",
    "\n",
    "cv2.line(a_copy2, (int(-n/m), 0),(int((580-n)/m), 580), (0, 0, 255), 2, cv2.LINE_AA)\n",
    "cv2.line(a_copy2, (int(-n2/m2), 0),(int((580-n2)/m2), 580), (0, 0, 255), 2, cv2.LINE_AA)\n",
    "cv2.line(a_copy2, (int(-n3/m3), 0),(int((580-n3)/m3), 580), (0, 0, 255), 2, cv2.LINE_AA)\n",
    "cv2.line(a_copy2, (int(-n4/m4), 0),(int((580-n4)/m4), 580), (0, 0, 255), 2, cv2.LINE_AA)\n",
    "\n",
    "cv2.imshow(\"a_copy2\", a_copy2)\n",
    "\n",
    "cv2.waitKey()\n",
    "cv2.destroyAllWindows()\n",
    "cv2.waitKey(1)\n",
    "\"\"\""
   ]
  },
  {
   "cell_type": "code",
   "execution_count": 186,
   "id": "28a53ec9",
   "metadata": {
    "ExecuteTime": {
     "end_time": "2022-03-14T07:31:22.033482Z",
     "start_time": "2022-03-14T07:31:22.021518Z"
    }
   },
   "outputs": [],
   "source": [
    "####### 테스트한 코드 영역 ##########"
   ]
  },
  {
   "cell_type": "code",
   "execution_count": 187,
   "id": "394121c6",
   "metadata": {
    "ExecuteTime": {
     "end_time": "2022-03-14T07:31:22.691332Z",
     "start_time": "2022-03-14T07:31:22.684356Z"
    }
   },
   "outputs": [
    {
     "data": {
      "text/plain": [
       "'print((r[i][0], r[i][1]), (r[i][2], r[i][3]))\\nprint(m)\\nprint(n)\\nprint(\"==========\")\\nprint(-n/m)\\nprint((580-n)/m)\\nprint(\"==========\")\\nprint((int(-n/m), 0),(int((580-n)/m), 580))'"
      ]
     },
     "execution_count": 187,
     "metadata": {},
     "output_type": "execute_result"
    }
   ],
   "source": [
    "'''print((r[i][0], r[i][1]), (r[i][2], r[i][3]))\n",
    "print(m)\n",
    "print(n)\n",
    "print(\"==========\")\n",
    "print(-n/m)\n",
    "print((580-n)/m)\n",
    "print(\"==========\")\n",
    "print((int(-n/m), 0),(int((580-n)/m), 580))'''"
   ]
  },
  {
   "cell_type": "code",
   "execution_count": 188,
   "id": "84e0e0da",
   "metadata": {
    "ExecuteTime": {
     "end_time": "2022-03-14T07:31:23.286861Z",
     "start_time": "2022-03-14T07:31:23.277891Z"
    }
   },
   "outputs": [
    {
     "data": {
      "text/plain": [
       "'print((r[i3][0], r[i3][1]), (r[i3][2], r[i3][3]))\\nprint(m3)\\nprint(n3)\\nprint(\"==========\")\\nprint(-n3/m3)\\nprint((580-n3)/m3)\\nprint(\"==========\")\\nprint((int(-n3/m3), 0),(int((580-n3)/m3), 580))'"
      ]
     },
     "execution_count": 188,
     "metadata": {},
     "output_type": "execute_result"
    }
   ],
   "source": [
    "'''print((r[i3][0], r[i3][1]), (r[i3][2], r[i3][3]))\n",
    "print(m3)\n",
    "print(n3)\n",
    "print(\"==========\")\n",
    "print(-n3/m3)\n",
    "print((580-n3)/m3)\n",
    "print(\"==========\")\n",
    "print((int(-n3/m3), 0),(int((580-n3)/m3), 580))'''"
   ]
  },
  {
   "cell_type": "code",
   "execution_count": 159,
   "id": "16069a14",
   "metadata": {
    "ExecuteTime": {
     "end_time": "2022-03-14T07:30:07.801752Z",
     "start_time": "2022-03-14T07:30:07.794778Z"
    }
   },
   "outputs": [
    {
     "data": {
      "text/plain": [
       "'l2 = l\\nl2.sort(key=lambda x:x[2])\\nprint(l2)'"
      ]
     },
     "execution_count": 159,
     "metadata": {},
     "output_type": "execute_result"
    }
   ],
   "source": [
    "# 다중 리스트에서 내림차순으로 정렬(다른 방법)\n",
    "\n",
    "'''l2 = l\n",
    "l2.sort(key=lambda x:x[2])\n",
    "print(l2)'''"
   ]
  },
  {
   "cell_type": "code",
   "execution_count": 160,
   "id": "4db02384",
   "metadata": {
    "ExecuteTime": {
     "end_time": "2022-03-14T07:30:08.377894Z",
     "start_time": "2022-03-14T07:30:08.365934Z"
    }
   },
   "outputs": [
    {
     "data": {
      "text/plain": [
       "'radian = math.atan(3)\\n\\ndegree = radian * 180/ math.pi\\n\\nprint(degree)'"
      ]
     },
     "execution_count": 160,
     "metadata": {},
     "output_type": "execute_result"
    }
   ],
   "source": [
    "'''radian = math.atan(3)\n",
    "\n",
    "degree = radian * 180/ math.pi\n",
    "\n",
    "print(degree)'''"
   ]
  },
  {
   "cell_type": "code",
   "execution_count": 161,
   "id": "78595773",
   "metadata": {
    "ExecuteTime": {
     "end_time": "2022-03-14T07:30:08.988373Z",
     "start_time": "2022-03-14T07:30:08.973430Z"
    }
   },
   "outputs": [
    {
     "data": {
      "text/plain": [
       "'for a in linesP:\\n    for b in a: # [] 가 두개 겹쳐있음\\n        radian = math.atan((b[3]-b[1])/(b[2]-b[0]))\\n        degree = radian * 180 / math.pi\\n        print(degree)'"
      ]
     },
     "execution_count": 161,
     "metadata": {},
     "output_type": "execute_result"
    }
   ],
   "source": [
    "'''for a in linesP:\n",
    "    for b in a: # [] 가 두개 겹쳐있음\n",
    "        radian = math.atan((b[3]-b[1])/(b[2]-b[0]))\n",
    "        degree = radian * 180 / math.pi\n",
    "        print(degree)'''"
   ]
  },
  {
   "cell_type": "code",
   "execution_count": null,
   "id": "4abfd097",
   "metadata": {},
   "outputs": [],
   "source": []
  },
  {
   "cell_type": "code",
   "execution_count": null,
   "id": "92276521",
   "metadata": {},
   "outputs": [],
   "source": []
  }
 ],
 "metadata": {
  "kernelspec": {
   "display_name": "Python 3",
   "language": "python",
   "name": "python3"
  },
  "language_info": {
   "codemirror_mode": {
    "name": "ipython",
    "version": 3
   },
   "file_extension": ".py",
   "mimetype": "text/x-python",
   "name": "python",
   "nbconvert_exporter": "python",
   "pygments_lexer": "ipython3",
   "version": "3.8.12"
  },
  "nbTranslate": {
   "displayLangs": [
    "*"
   ],
   "hotkey": "alt-t",
   "langInMainMenu": true,
   "sourceLang": "en",
   "targetLang": "fr",
   "useGoogleTranslate": true
  },
  "toc": {
   "base_numbering": 1,
   "nav_menu": {},
   "number_sections": true,
   "sideBar": true,
   "skip_h1_title": false,
   "title_cell": "Table of Contents",
   "title_sidebar": "Contents",
   "toc_cell": false,
   "toc_position": {},
   "toc_section_display": true,
   "toc_window_display": false
  },
  "varInspector": {
   "cols": {
    "lenName": 16,
    "lenType": 16,
    "lenVar": 40
   },
   "kernels_config": {
    "python": {
     "delete_cmd_postfix": "",
     "delete_cmd_prefix": "del ",
     "library": "var_list.py",
     "varRefreshCmd": "print(var_dic_list())"
    },
    "r": {
     "delete_cmd_postfix": ") ",
     "delete_cmd_prefix": "rm(",
     "library": "var_list.r",
     "varRefreshCmd": "cat(var_dic_list()) "
    }
   },
   "types_to_exclude": [
    "module",
    "function",
    "builtin_function_or_method",
    "instance",
    "_Feature"
   ],
   "window_display": false
  }
 },
 "nbformat": 4,
 "nbformat_minor": 5
}
