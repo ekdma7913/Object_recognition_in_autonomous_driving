{
 "cells": [
  {
   "cell_type": "code",
   "execution_count": 25,
   "id": "bc18247b",
   "metadata": {},
   "outputs": [],
   "source": [
    "import cv2\n",
    "import os\n",
    "import numpy as np\n",
    "import matplotlib.image as mpimg\n",
    "import matplotlib.pyplot as plt"
   ]
  },
  {
   "cell_type": "code",
   "execution_count": 134,
   "id": "05aa51b0",
   "metadata": {},
   "outputs": [],
   "source": [
    "# 파일 이름 숫자 설정\n",
    "count = 1\n",
    "\n",
    "# 파일 실행 후 결과 이미지 저장할 경로\n",
    "mask_path = './masked_img/'\n",
    "\n",
    "# 폴더 생성\n",
    "if not os.path.isdir(mask_path):\n",
    "    os.mkdir('./masked_img')"
   ]
  },
  {
   "cell_type": "code",
   "execution_count": 139,
   "id": "60bea7b2",
   "metadata": {},
   "outputs": [],
   "source": [
    "def lane(img):\n",
    "    global count\n",
    "    ## 파일 불러오기\n",
    "    img = cv2.imread(img, cv2.IMREAD_COLOR)\n",
    "    img2 = img.copy()\n",
    "    \n",
    "    ## 차선 부분 추출\n",
    "    # BGR -> HSV 영역 전환\n",
    "    img2_hsv = cv2.cvtColor(img2, cv2.COLOR_BGR2HSV)\n",
    "    \n",
    "    # 색 범위 지정\n",
    "    low = (0, 0, 200)\n",
    "    up = (250, 90, 250)\n",
    "    \n",
    "    img2_mask = cv2.inRange(img2_hsv, low, up)\n",
    "    img2_result = cv2.bitwise_and(img2, img, mask = img2_mask)\n",
    "\n",
    "    # 관심영역 설정\n",
    "    region = np.array([[(200, 1080),\n",
    "                                     (900, 400),\n",
    "                                     (1100, 400),                                \n",
    "                                    (1920, 1080)]], dtype = np.int64)\n",
    "\n",
    "    # 까만 배경\n",
    "    mask = np.zeros_like(img)\n",
    "    \n",
    "    # 구역 설정\n",
    "    cv2.fillPoly(mask, region, 255)\n",
    "    \n",
    "    # 최종 이미지\n",
    "    masked_img = cv2.bitwise_and(img2_result, mask)\n",
    "    \n",
    "    # 이미지 파일 저장\n",
    "    cv2.imwrite(mask_path+str(count) + '.jpg', masked_img)\n",
    "    \n",
    "    count = count + 1"
   ]
  },
  {
   "cell_type": "code",
   "execution_count": 140,
   "id": "5772b031",
   "metadata": {
    "scrolled": true
   },
   "outputs": [],
   "source": [
    "for i in range(1, 13):\n",
    "    path = './data/img/img' + str(i)+'/'\n",
    "    for j in os.listdir(path):\n",
    "        lane(path+j)"
   ]
  }
 ],
 "metadata": {
  "kernelspec": {
   "display_name": "Python 3 (ipykernel)",
   "language": "python",
   "name": "python3"
  },
  "language_info": {
   "codemirror_mode": {
    "name": "ipython",
    "version": 3
   },
   "file_extension": ".py",
   "mimetype": "text/x-python",
   "name": "python",
   "nbconvert_exporter": "python",
   "pygments_lexer": "ipython3",
   "version": "3.8.12"
  }
 },
 "nbformat": 4,
 "nbformat_minor": 5
}
