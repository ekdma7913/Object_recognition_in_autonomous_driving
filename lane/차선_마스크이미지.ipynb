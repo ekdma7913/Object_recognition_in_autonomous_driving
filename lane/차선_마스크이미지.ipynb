{
 "cells": [
  {
   "cell_type": "code",
   "execution_count": 25,
   "id": "bc18247b",
   "metadata": {},
   "outputs": [],
   "source": [
    "import cv2\n",
    "import os\n",
    "import numpy as np\n",
    "import matplotlib.image as mpimg\n",
    "import matplotlib.pyplot as plt"
   ]
  },
  {
   "cell_type": "code",
   "execution_count": 105,
   "id": "05aa51b0",
   "metadata": {},
   "outputs": [],
   "source": [
    "# 파일 실행 후 결과 이미지 저장할 경로\n",
    "mask = './masked_img/'\n",
    "\n",
    "# 폴더 생성\n",
    "if not os.path.isdir(mask):\n",
    "    os.mkdir('./masked_img')"
   ]
  },
  {
   "cell_type": "code",
   "execution_count": 119,
   "id": "465a13bd",
   "metadata": {},
   "outputs": [],
   "source": [
    "# roi & bitwise_and\n",
    "def lane(img):\n",
    "    ## 파일 불러오기\n",
    "    img = cv2.imread(img, cv2.IMREAD_COLOR)\n",
    "    img2 = img.copy()\n",
    "    \n",
    "    ## 차선 부분 추출\n",
    "    # BGR -> HSV 영역 전환\n",
    "    img2_hsv = cv2.cvtColor(img2, cv2.COLOR_BGR2HSV)\n",
    "    \n",
    "    # 색 범위 지정\n",
    "    low = (0, 0, 200)\n",
    "    up = (250, 90, 250)\n",
    "    \n",
    "    img2_mask = cv2.inRange(img2_hsv, low, up)\n",
    "    img2_result = cv2.bitwise_and(img2, img, mask = img2_mask)\n",
    "\n",
    "    # 관심영역 설정\n",
    "    region = np.array([[(200, 1080),\n",
    "                                     (900, 400),\n",
    "                                     (1100, 400),                                \n",
    "                                    (1920, 1080)]], dtype = np.int64)\n",
    "\n",
    "    # 까만 배경\n",
    "    mask = np.zeros_like(img)\n",
    "    # 구역 설정\n",
    "    cv2.fillPoly(mask, region, 255)\n",
    "    \n",
    "    masked_img = cv2.bitwise_and(img2_result, mask)\n",
    "    \n",
    "    # 파일 이름은 1부터 시작\n",
    "    count = 1\n",
    "    \n",
    "    cv2.imwrite(mask+str(count) + '.jpg', masked_img)\n",
    "    \n",
    "    count = count + 1"
   ]
  },
  {
   "cell_type": "code",
   "execution_count": 120,
   "id": "9531b039",
   "metadata": {},
   "outputs": [
    {
     "ename": "UFuncTypeError",
     "evalue": "ufunc 'add' did not contain a loop with signature matching types (dtype('uint8'), dtype('<U1')) -> None",
     "output_type": "error",
     "traceback": [
      "\u001b[1;31m---------------------------------------------------------------------------\u001b[0m",
      "\u001b[1;31mUFuncTypeError\u001b[0m                            Traceback (most recent call last)",
      "\u001b[1;32m~\\AppData\\Local\\Temp/ipykernel_5208/3101354480.py\u001b[0m in \u001b[0;36m<module>\u001b[1;34m\u001b[0m\n\u001b[0;32m      2\u001b[0m     \u001b[0mpath\u001b[0m \u001b[1;33m=\u001b[0m \u001b[1;34m'./data/img/img'\u001b[0m \u001b[1;33m+\u001b[0m \u001b[0mstr\u001b[0m\u001b[1;33m(\u001b[0m\u001b[0mi\u001b[0m\u001b[1;33m)\u001b[0m\u001b[1;33m+\u001b[0m\u001b[1;34m'/'\u001b[0m\u001b[1;33m\u001b[0m\u001b[1;33m\u001b[0m\u001b[0m\n\u001b[0;32m      3\u001b[0m     \u001b[1;32mfor\u001b[0m \u001b[0mj\u001b[0m \u001b[1;32min\u001b[0m \u001b[0mos\u001b[0m\u001b[1;33m.\u001b[0m\u001b[0mlistdir\u001b[0m\u001b[1;33m(\u001b[0m\u001b[0mpath\u001b[0m\u001b[1;33m)\u001b[0m\u001b[1;33m:\u001b[0m\u001b[1;33m\u001b[0m\u001b[1;33m\u001b[0m\u001b[0m\n\u001b[1;32m----> 4\u001b[1;33m         \u001b[0mlane\u001b[0m\u001b[1;33m(\u001b[0m\u001b[0mpath\u001b[0m\u001b[1;33m+\u001b[0m\u001b[0mj\u001b[0m\u001b[1;33m)\u001b[0m\u001b[1;33m\u001b[0m\u001b[1;33m\u001b[0m\u001b[0m\n\u001b[0m",
      "\u001b[1;32m~\\AppData\\Local\\Temp/ipykernel_5208/2568737380.py\u001b[0m in \u001b[0;36mlane\u001b[1;34m(img)\u001b[0m\n\u001b[0;32m     32\u001b[0m     \u001b[0mcount\u001b[0m \u001b[1;33m=\u001b[0m \u001b[1;36m1\u001b[0m\u001b[1;33m\u001b[0m\u001b[1;33m\u001b[0m\u001b[0m\n\u001b[0;32m     33\u001b[0m \u001b[1;33m\u001b[0m\u001b[0m\n\u001b[1;32m---> 34\u001b[1;33m     \u001b[0mcv2\u001b[0m\u001b[1;33m.\u001b[0m\u001b[0mimwrite\u001b[0m\u001b[1;33m(\u001b[0m\u001b[0mmask\u001b[0m\u001b[1;33m+\u001b[0m\u001b[0mstr\u001b[0m\u001b[1;33m(\u001b[0m\u001b[0mcount\u001b[0m\u001b[1;33m)\u001b[0m \u001b[1;33m+\u001b[0m \u001b[1;34m'.jpg'\u001b[0m\u001b[1;33m,\u001b[0m \u001b[0mmasked_img\u001b[0m\u001b[1;33m)\u001b[0m\u001b[1;33m\u001b[0m\u001b[1;33m\u001b[0m\u001b[0m\n\u001b[0m\u001b[0;32m     35\u001b[0m \u001b[1;33m\u001b[0m\u001b[0m\n\u001b[0;32m     36\u001b[0m     \u001b[0mcount\u001b[0m \u001b[1;33m=\u001b[0m \u001b[0mcount\u001b[0m \u001b[1;33m+\u001b[0m \u001b[1;36m1\u001b[0m\u001b[1;33m\u001b[0m\u001b[1;33m\u001b[0m\u001b[0m\n",
      "\u001b[1;31mUFuncTypeError\u001b[0m: ufunc 'add' did not contain a loop with signature matching types (dtype('uint8'), dtype('<U1')) -> None"
     ]
    }
   ],
   "source": [
    "for i in range(1, 2):\n",
    "    path = './data/img/img' + str(i)+'/'\n",
    "    for j in os.listdir(path):\n",
    "        lane(path+j)"
   ]
  }
 ],
 "metadata": {
  "kernelspec": {
   "display_name": "Python 3 (ipykernel)",
   "language": "python",
   "name": "python3"
  },
  "language_info": {
   "codemirror_mode": {
    "name": "ipython",
    "version": 3
   },
   "file_extension": ".py",
   "mimetype": "text/x-python",
   "name": "python",
   "nbconvert_exporter": "python",
   "pygments_lexer": "ipython3",
   "version": "3.8.12"
  }
 },
 "nbformat": 4,
 "nbformat_minor": 5
}
