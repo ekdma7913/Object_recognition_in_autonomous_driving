{
 "cells": [
  {
   "cell_type": "code",
   "execution_count": 1,
   "id": "bc18247b",
   "metadata": {},
   "outputs": [],
   "source": [
    "import cv2\n",
    "import os\n",
    "import numpy as np"
   ]
  },
  {
   "cell_type": "code",
   "execution_count": null,
   "id": "05aa51b0",
   "metadata": {},
   "outputs": [],
   "source": [
    "path_img = './data/img/img1/000000.jpg'"
   ]
  },
  {
   "cell_type": "code",
   "execution_count": null,
   "id": "3d031f22",
   "metadata": {},
   "outputs": [],
   "source": [
    "# roi & bitwise_and\n",
    "def lane(img):\n",
    "    ## 파일 불러오기\n",
    "    img = cv2.imread(img, cv2.IMREAD_COLOR)\n",
    "    img2 = img.copy()\n",
    "    \n",
    "    ## 차선 부분 추출\n",
    "    # BGR -> HSV 영역 전환\n",
    "    img2_hsv = cv2.cvtColor(img2, cv2.COLOR_BGR2HSV)\n",
    "    \n",
    "    # 색 범위 지정\n",
    "    low = (0, 0, 190)\n",
    "    up = (250, 90, 250)\n",
    "    \n",
    "    img2_mask = cv2.inRange(img2_hsv, low, up)\n",
    "    img2_result = cv2.bitwise_and(img2, img, mask = img2_mask)\n",
    "\n",
    "    # 관심영역 설정\n",
    "    region = np.array([[(400, 1080),\n",
    "                                     (800, 400),\n",
    "                                     (1250, 400),                                \n",
    "                                    (1920, 1080)]], dtype = np.int64)\n",
    "\n",
    "    # 까만 배경\n",
    "    mask = np.zeros_like(img)\n",
    "    # 구역 설정\n",
    "    cv2.fillPoly(mask, region, 255)\n",
    "    \n",
    "    masked_img = cv2.bitwise_and(img2_result, mask)\n",
    "    cv2.imshow('test', masked_img)\n",
    "    \n",
    "    cv2.waitKey(0)\n",
    "    cv2.destroyAllWindows()"
   ]
  },
  {
   "cell_type": "code",
   "execution_count": null,
   "id": "22fe635c",
   "metadata": {},
   "outputs": [],
   "source": [
    "lane(path_img)"
   ]
  }
 ],
 "metadata": {
  "kernelspec": {
   "display_name": "Python 3 (ipykernel)",
   "language": "python",
   "name": "python3"
  },
  "language_info": {
   "codemirror_mode": {
    "name": "ipython",
    "version": 3
   },
   "file_extension": ".py",
   "mimetype": "text/x-python",
   "name": "python",
   "nbconvert_exporter": "python",
   "pygments_lexer": "ipython3",
   "version": "3.8.12"
  }
 },
 "nbformat": 4,
 "nbformat_minor": 5
}
