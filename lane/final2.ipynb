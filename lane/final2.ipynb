{
 "cells": [
  {
   "cell_type": "code",
   "execution_count": 188,
   "id": "91000b23",
   "metadata": {
    "ExecuteTime": {
     "end_time": "2022-03-23T06:38:44.685954Z",
     "start_time": "2022-03-23T06:38:44.671993Z"
    }
   },
   "outputs": [],
   "source": [
    "import cv2\n",
    "import sys\n",
    "import numpy as np\n",
    "import matplotlib.pyplot as plt\n",
    "import math\n",
    "import os\n",
    "import glob\n",
    "import natsort"
   ]
  },
  {
   "cell_type": "code",
   "execution_count": 189,
   "id": "7297e8fa",
   "metadata": {
    "ExecuteTime": {
     "end_time": "2022-03-23T06:38:44.955259Z",
     "start_time": "2022-03-23T06:38:44.933266Z"
    }
   },
   "outputs": [
    {
     "name": "stdout",
     "output_type": "stream",
     "text": [
      "frame_size =  (1920, 1080)\n"
     ]
    }
   ],
   "source": [
    "# 영상 받아오기\n",
    "video = './road.mp4'\n",
    "cap = cv2.VideoCapture(video)\n",
    "\n",
    "frame_size = (int(cap.get(cv2.CAP_PROP_FRAME_WIDTH)),\n",
    "             int(cap.get(cv2.CAP_PROP_FRAME_HEIGHT)))\n",
    "\n",
    "print('frame_size = ', frame_size)"
   ]
  },
  {
   "cell_type": "code",
   "execution_count": 190,
   "id": "fa7f3bc1",
   "metadata": {
    "ExecuteTime": {
     "end_time": "2022-03-23T06:38:57.854669Z",
     "start_time": "2022-03-23T06:38:45.253897Z"
    }
   },
   "outputs": [],
   "source": [
    "# 캡쳐 이미지 저장\n",
    "img_path = './cap_img2/'\n",
    "if not os.path.isdir(img_path):\n",
    "    os.mkdir(img_path)\n",
    "    \n",
    "count = 0\n",
    "\n",
    "while (cap.isOpened()):\n",
    "    ret, frame = cap.read()\n",
    "    \n",
    "    if ret:\n",
    "        if(int(cap.get(1)) % 30 == 0) :\n",
    "            cv2.imwrite(img_path+'frame%d.png' % count, frame)\n",
    "            count += 1\n",
    "    else:\n",
    "        break\n",
    "\n",
    "cap.release()"
   ]
  },
  {
   "cell_type": "code",
   "execution_count": 191,
   "id": "81f516bb",
   "metadata": {
    "ExecuteTime": {
     "end_time": "2022-03-23T06:38:57.884600Z",
     "start_time": "2022-03-23T06:38:57.855662Z"
    }
   },
   "outputs": [],
   "source": [
    "# 비디오 생성할 이미지를 담을 리스트\n",
    "video_list = []"
   ]
  },
  {
   "cell_type": "code",
   "execution_count": 192,
   "id": "4156313f",
   "metadata": {
    "ExecuteTime": {
     "end_time": "2022-03-23T06:38:57.929954Z",
     "start_time": "2022-03-23T06:38:57.885593Z"
    }
   },
   "outputs": [],
   "source": [
    "# 차선 영역 표시하는 함수\n",
    "def lane(img):\n",
    "    A = cv2.imread(img, cv2.IMREAD_COLOR)\n",
    "\n",
    "    #roi\n",
    "    A_roi = A.copy()\n",
    "\n",
    "    X=0; Y=0; W=1920; H=1080;\n",
    "    A_roi = A_roi[Y:H, X:W]\n",
    "\n",
    "    mask1 = np.zeros(A_roi.shape[:3],dtype = np.uint8)\n",
    "    polygon = np.array([[600,500],[1020,500],[1350,1080],[500,1080]])\n",
    "    white = (255,255,255)\n",
    "    mask1 = cv2.fillConvexPoly(mask1,polygon,white)\n",
    "\n",
    "    a_copy = A_roi.copy()\n",
    "    a_result = cv2.bitwise_and(a_copy, mask1)\n",
    "\n",
    "    ## 흰색 부분 추출\n",
    "    a = a_result.copy()\n",
    "    # hsv 영역 전환\n",
    "    a2 = cv2.cvtColor(a,cv2.COLOR_BGR2HSV)\n",
    "\n",
    "\n",
    "    # hsv 색 범위 지정2\n",
    "    low = (0, 0, 140)\n",
    "    up = (250, 90, 200)\n",
    "\n",
    "    a2_mask = cv2.inRange(a2, low, up)\n",
    "    a2_result = cv2.bitwise_and(a,a, mask = a2_mask)\n",
    "\n",
    "    # 캐니 추출\n",
    "    a2_canny = cv2.Canny(a2_result, 50 , 250)\n",
    "\n",
    "    r = []\n",
    "    l = []\n",
    "    src = a2_result\n",
    "    dst = a2_canny\n",
    "    cdst = cv2.cvtColor(a2_canny, cv2.COLOR_GRAY2BGR)\n",
    "\n",
    "    cdstP = np.copy(cdst)\n",
    "\n",
    "    linesP = cv2.HoughLinesP(dst, 1, np.pi/180, 60, None, 5, 15)\n",
    "                         \n",
    "    #if linesP != None: 리스트에 데이터 없으면 오류나서 추가해야함 근데 데이터 있으면 오류남\n",
    "    for a in linesP:\n",
    "        for b in a: # [] 가 두개 겹쳐있음\n",
    "            if (b[2]-b[0]) != 0: # 분모가 0이면 나눌 수 없어\n",
    "                radian = math.atan((b[3]-b[1])/(b[2]-b[0]))\n",
    "                degree = radian * 180 / math.pi\n",
    "                if degree >= 30 and degree <= 80: # 오른쪽\n",
    "                    r.append(b)\n",
    "                    cv2.line(cdstP, (b[0], b[1]), (b[2], b[3]), (0, 0, 255), 2, cv2.LINE_AA)\n",
    "                elif degree >= -80 and degree <= -30: # 왼쪽\n",
    "                    l.append(b)\n",
    "                    cv2.line(cdstP, (b[0], b[1]), (b[2], b[3]), (0, 0, 255), 2, cv2.LINE_AA)\n",
    "                \n",
    "                \n",
    "    # r과 l에서 길이 조건으로 리스트에 저장\n",
    "    new_r = []\n",
    "    new_l = []\n",
    "\n",
    "    for i in range(len(r)):\n",
    "        if math.dist([r[i][0], r[i][1]], [r[i][2], r[i][3]]) > 200:\n",
    "            new_r.append(r[i])\n",
    "        \n",
    "    for i in range(len(l)):\n",
    "        if math.dist([l[i][0], l[i][1]], [l[i][2], l[i][3]]) > 200:\n",
    "            new_l.append(l[i])\n",
    "        \n",
    "        \n",
    "    # roi이미지에서 선 그리기\n",
    "    a_copy = A_roi.copy()\n",
    "\n",
    "    # r 에서 x0 최소값이 있는 인덱스 i 찾기\n",
    "    least = []\n",
    "    for x in new_r:\n",
    "        least.append(x[0])\n",
    "\n",
    "\n",
    "    least2 = []\n",
    "    for x in new_l:\n",
    "        least2.append(x[2])\n",
    "    \n",
    "    if not least and not least2:\n",
    "        a_copy2 = a_copy.copy()\n",
    "        cv2.line(a_copy2, (450, 100),(400, 580), (255, 0, 0), 4, cv2.LINE_AA)\n",
    "        cv2.line(a_copy2, (900, 100),(1200, 580), (255, 0, 0), 4, cv2.LINE_AA)\n",
    "        \n",
    "        video_list.append(a_copy2)\n",
    "    \n",
    "    elif not least or not least2:\n",
    "        if not least:\n",
    "            least_b = min(least2)\n",
    "            i3 = least2.index(least_b)\n",
    "            most_b = max(least2)\n",
    "            i4 = least2.index(most_b)\n",
    "            least_a = least_b\n",
    "            least.append(least_a)\n",
    "            i = least2.index(least_a)\n",
    "            most_a = most_b\n",
    "            least.append(most_a)\n",
    "            i2 = least2.index(most_a)\n",
    "            a_copy2 = a_copy.copy()\n",
    "        \n",
    "\n",
    "            ## l1\n",
    "            m3 = (l[i3][3]-l[i3][1])/(l[i3][2]-l[i3][0])\n",
    "            n3 = l[i3][1] - (m3 * l[i3][0])\n",
    "\n",
    "            ## l2\n",
    "            m4 = (l[i4][3]-l[i4][1])/(l[i4][2]-l[i4][0])\n",
    "            n4 = l[i4][1] - (m4 * l[i4][0])\n",
    "        \n",
    "            ## r1\n",
    "            m = -m3\n",
    "            n = l[i][1] - (m * (550-(l[i][0]-550)))\n",
    "\n",
    "            ## r2\n",
    "            m2 = -m4\n",
    "            n2 = l[i2][1] - (m2 * (550-(l[i2][0]-500)))\n",
    "        \n",
    "            cv2.line(a_copy2, (int(((-n4/m4)+(-n/m))/2)+200, 900),(int((1080-n)/m), 1080), (255, 0, 0), 2, cv2.LINE_AA)\n",
    "            cv2.line(a_copy2, (int(((-n4/m4)+(-n/m))/2)-200, 900),(int((1080-n4)/m4), 1080), (255, 0, 0), 2, cv2.LINE_AA)\n",
    "            cv2.line(a_copy2, (int(((-n4/m4)+(-n/m))/2)+230, 900),(int((1100-n)/m), 1080), (0, 0, 255), 5, cv2.LINE_AA)\n",
    "            cv2.line(a_copy2, (int(((-n4/m4)+(-n/m))/2)-230, 900),(int((1100-n4)/m4), 1080), (0, 0, 255), 5, cv2.LINE_AA)\n",
    "            \n",
    "            a_copy3 = A_roi.copy()\n",
    "\n",
    "            pts = np.array([[int(((-n4/m4)+(-n/m))/2)+200, 900], [int(((-n4/m4)+(-n/m))/2)-200, 900],\n",
    "                        [int((1080-n4)/m4), 1080],[int((1080-n)/m), 1080]], np.int32)\n",
    "            area = cv2.fillConvexPoly(a_copy3, pts, (0, 255, 0))\n",
    "            a_copy4 = cv2.addWeighted(a_copy3, 0.4, a_copy2, 0.6, 0)  \n",
    "            \n",
    "            video_list.append(a_copy4)\n",
    "        \n",
    "        elif not least2:\n",
    "            least_a = min(least)\n",
    "            i = least.index(least_a)\n",
    "            most_a = max(least)\n",
    "            i2 = least.index(most_a)\n",
    "            least_b = least_a\n",
    "            i3 = least.index(least_b)\n",
    "            most_b = most_a\n",
    "            i4 = least.index(most_b)    \n",
    "            a_copy2 = a_copy.copy()\n",
    "    \n",
    "            ## r\n",
    "            m = (r[i][3]-r[i][1])/(r[i][2]-r[i][0])\n",
    "            n = r[i][1] - (m * r[i][0])\n",
    "\n",
    "            ## r2\n",
    "            m2 = (r[i2][3]-r[i2][1])/(r[i2][2]-r[i2][0])\n",
    "            n2 = r[i2][1] - (m2 * r[i2][0])\n",
    "\n",
    "            ## l1\n",
    "            m3 = -m\n",
    "            n3 = r[i][1] - (m3 * (550-(r[i][0]-550)))\n",
    "\n",
    "            ## l2\n",
    "            m4 = -m2\n",
    "            n4 = r[i2][1] - (m4 * (550-(r[i2][0]-550)))\n",
    "\n",
    "    \n",
    "            cv2.line(a_copy2, (int(((-n4/m4)+(-n/m))/2)+200, 900),(int((1080-n)/m), 1080), (255, 0, 0), 2, cv2.LINE_AA)\n",
    "            cv2.line(a_copy2, (int(((-n4/m4)+(-n/m))/2)-200, 900),(int((1080-n4)/m4), 1080), (255, 0, 0), 2, cv2.LINE_AA)\n",
    "            cv2.line(a_copy2, (int(((-n4/m4)+(-n/m))/2)+230, 900),(int((1100-n)/m), 1080), (0, 0, 255), 5, cv2.LINE_AA)\n",
    "            cv2.line(a_copy2, (int(((-n4/m4)+(-n/m))/2)-230, 900),(int((1100-n4)/m4), 1080), (0, 0, 255), 5, cv2.LINE_AA)\n",
    "            \n",
    "            \n",
    "            a_copy3 = A_roi.copy()\n",
    "\n",
    "            pts = np.array([[int(((-n4/m4)+(-n/m))/2)+200, 900], [int(((-n4/m4)+(-n/m))/2)-200, 900],\n",
    "                        [int((1080-n4)/m4), 1080],[int((1080-n)/m), 1080]], np.int32)\n",
    "            area = cv2.fillConvexPoly(a_copy3, pts, (0, 255, 0))\n",
    "            a_copy4 = cv2.addWeighted(a_copy3, 0.4, a_copy2, 0.6, 0)\n",
    "            \n",
    "            video_list.append(a_copy4)\n",
    "    \n",
    "    \n",
    "    else:\n",
    "        least_a = min(least)\n",
    "        i = least.index(least_a)\n",
    "        most_a = max(least)\n",
    "        i2 = least.index(most_a)\n",
    "        least_b = min(least2)\n",
    "        i3 = least2.index(least_b)\n",
    "        most_b = max(least2)\n",
    "        i4 = least2.index(most_b)\n",
    "        a_copy2 = a_copy.copy()\n",
    "    \n",
    "        ## r1\n",
    "        m = (r[i][3]-r[i][1])/(r[i][2]-r[i][0])\n",
    "        n = r[i][1] - (m * r[i][0])\n",
    "\n",
    "        ## r2\n",
    "        m2 = (r[i2][3]-r[i2][1])/(r[i2][2]-r[i2][0])\n",
    "        n2 = r[i2][1] - (m2 * r[i2][0])\n",
    "\n",
    "        ## l1\n",
    "        m3 = (l[i3][3]-l[i3][1])/(l[i3][2]-l[i3][0])\n",
    "        n3 = l[i3][1] - (m3 * l[i3][0])\n",
    "\n",
    "        ## l2\n",
    "        m4 = (l[i4][3]-l[i4][1])/(l[i4][2]-l[i4][0])\n",
    "        n4 = l[i4][1] - (m4 * l[i4][0])\n",
    "\n",
    "    \n",
    "        cv2.line(a_copy2, (int(((-n4/m4)+(-n/m))/2)+150, 1000),(int((1080-n)/m), 1080), (255, 0, 0), 2, cv2.LINE_AA)\n",
    "        cv2.line(a_copy2, (int(((-n4/m4)+(-n/m))/2)-150, 1000),(int((1080-n4)/m4), 1080), (255, 0, 0), 2, cv2.LINE_AA)\n",
    "        cv2.line(a_copy2, (int(((-n4/m4)+(-n/m))/2)+180, 1000),(int((1100-n)/m), 1080), (0, 0, 255), 5, cv2.LINE_AA)\n",
    "        cv2.line(a_copy2, (int(((-n4/m4)+(-n/m))/2)-180, 1000),(int((1100-n4)/m4), 1080), (0, 0, 255), 5, cv2.LINE_AA)\n",
    "    \n",
    "    \n",
    "        a_copy3 = A_roi.copy()\n",
    "\n",
    "        pts = np.array([[int(((-n4/m4)+(-n/m))/2)+150, 1000], [int(((-n4/m4)+(-n/m))/2)-150, 1000],\n",
    "                        [int((1080-n4)/m4), 1080],[int((1080-n)/m), 1080]], np.int32)\n",
    "        area = cv2.fillConvexPoly(a_copy3, pts, (0, 255, 0))\n",
    "        a_copy4 = cv2.addWeighted(a_copy3, 0.4, a_copy2, 0.6, 0)\n",
    "    \n",
    "        video_list.append(a_copy4)"
   ]
  },
  {
   "cell_type": "code",
   "execution_count": 193,
   "id": "78d677e4",
   "metadata": {
    "ExecuteTime": {
     "end_time": "2022-03-23T06:39:02.919813Z",
     "start_time": "2022-03-23T06:38:58.118901Z"
    }
   },
   "outputs": [],
   "source": [
    "img_list = os.listdir(img_path)\n",
    "img_list =  natsort.natsorted(img_list)\n",
    "for x in img_list:\n",
    "    img = img_path+x\n",
    "    lane(img)"
   ]
  },
  {
   "cell_type": "code",
   "execution_count": 194,
   "id": "672cf6fc",
   "metadata": {
    "ExecuteTime": {
     "end_time": "2022-03-23T06:39:06.832781Z",
     "start_time": "2022-03-23T06:39:02.920807Z"
    }
   },
   "outputs": [],
   "source": [
    "# video_list의 이미지를 폴더에 저장\n",
    "video_path = './video_img2/'\n",
    "\n",
    "if not os.path.isdir(video_path):\n",
    "    os.mkdir(video_path)\n",
    "\n",
    "count = 0\n",
    "\n",
    "for i in video_list:\n",
    "    cv2.imwrite(video_path+str(count)+'.png', i)\n",
    "    count += 1"
   ]
  },
  {
   "cell_type": "code",
   "execution_count": 195,
   "id": "21c89a46",
   "metadata": {
    "ExecuteTime": {
     "end_time": "2022-03-23T06:39:10.401785Z",
     "start_time": "2022-03-23T06:39:07.102698Z"
    }
   },
   "outputs": [],
   "source": [
    "# 동영상 생성\n",
    "img_array = []\n",
    "\n",
    "filename_list = glob.glob('./video_img2/*.png')\n",
    "filename_list = natsort.natsorted(filename_list)\n",
    "\n",
    "for filename in filename_list:\n",
    "    img = cv2.imread(filename)\n",
    "    height, width, layers = img.shape\n",
    "    size = (width, height)\n",
    "    img_array.append(img)\n",
    "    \n",
    "out = cv2.VideoWriter('video_test.mp4', cv2.VideoWriter_fourcc(*'DIVX'), 8, size)\n",
    "\n",
    "for i in range(len(img_array)):\n",
    "    out.write(img_array[i])\n",
    "out.release()"
   ]
  },
  {
   "cell_type": "code",
   "execution_count": null,
   "id": "dfd3c8c2",
   "metadata": {},
   "outputs": [],
   "source": []
  },
  {
   "cell_type": "code",
   "execution_count": null,
   "id": "5d5c2895",
   "metadata": {},
   "outputs": [],
   "source": []
  },
  {
   "cell_type": "code",
   "execution_count": null,
   "id": "4fc8d9a3",
   "metadata": {},
   "outputs": [],
   "source": []
  },
  {
   "cell_type": "code",
   "execution_count": null,
   "id": "5c4e79f4",
   "metadata": {},
   "outputs": [],
   "source": []
  },
  {
   "cell_type": "code",
   "execution_count": null,
   "id": "42e93cc4",
   "metadata": {},
   "outputs": [],
   "source": []
  },
  {
   "cell_type": "code",
   "execution_count": null,
   "id": "084bc7f0",
   "metadata": {},
   "outputs": [],
   "source": []
  },
  {
   "cell_type": "code",
   "execution_count": null,
   "id": "e75d577c",
   "metadata": {},
   "outputs": [],
   "source": []
  },
  {
   "cell_type": "code",
   "execution_count": null,
   "id": "c8db132f",
   "metadata": {},
   "outputs": [],
   "source": []
  }
 ],
 "metadata": {
  "kernelspec": {
   "display_name": "Python 3",
   "language": "python",
   "name": "python3"
  },
  "language_info": {
   "codemirror_mode": {
    "name": "ipython",
    "version": 3
   },
   "file_extension": ".py",
   "mimetype": "text/x-python",
   "name": "python",
   "nbconvert_exporter": "python",
   "pygments_lexer": "ipython3",
   "version": "3.8.12"
  },
  "nbTranslate": {
   "displayLangs": [
    "*"
   ],
   "hotkey": "alt-t",
   "langInMainMenu": true,
   "sourceLang": "en",
   "targetLang": "fr",
   "useGoogleTranslate": true
  },
  "toc": {
   "base_numbering": 1,
   "nav_menu": {},
   "number_sections": true,
   "sideBar": true,
   "skip_h1_title": false,
   "title_cell": "Table of Contents",
   "title_sidebar": "Contents",
   "toc_cell": false,
   "toc_position": {},
   "toc_section_display": true,
   "toc_window_display": false
  },
  "varInspector": {
   "cols": {
    "lenName": 16,
    "lenType": 16,
    "lenVar": 40
   },
   "kernels_config": {
    "python": {
     "delete_cmd_postfix": "",
     "delete_cmd_prefix": "del ",
     "library": "var_list.py",
     "varRefreshCmd": "print(var_dic_list())"
    },
    "r": {
     "delete_cmd_postfix": ") ",
     "delete_cmd_prefix": "rm(",
     "library": "var_list.r",
     "varRefreshCmd": "cat(var_dic_list()) "
    }
   },
   "types_to_exclude": [
    "module",
    "function",
    "builtin_function_or_method",
    "instance",
    "_Feature"
   ],
   "window_display": false
  }
 },
 "nbformat": 4,
 "nbformat_minor": 5
}
