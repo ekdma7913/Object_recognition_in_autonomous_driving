{
 "cells": [
  {
   "cell_type": "code",
   "execution_count": 243,
   "id": "e22d20c2",
   "metadata": {
    "ExecuteTime": {
     "end_time": "2022-03-07T08:16:06.570102Z",
     "start_time": "2022-03-07T08:16:06.566893Z"
    }
   },
   "outputs": [],
   "source": [
    "import cv2\n",
    "import sys\n",
    "import math\n",
    "import cv2 as cv\n",
    "import numpy as np"
   ]
  },
  {
   "cell_type": "code",
   "execution_count": 323,
   "id": "72ec4d7c",
   "metadata": {
    "ExecuteTime": {
     "end_time": "2022-03-08T02:21:51.945394Z",
     "start_time": "2022-03-08T02:21:50.599309Z"
    }
   },
   "outputs": [
    {
     "data": {
      "text/plain": [
       "-1"
      ]
     },
     "execution_count": 323,
     "metadata": {},
     "output_type": "execute_result"
    }
   ],
   "source": [
    "### 0. 이미지 불러오기\n",
    "#img = \"/Users/yu/tf39_test/실습/자율주행_신호등인식/train/데이터/차선_샘플/a.jpg\"\n",
    "img = \"/Users/yu/tf39_test/실습/자율주행_신호등인식/train/데이터/test/15790582.jpg\"\n",
    "A = cv2.imread(img, cv2.IMREAD_COLOR)\n",
    "\n",
    "cv2.imshow(\"A\",A)\n",
    "\n",
    "cv2.waitKey(0)\n",
    "cv2.destroyAllWindows()\n",
    "cv2.waitKey(1)"
   ]
  },
  {
   "cell_type": "code",
   "execution_count": 324,
   "id": "3d97dbce",
   "metadata": {
    "ExecuteTime": {
     "end_time": "2022-03-08T02:21:54.358024Z",
     "start_time": "2022-03-08T02:21:53.338128Z"
    }
   },
   "outputs": [
    {
     "data": {
      "text/plain": [
       "-1"
      ]
     },
     "execution_count": 324,
     "metadata": {},
     "output_type": "execute_result"
    }
   ],
   "source": [
    "# ROI 지정(중앙쪽으로) 1520*580\n",
    "A_roi = A.copy()\n",
    "\n",
    "X=200; Y=500; W=1520; H=580;\n",
    "A_roi = A_roi[Y:Y+H, X:X+W]\n",
    "\n",
    "cv2.imshow(\"A_roi\",A_roi)\n",
    "\n",
    "cv2.waitKey(0)\n",
    "cv2.destroyAllWindows()\n",
    "cv2.waitKey(1)"
   ]
  },
  {
   "cell_type": "code",
   "execution_count": 325,
   "id": "f328589a",
   "metadata": {
    "ExecuteTime": {
     "end_time": "2022-03-08T02:21:56.055988Z",
     "start_time": "2022-03-08T02:21:56.049599Z"
    }
   },
   "outputs": [
    {
     "data": {
      "text/plain": [
       "(580, 1520, 3)"
      ]
     },
     "execution_count": 325,
     "metadata": {},
     "output_type": "execute_result"
    }
   ],
   "source": [
    "A_roi.shape[:3]"
   ]
  },
  {
   "cell_type": "code",
   "execution_count": 326,
   "id": "4fedbf35",
   "metadata": {
    "ExecuteTime": {
     "end_time": "2022-03-08T02:21:59.176857Z",
     "start_time": "2022-03-08T02:21:58.112616Z"
    }
   },
   "outputs": [
    {
     "data": {
      "text/plain": [
       "-1"
      ]
     },
     "execution_count": 326,
     "metadata": {},
     "output_type": "execute_result"
    }
   ],
   "source": [
    "### 1. 차선 진행 방향 고려해서 roi 지정(사다리꼴)\n",
    "# roi 사다리꼴 마스크 설정\n",
    "mask1 = np.zeros(A_roi.shape[:3],dtype = np.uint8)\n",
    "\n",
    "polygon = np.array([[500,0],[1020,0],[1450,580],[70,580]])\n",
    "white = (255,255,255)\n",
    "\n",
    "mask1 = cv2.fillPoly(mask1,[polygon],white)\n",
    "\n",
    "cv2.imshow(\"mask1\",mask1)\n",
    "cv2.imshow(\"original\",A_roi)\n",
    "\n",
    "cv2.waitKey(0)\n",
    "cv2.destroyAllWindows()\n",
    "cv2.waitKey(1)"
   ]
  },
  {
   "cell_type": "code",
   "execution_count": 327,
   "id": "e271b1f7",
   "metadata": {
    "ExecuteTime": {
     "end_time": "2022-03-08T02:22:05.455655Z",
     "start_time": "2022-03-08T02:22:04.074261Z"
    }
   },
   "outputs": [
    {
     "data": {
      "text/plain": [
       "-1"
      ]
     },
     "execution_count": 327,
     "metadata": {},
     "output_type": "execute_result"
    }
   ],
   "source": [
    "# roi 사다리꼴 자르기\n",
    "a_copy = A_roi.copy()\n",
    "a_result = cv2.bitwise_and(a_copy, mask1)\n",
    "\n",
    "cv2.imshow('a_result',a_result) # 본래의 색인 마스크\n",
    "\n",
    "cv2.waitKey(0)\n",
    "cv2.destroyAllWindows()\n",
    "cv2.waitKey(1)"
   ]
  },
  {
   "cell_type": "code",
   "execution_count": 141,
   "id": "606caa46",
   "metadata": {
    "ExecuteTime": {
     "end_time": "2022-03-07T03:25:57.158495Z",
     "start_time": "2022-03-07T03:25:57.156163Z"
    }
   },
   "outputs": [],
   "source": [
    "### 2. hsv에서 흰색 차선 후보 검출, hsv에서 노랑색 차선 후보 검출"
   ]
  },
  {
   "cell_type": "code",
   "execution_count": 316,
   "id": "e11ff05e",
   "metadata": {
    "ExecuteTime": {
     "end_time": "2022-03-08T02:19:47.489344Z",
     "start_time": "2022-03-08T02:19:45.995741Z"
    }
   },
   "outputs": [
    {
     "data": {
      "text/plain": [
       "-1"
      ]
     },
     "execution_count": 316,
     "metadata": {},
     "output_type": "execute_result"
    }
   ],
   "source": [
    "## 노란색 부분 추출\n",
    "a = a_result.copy()\n",
    "# hsv 영역 전환\n",
    "a2 = cv2.cvtColor(a,cv2.COLOR_BGR2HSV)\n",
    "\n",
    "# hsv 색 범위 지정2\n",
    "low = (20, 20, 100)\n",
    "up = (31, 255, 255)\n",
    "\n",
    "a2_mask = cv2.inRange(a2, low, up)\n",
    "a2_result = cv2.bitwise_and(a,a, mask = a2_mask)\n",
    "\n",
    "cv2.imshow('color',a) # 원본\n",
    "cv2.imshow('mask',a2_mask) # 마스크\n",
    "cv2.imshow('result',a2_result) # 본래의 색인 마스크\n",
    "\n",
    "cv2.waitKey(0)\n",
    "cv2.destroyAllWindows()\n",
    "cv2.waitKey(1)"
   ]
  },
  {
   "cell_type": "code",
   "execution_count": 331,
   "id": "d7b93a24",
   "metadata": {
    "ExecuteTime": {
     "end_time": "2022-03-08T02:23:21.372459Z",
     "start_time": "2022-03-08T02:23:19.485536Z"
    }
   },
   "outputs": [
    {
     "data": {
      "text/plain": [
       "-1"
      ]
     },
     "execution_count": 331,
     "metadata": {},
     "output_type": "execute_result"
    }
   ],
   "source": [
    "## 흰색 부분 추출\n",
    "a = a_result.copy()\n",
    "# hsv 영역 전환\n",
    "a2 = cv2.cvtColor(a,cv2.COLOR_BGR2HSV)\n",
    "\n",
    "# bgr 색 범위 지정\n",
    "#low = (0, 255, 255)\n",
    "#up = (200, 255, 255)\n",
    "\n",
    "# hsv 색 범위 지정2\n",
    "low = (0, 0, 150)\n",
    "up = (250, 90, 250)\n",
    "\n",
    "a2_mask = cv2.inRange(a2, low, up)\n",
    "a2_result = cv2.bitwise_and(a,a, mask = a2_mask)\n",
    "\n",
    "cv2.imshow('color',a) # 원본\n",
    "cv2.imshow('mask',a2_mask) # 마스크\n",
    "cv2.imshow('result',a2_result) # 본래의 색인 마스크\n",
    "\n",
    "cv2.waitKey(0)\n",
    "cv2.destroyAllWindows()\n",
    "cv2.waitKey(1)"
   ]
  },
  {
   "cell_type": "code",
   "execution_count": 332,
   "id": "dcecbc76",
   "metadata": {
    "ExecuteTime": {
     "end_time": "2022-03-08T02:23:24.472544Z",
     "start_time": "2022-03-08T02:23:23.200835Z"
    }
   },
   "outputs": [
    {
     "data": {
      "text/plain": [
       "-1"
      ]
     },
     "execution_count": 332,
     "metadata": {},
     "output_type": "execute_result"
    }
   ],
   "source": [
    "### 3. 캐니 활용해서 윤곽선 드러내기\n",
    "# 캐니 추출\n",
    "\n",
    "a2_canny = cv2.Canny(a2_result, 50 , 150)\n",
    "\n",
    "cv2.imshow(\"a2_canny\",a2_canny)\n",
    "\n",
    "cv2.waitKey(0)\n",
    "cv2.destroyAllWindows()\n",
    "cv2.waitKey(1)"
   ]
  },
  {
   "cell_type": "code",
   "execution_count": null,
   "id": "c8c54892",
   "metadata": {},
   "outputs": [],
   "source": [
    "'''# 일반적 허프 선 변환\n",
    "src = a2_result\n",
    "dst = a2_canny\n",
    "cdst = cv.cvtColor(a2_canny, cv.COLOR_GRAY2BGR)\n",
    "\n",
    "cdstP = np.copy(cdst)\n",
    "\n",
    "lines = cv2.HoughLines(dst, 1, np.pi/180, 50, srn = 100, stn = 200, min_theta = 0, max_theta = np.pi)'''"
   ]
  },
  {
   "cell_type": "code",
   "execution_count": 255,
   "id": "48cc69ad",
   "metadata": {
    "ExecuteTime": {
     "end_time": "2022-03-07T08:21:54.284719Z",
     "start_time": "2022-03-07T08:21:52.962379Z"
    }
   },
   "outputs": [
    {
     "data": {
      "text/plain": [
       "-1"
      ]
     },
     "execution_count": 255,
     "metadata": {},
     "output_type": "execute_result"
    }
   ],
   "source": [
    "'''# 확률적 허프 선 변환\n",
    "src = a2_result\n",
    "dst = a2_canny\n",
    "cdst = cv.cvtColor(a2_canny, cv.COLOR_GRAY2BGR)\n",
    "\n",
    "cdstP = np.copy(cdst)\n",
    "\n",
    "linesP = cv.HoughLinesP(dst, 1, np.pi/180, 50, None, 50, 10)\n",
    "\n",
    "if linesP is not None:\n",
    "    for i in range(0, len(linesP)):\n",
    "        l = linesP[i][0]\n",
    "        cv.line(cdstP, (l[0], l[1]), (l[2], l[3]), (0, 0, 255), 2, cv.LINE_AA)\n",
    "        \n",
    "        \n",
    "cv.imshow(\"확률적 허프 선 변환\", cdstP)\n",
    "\n",
    "cv2.waitKey()\n",
    "cv2.destroyAllWindows()\n",
    "cv2.waitKey(1)'''"
   ]
  },
  {
   "cell_type": "code",
   "execution_count": null,
   "id": "57facd2a",
   "metadata": {},
   "outputs": [],
   "source": [
    "# img :\n",
    "# rho :\n",
    "# theta :\n",
    "# threshold : (점 임계값)\n",
    "# lines : 검출된 넘파이 배열 선 좌표들 (생략) None\n",
    "# minlinelength : (선 최소 길이)\n",
    "# maxLineGap : (선사이 최대 허용간격)"
   ]
  },
  {
   "cell_type": "code",
   "execution_count": 335,
   "id": "51db9726",
   "metadata": {
    "ExecuteTime": {
     "end_time": "2022-03-08T02:24:23.622450Z",
     "start_time": "2022-03-08T02:24:21.303081Z"
    }
   },
   "outputs": [
    {
     "data": {
      "text/plain": [
       "-1"
      ]
     },
     "execution_count": 335,
     "metadata": {},
     "output_type": "execute_result"
    }
   ],
   "source": [
    "### 4. 하프변환P로 차선 긋기\n",
    "# 검출된 데이터 없으면 오류 뜨므로 수정 요함\n",
    "r = []\n",
    "l = []\n",
    "src = a2_result\n",
    "dst = a2_canny\n",
    "cdst = cv.cvtColor(a2_canny, cv.COLOR_GRAY2BGR)\n",
    "\n",
    "cdstP = np.copy(cdst)\n",
    "\n",
    "linesP = cv2.HoughLinesP(dst, 1, np.pi/180, 50, None, 50, 10)\n",
    "#if linesP != None: 리스트에 데이터 없으면 오류나서 추가해야함 근데 데이터 있으면 오류남\n",
    "for a in linesP:\n",
    "    for b in a: # [] 가 두개 겹쳐있음\n",
    "        if (b[2]-b[0]) != 0: # 분모가 0이면 나눌 수 없어\n",
    "            radian = math.atan((b[3]-b[1])/(b[2]-b[0]))\n",
    "            degree = radian * 180 / math.pi\n",
    "            if degree >= 30 and degree <= 80: # 오른쪽\n",
    "                r.append(b)\n",
    "                cv2.line(cdstP, (b[0], b[1]), (b[2], b[3]), (0, 0, 255), 2, cv2.LINE_AA)\n",
    "            elif degree >= -80 and degree <= -30: # 왼쪽\n",
    "                l.append(b)\n",
    "                cv2.line(cdstP, (b[0], b[1]), (b[2], b[3]), (0, 0, 255), 2, cv2.LINE_AA)\n",
    "\n",
    "cv.imshow(\"houghP\", cdstP)\n",
    "\n",
    "cv2.waitKey()\n",
    "cv2.destroyAllWindows()\n",
    "cv2.waitKey(1)"
   ]
  },
  {
   "cell_type": "code",
   "execution_count": null,
   "id": "12623e94",
   "metadata": {},
   "outputs": [],
   "source": [
    "### 여기까지 하면 차선 양옆들 검출 성공"
   ]
  },
  {
   "cell_type": "code",
   "execution_count": 320,
   "id": "7dbc3030",
   "metadata": {
    "ExecuteTime": {
     "end_time": "2022-03-08T02:20:12.788698Z",
     "start_time": "2022-03-08T02:20:12.782650Z"
    }
   },
   "outputs": [
    {
     "data": {
      "text/plain": [
       "[]"
      ]
     },
     "execution_count": 320,
     "metadata": {},
     "output_type": "execute_result"
    }
   ],
   "source": [
    "# 확인\n",
    "r"
   ]
  },
  {
   "cell_type": "code",
   "execution_count": 321,
   "id": "623de428",
   "metadata": {
    "ExecuteTime": {
     "end_time": "2022-03-08T02:20:14.339089Z",
     "start_time": "2022-03-08T02:20:14.335173Z"
    }
   },
   "outputs": [
    {
     "data": {
      "text/plain": [
       "[]"
      ]
     },
     "execution_count": 321,
     "metadata": {},
     "output_type": "execute_result"
    }
   ],
   "source": [
    "# 확인2\n",
    "l"
   ]
  },
  {
   "cell_type": "code",
   "execution_count": 336,
   "id": "b107c956",
   "metadata": {
    "ExecuteTime": {
     "end_time": "2022-03-08T02:24:28.924913Z",
     "start_time": "2022-03-08T02:24:25.959867Z"
    }
   },
   "outputs": [
    {
     "data": {
      "text/plain": [
       "-1"
      ]
     },
     "execution_count": 336,
     "metadata": {},
     "output_type": "execute_result"
    }
   ],
   "source": [
    "### 5. roi 이미지에서 선그리기 (+각 선들 특징에 맞게 위치 저장)\n",
    "a_copy = A_roi.copy()\n",
    "\n",
    "# r 에서 x0 최소값이 있는 인덱스 i 찾기\n",
    "least = []\n",
    "for x in r:\n",
    "    least.append(x[0])\n",
    "    \n",
    "least_a = min(least)\n",
    "i = least.index(least_a)\n",
    "\n",
    "# r 에서 x0 최대값이 있는 인덱스 i2 찾기\n",
    "most_a = max(least)\n",
    "i2 = least.index(most_a)\n",
    "\n",
    "# l 에서 x1 최소값이 있는 인덱스 i3 찾기\n",
    "least2 = []\n",
    "for x in l:\n",
    "    least2.append(x[2])\n",
    "    \n",
    "least_b = min(least2)\n",
    "i3 = least2.index(least_b)\n",
    "\n",
    "# l 에서 x1 최대값이 있는 인덱스 i4 찾기  \n",
    "most_b = max(least2)\n",
    "i4 = least2.index(most_b)\n",
    "\n",
    "\n",
    "cv2.line(a_copy, (r[i][0], r[i][1]), (r[i][2], r[i][3]), (0, 0, 255), 2, cv2.LINE_AA)\n",
    "cv2.line(a_copy, (r[i2][0], r[i2][1]), (r[i2][2], r[i2][3]), (0, 0, 255), 2, cv2.LINE_AA)\n",
    "\n",
    "cv2.line(a_copy, (l[i3][0], l[i3][1]), (l[i3][2], l[i3][3]), (0, 0, 255), 2, cv2.LINE_AA)\n",
    "cv2.line(a_copy, (l[i4][0], l[i4][1]), (l[i4][2], l[i4][3]), (0, 0, 255), 2, cv2.LINE_AA)\n",
    "\n",
    "\n",
    "cv.imshow(\"a_copy\", a_copy)\n",
    "\n",
    "cv2.waitKey()\n",
    "cv2.destroyAllWindows()\n",
    "cv2.waitKey(1)"
   ]
  },
  {
   "cell_type": "code",
   "execution_count": 338,
   "id": "d19c63c1",
   "metadata": {
    "ExecuteTime": {
     "end_time": "2022-03-08T02:27:23.469140Z",
     "start_time": "2022-03-08T02:27:22.436756Z"
    }
   },
   "outputs": [
    {
     "data": {
      "text/plain": [
       "-1"
      ]
     },
     "execution_count": 338,
     "metadata": {},
     "output_type": "execute_result"
    }
   ],
   "source": [
    "### 6. l, r 선길게 4개 긋기\n",
    "a_copy2 = A_roi.copy()\n",
    "\n",
    "# 기울기 m\n",
    "# y절편 n\n",
    "\n",
    "## r\n",
    "m = (r[i][3]-r[i][1])/(r[i][2]-r[i][0])\n",
    "n = r[i][1] - (m * r[i][0])\n",
    "\n",
    "## r2\n",
    "m2 = (r[i2][3]-r[i2][1])/(r[i2][2]-r[i2][0])\n",
    "n2 = r[i2][1] - (m2 * r[i2][0])\n",
    "\n",
    "## l1\n",
    "m3 = (l[i3][3]-l[i3][1])/(l[i3][2]-l[i3][0])\n",
    "n3 = l[i3][1] - (m3 * l[i3][0])\n",
    "\n",
    "## l2\n",
    "m4 = (l[i4][3]-l[i4][1])/(l[i4][2]-l[i4][0])\n",
    "n4 = l[i4][1] - (m4 * l[i4][0])\n",
    "\n",
    "\n",
    "cv2.line(a_copy2, (int(-n/m), 0),(int((580-n)/m), 580), (0, 0, 255), 2, cv2.LINE_AA)\n",
    "cv2.line(a_copy2, (int(-n2/m2), 0),(int((580-n2)/m2), 580), (0, 0, 255), 2, cv2.LINE_AA)\n",
    "cv2.line(a_copy2, (int(-n3/m3), 0),(int((580-n3)/m3), 580), (0, 0, 255), 2, cv2.LINE_AA)\n",
    "cv2.line(a_copy2, (int(-n4/m4), 0),(int((580-n4)/m4), 580), (0, 0, 255), 2, cv2.LINE_AA)\n",
    "\n",
    "cv2.imshow(\"a_copy2\", a_copy2)\n",
    "\n",
    "cv2.waitKey()\n",
    "cv2.destroyAllWindows()\n",
    "cv2.waitKey(1)"
   ]
  },
  {
   "cell_type": "code",
   "execution_count": null,
   "id": "c75fe391",
   "metadata": {},
   "outputs": [],
   "source": [
    "### 하얀색, 노란색 차선 두개 합쳐서 출력필요\n",
    "\n"
   ]
  },
  {
   "cell_type": "code",
   "execution_count": null,
   "id": "4e69e438",
   "metadata": {},
   "outputs": [],
   "source": [
    "####### 테스트한 코드 영역 ##########"
   ]
  },
  {
   "cell_type": "code",
   "execution_count": 295,
   "id": "39ebdff8",
   "metadata": {
    "ExecuteTime": {
     "end_time": "2022-03-08T02:00:53.529663Z",
     "start_time": "2022-03-08T02:00:53.523042Z"
    }
   },
   "outputs": [
    {
     "name": "stdout",
     "output_type": "stream",
     "text": [
      "(1147, 420) (1220, 498)\n",
      "1.0684931506849316\n",
      "-805.5616438356165\n",
      "==========\n",
      "753.9230769230769\n",
      "1296.7435897435896\n",
      "==========\n",
      "(753, 0) (1296, 580)\n"
     ]
    }
   ],
   "source": [
    "'''print((r[i][0], r[i][1]), (r[i][2], r[i][3]))\n",
    "print(m)\n",
    "print(n)\n",
    "print(\"==========\")\n",
    "print(-n/m)\n",
    "print((580-n)/m)\n",
    "print(\"==========\")\n",
    "print((int(-n/m), 0),(int((580-n)/m), 580))'''"
   ]
  },
  {
   "cell_type": "code",
   "execution_count": 308,
   "id": "bebd63cd",
   "metadata": {
    "ExecuteTime": {
     "end_time": "2022-03-08T02:11:41.446492Z",
     "start_time": "2022-03-08T02:11:41.439760Z"
    }
   },
   "outputs": [
    {
     "name": "stdout",
     "output_type": "stream",
     "text": [
      "(1241, 467) (1303, 529)\n"
     ]
    },
    {
     "data": {
      "text/plain": [
       "'print(m3)\\nprint(n3)\\nprint(\"==========\")\\nprint(-n3/m3)\\nprint((580-n3)/m3)\\nprint(\"==========\")\\nprint((int(-n3/m3), 0),(int((580-n3)/m3), 580))'"
      ]
     },
     "execution_count": 308,
     "metadata": {},
     "output_type": "execute_result"
    }
   ],
   "source": [
    "'''print((r[i3][0], r[i3][1]), (r[i3][2], r[i3][3]))\n",
    "print(m3)\n",
    "print(n3)\n",
    "print(\"==========\")\n",
    "print(-n3/m3)\n",
    "print((580-n3)/m3)\n",
    "print(\"==========\")\n",
    "print((int(-n3/m3), 0),(int((580-n3)/m3), 580))'''"
   ]
  },
  {
   "cell_type": "code",
   "execution_count": 126,
   "id": "11a44eaa",
   "metadata": {
    "ExecuteTime": {
     "end_time": "2022-03-07T02:57:41.947223Z",
     "start_time": "2022-03-07T02:57:41.943420Z"
    }
   },
   "outputs": [
    {
     "name": "stdout",
     "output_type": "stream",
     "text": [
      "[array([261, 373, 342, 314], dtype=int32), array([249, 383, 349, 313], dtype=int32), array([284, 383, 367, 318], dtype=int32), array([290, 381, 375, 315], dtype=int32)]\n"
     ]
    }
   ],
   "source": [
    "# 다중 리스트에서 내림차순으로 정렬(다른 방법)\n",
    "\n",
    "'''l2 = l\n",
    "l2.sort(key=lambda x:x[2])\n",
    "print(l2)'''"
   ]
  },
  {
   "cell_type": "code",
   "execution_count": 100,
   "id": "d79bb561",
   "metadata": {
    "ExecuteTime": {
     "end_time": "2022-03-07T01:10:47.152618Z",
     "start_time": "2022-03-07T01:10:47.149188Z"
    }
   },
   "outputs": [
    {
     "name": "stdout",
     "output_type": "stream",
     "text": [
      "71.56505117707799\n"
     ]
    }
   ],
   "source": [
    "'''radian = math.atan(3)\n",
    "\n",
    "degree = radian * 180/ math.pi\n",
    "\n",
    "print(degree)'''"
   ]
  },
  {
   "cell_type": "code",
   "execution_count": 135,
   "id": "2d82e121",
   "metadata": {
    "ExecuteTime": {
     "end_time": "2022-03-07T01:41:17.339930Z",
     "start_time": "2022-03-07T01:41:17.323344Z"
    }
   },
   "outputs": [
    {
     "name": "stdout",
     "output_type": "stream",
     "text": [
      "32.929854510612074\n",
      "33.857110141660684\n",
      "35.06834668029092\n",
      "10.304846468766033\n",
      "22.976944503188754\n",
      "23.039435979903534\n",
      "23.334041276709776\n",
      "14.995079129175988\n",
      "22.12194197188185\n",
      "7.6668042618141765\n",
      "9.91494567847495\n",
      "34.91940201245768\n",
      "23.317708386755065\n",
      "23.19859051364819\n",
      "45.0\n",
      "10.304846468766033\n",
      "22.932100437589785\n",
      "12.030596096537868\n",
      "8.820379552021057\n",
      "10.738897100905442\n",
      "22.027278669171338\n",
      "11.093723011557849\n",
      "12.957580094093132\n",
      "32.92471141680646\n",
      "45.0\n",
      "18.758650347842234\n",
      "30.96375653207352\n",
      "-25.38790629109593\n",
      "8.488943880504715\n",
      "30.68517308959513\n",
      "25.615484320642167\n",
      "23.886499921634748\n",
      "9.090276920822323\n",
      "19.025606037568686\n",
      "10.88552705465874\n",
      "17.981429696964042\n",
      "21.39981013208223\n",
      "33.231711067979354\n",
      "24.19320898728877\n",
      "20.224859431168078\n",
      "11.768288932020647\n",
      "15.312818360806306\n",
      "12.724355685422369\n",
      "33.97046877601952\n",
      "-73.15068858817492\n",
      "10.823011226207099\n",
      "32.39984017391932\n",
      "29.623748751173814\n",
      "8.498558879493682\n",
      "-23.92250588301327\n",
      "-87.68627750217578\n",
      "15.524110996754256\n",
      "34.00749241973227\n",
      "25.13295499291334\n",
      "12.094757077012103\n",
      "45.0\n",
      "9.865806943084369\n",
      "11.976132444203357\n",
      "20.794114955503648\n",
      "21.974507991471967\n",
      "11.023455963743139\n",
      "36.02737338510361\n",
      "18.62786317645504\n",
      "43.70783311375008\n",
      "9.462322208025617\n",
      "12.528807709151511\n",
      "23.19859051364819\n",
      "9.97205768733109\n",
      "-86.28471089457123\n",
      "20.556045219583464\n",
      "5.29008120537127\n",
      "34.00749241973227\n",
      "45.0\n",
      "3.945186229037563\n",
      "0.0\n",
      "11.618524352794637\n",
      "6.654425046006596\n",
      "23.45902408146156\n",
      "11.129189289611185\n",
      "17.300527191945005\n",
      "25.80453239994712\n",
      "24.9739109058834\n",
      "10.823011226207099\n",
      "9.950626687951603\n",
      "24.904768808095184\n",
      "1.606002989282249\n",
      "-25.769327624338718\n",
      "15.945395900922856\n",
      "3.01278750418334\n",
      "-86.98721249581665\n",
      "1.0230301886678357\n",
      "26.83404347077447\n",
      "-26.56505117707799\n",
      "12.80426606528675\n",
      "-24.590117166196013\n",
      "32.61924307119283\n",
      "36.08507304285213\n",
      "25.97439396243132\n",
      "24.145541960421657\n",
      "33.17851165939275\n",
      "16.771223818630418\n",
      "-87.08916217383225\n",
      "-86.89664067825663\n",
      "10.88552705465874\n",
      "89.27477570094074\n",
      "-23.895161415070366\n",
      "86.96729738382302\n",
      "9.462322208025617\n",
      "-87.7974018382342\n",
      "15.172915345525261\n",
      "0.0\n",
      "20.738709147522215\n",
      "8.806792694435307\n",
      "17.85031830221683\n",
      "35.2420365586522\n",
      "-85.88509090176274\n",
      "9.090276920822323\n",
      "19.384515679357836\n",
      "12.171458208587474\n",
      "33.326289687115214\n",
      "34.930937301110575\n",
      "89.06080905426442\n",
      "22.932100437589785\n",
      "88.89829388479363\n",
      "46.153450451105364\n",
      "-15.945395900922856\n",
      "45.0\n",
      "34.76519723657679\n",
      "30.96375653207352\n",
      "3.8140748342903548\n",
      "19.384515679357836\n",
      "5.194428907734806\n",
      "26.16156644201924\n",
      "10.911128384283383\n",
      "45.0\n",
      "86.46770541610911\n",
      "12.724355685422369\n",
      "28.979707697928777\n",
      "5.59933933652057\n",
      "3.3664606634298013\n",
      "5.710593137499643\n",
      "23.68208772453845\n",
      "16.504361381755018\n",
      "4.927109947649014\n",
      "14.995079129175988\n",
      "11.129189289611185\n",
      "12.63336193527501\n",
      "16.990823291986167\n",
      "-87.19362974821175\n",
      "9.926245506651705\n",
      "11.093723011557849\n",
      "34.992020198558656\n",
      "-26.113912630290706\n",
      "27.758540601060027\n",
      "12.407418527400743\n",
      "6.054191894114834\n",
      "0.0\n",
      "-12.050784883409554\n",
      "9.833563964207116\n",
      "15.35013649242442\n",
      "31.087505323479984\n",
      "14.995079129175988\n",
      "13.240519915187205\n",
      "32.39984017391932\n",
      "11.14288985833932\n",
      "16.96614810853619\n",
      "12.094757077012103\n",
      "-77.95742485711502\n",
      "8.488943880504715\n",
      "13.34872711328738\n",
      "-84.89783474764182\n",
      "82.11686068327029\n",
      "87.97863505964398\n",
      "29.953608167801494\n",
      "11.888658039627973\n",
      "46.005086005254185\n",
      "46.332219853869645\n",
      "85.60129464500447\n",
      "19.72227776444705\n",
      "8.820379552021057\n",
      "15.35013649242442\n",
      "5.29008120537127\n",
      "-77.47119229084849\n",
      "32.39984017391932\n",
      "19.44003482817619\n",
      "0.0\n",
      "11.1130405359483\n",
      "-8.806792694435307\n",
      "40.135485562239474\n",
      "12.407418527400743\n",
      "84.49452214202165\n",
      "-84.61068824002659\n",
      "6.78897457443879\n",
      "13.781597235653624\n",
      "-80.40686573726967\n",
      "12.094757077012103\n",
      "6.709836807756933\n",
      "-76.89079180184571\n",
      "-25.253163394573882\n",
      "-73.14160123226172\n"
     ]
    }
   ],
   "source": [
    "'''for a in linesP:\n",
    "    for b in a: # [] 가 두개 겹쳐있음\n",
    "        radian = math.atan((b[3]-b[1])/(b[2]-b[0]))\n",
    "        degree = radian * 180 / math.pi\n",
    "        print(degree)'''"
   ]
  }
 ],
 "metadata": {
  "kernelspec": {
   "display_name": "Python 3 (ipykernel)",
   "language": "python",
   "name": "python3"
  },
  "language_info": {
   "codemirror_mode": {
    "name": "ipython",
    "version": 3
   },
   "file_extension": ".py",
   "mimetype": "text/x-python",
   "name": "python",
   "nbconvert_exporter": "python",
   "pygments_lexer": "ipython3",
   "version": "3.9.10"
  },
  "toc": {
   "base_numbering": 1,
   "nav_menu": {},
   "number_sections": true,
   "sideBar": true,
   "skip_h1_title": false,
   "title_cell": "Table of Contents",
   "title_sidebar": "Contents",
   "toc_cell": false,
   "toc_position": {},
   "toc_section_display": true,
   "toc_window_display": false
  },
  "varInspector": {
   "cols": {
    "lenName": 16,
    "lenType": 16,
    "lenVar": 40
   },
   "kernels_config": {
    "python": {
     "delete_cmd_postfix": "",
     "delete_cmd_prefix": "del ",
     "library": "var_list.py",
     "varRefreshCmd": "print(var_dic_list())"
    },
    "r": {
     "delete_cmd_postfix": ") ",
     "delete_cmd_prefix": "rm(",
     "library": "var_list.r",
     "varRefreshCmd": "cat(var_dic_list()) "
    }
   },
   "types_to_exclude": [
    "module",
    "function",
    "builtin_function_or_method",
    "instance",
    "_Feature"
   ],
   "window_display": false
  }
 },
 "nbformat": 4,
 "nbformat_minor": 5
}
