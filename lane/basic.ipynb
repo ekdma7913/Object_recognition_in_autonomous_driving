{
 "cells": [
  {
   "cell_type": "markdown",
   "id": "7e0241f1",
   "metadata": {},
   "source": [
    "# 이미지 크롭하여 저장"
   ]
  },
  {
   "cell_type": "code",
   "execution_count": 2,
   "id": "895d9782",
   "metadata": {
    "ExecuteTime": {
     "end_time": "2022-03-07T01:12:43.206092Z",
     "start_time": "2022-03-07T01:12:42.506487Z"
    }
   },
   "outputs": [],
   "source": [
    "import cv2\n",
    "import math\n",
    "import numpy as np\n",
    "import matplotlib.pyplot as plt\n",
    "import matplotlib.image as mpimg"
   ]
  },
  {
   "cell_type": "code",
   "execution_count": 25,
   "id": "da395e6d",
   "metadata": {
    "ExecuteTime": {
     "end_time": "2022-03-04T08:15:26.694003Z",
     "start_time": "2022-03-04T08:15:26.677061Z"
    }
   },
   "outputs": [],
   "source": [
    "# 파일 이름 숫자 설정\n",
    "count = 1\n",
    "\n",
    "# 파일 실행 후 결과 이미지 저장할 경로\n",
    "mask_path = './masked_img/'\n",
    "\n",
    "# mask_path로 지정한 폴더가 없을 시 폴더 생성\n",
    "if not os.path.isdir(mask_path):\n",
    "    os.mkdir('./masked_img')"
   ]
  },
  {
   "cell_type": "code",
   "execution_count": 26,
   "id": "e49f6f87",
   "metadata": {
    "ExecuteTime": {
     "end_time": "2022-03-04T08:15:27.126746Z",
     "start_time": "2022-03-04T08:15:27.115781Z"
    }
   },
   "outputs": [],
   "source": [
    "def lane(img):\n",
    "    global count\n",
    "    ## 파일 불러오기\n",
    "    img = cv2.imread(img, cv2.IMREAD_COLOR)\n",
    "    img2 = img.copy()\n",
    "    \n",
    "    ## 차선 부분 추출\n",
    "    # BGR -> HSV 영역 전환\n",
    "    img2_hsv = cv2.cvtColor(img2, cv2.COLOR_BGR2HSV)\n",
    "    \n",
    "    # 색 범위 지정\n",
    "    low = (0, 0, 200)\n",
    "    up = (250, 90, 250)\n",
    "    \n",
    "    img2_mask = cv2.inRange(img2_hsv, low, up)\n",
    "    img2_result = cv2.bitwise_and(img2, img, mask = img2_mask)\n",
    "\n",
    "    # 관심영역 설정\n",
    "    region = np.array([[(200, 1080),\n",
    "                                     (900, 400),\n",
    "                                     (1100, 400),                                \n",
    "                                    (1920, 1080)]], dtype = np.int64)\n",
    "\n",
    "    # 까만 배경\n",
    "    mask = np.zeros_like(img)\n",
    "    \n",
    "    # 구역 설정\n",
    "    cv2.fillPoly(mask, region, 255)\n",
    "    \n",
    "    # 최종 이미지\n",
    "    masked_img = cv2.bitwise_and(img2_result, mask)\n",
    "    \n",
    "    # 이미지 파일 저장\n",
    "    cv2.imwrite(mask_path+str(count) + '.jpg', masked_img)\n",
    "    \n",
    "    count = count + 1"
   ]
  },
  {
   "cell_type": "code",
   "execution_count": 28,
   "id": "b4c3b49f",
   "metadata": {
    "ExecuteTime": {
     "end_time": "2022-03-04T08:16:31.896042Z",
     "start_time": "2022-03-04T08:15:36.377153Z"
    }
   },
   "outputs": [],
   "source": [
    "for i in range(1, 13):\n",
    "    path = './img/img' + str(i)+'/'\n",
    "    for j in os.listdir(path):\n",
    "        lane(path+j)"
   ]
  },
  {
   "cell_type": "markdown",
   "id": "a767673f",
   "metadata": {},
   "source": [
    "# 허프변환"
   ]
  },
  {
   "cell_type": "code",
   "execution_count": 111,
   "id": "c4c79842",
   "metadata": {
    "ExecuteTime": {
     "end_time": "2022-03-07T02:43:04.776725Z",
     "start_time": "2022-03-07T02:43:04.759783Z"
    }
   },
   "outputs": [
    {
     "data": {
      "text/plain": [
       "'\\n\\n허프변환 기본, linesp가 훨씬 정확하므로 일단 주석처리\\n\\nsrc = cv2.imread(\"./day_img/day_example4.jpg\")\\ndst = src.copy()\\nblur = cv2.GaussianBlur(dst, (1, 3), 0)\\ncanny = cv2.Canny(blur, 10, 100)\\nlines = cv2.HoughLines(canny, 0.8, np.pi, 150, srn = 100, stn = 200, min_theta = 10, max_theta = 20)\\n\\nfor i in lines:\\n    rho, theta = i[0][0], i[0][1]\\n    a, b = np.cos(theta), np.sin(theta)\\n    x0, y0 = a*rho, b*rho\\n\\n    scale = src.shape[0] + src.shape[1]\\n\\n    x1 = int(x0 + scale * -b)\\n    y1 = int(y0 + scale * a)\\n    x2 = int(x0 - scale * -b)\\n    y2 = int(y0 - scale * a)\\n\\n    cv2.line(dst, (x1, y1), (x2, y2), (0, 0, 255), 2)\\n    cv2.circle(dst, (x0, y0), 3, (255, 0, 0), 5, cv2.FILLED)\\n\\ncv2.imshow(\"dst\", dst)\\ncv2.waitKey(0)\\ncv2.destroyAllWindows()\\n'"
      ]
     },
     "execution_count": 111,
     "metadata": {},
     "output_type": "execute_result"
    }
   ],
   "source": [
    "\"\"\"\n",
    "\n",
    "허프변환 기본, linesp가 훨씬 정확하므로 일단 주석처리\n",
    "\n",
    "src = cv2.imread(\"./day_img/day_example4.jpg\")\n",
    "dst = src.copy()\n",
    "blur = cv2.GaussianBlur(dst, (1, 3), 0)\n",
    "canny = cv2.Canny(blur, 10, 100)\n",
    "lines = cv2.HoughLines(canny, 0.8, np.pi, 150, srn = 100, stn = 200, min_theta = 10, max_theta = 20)\n",
    "\n",
    "for i in lines:\n",
    "    rho, theta = i[0][0], i[0][1]\n",
    "    a, b = np.cos(theta), np.sin(theta)\n",
    "    x0, y0 = a*rho, b*rho\n",
    "\n",
    "    scale = src.shape[0] + src.shape[1]\n",
    "\n",
    "    x1 = int(x0 + scale * -b)\n",
    "    y1 = int(y0 + scale * a)\n",
    "    x2 = int(x0 - scale * -b)\n",
    "    y2 = int(y0 - scale * a)\n",
    "\n",
    "    cv2.line(dst, (x1, y1), (x2, y2), (0, 0, 255), 2)\n",
    "    cv2.circle(dst, (x0, y0), 3, (255, 0, 0), 5, cv2.FILLED)\n",
    "\n",
    "cv2.imshow(\"dst\", dst)\n",
    "cv2.waitKey(0)\n",
    "cv2.destroyAllWindows()\n",
    "\"\"\""
   ]
  },
  {
   "cell_type": "code",
   "execution_count": 112,
   "id": "6ebc73f0",
   "metadata": {
    "ExecuteTime": {
     "end_time": "2022-03-07T02:43:07.480979Z",
     "start_time": "2022-03-07T02:43:05.180035Z"
    }
   },
   "outputs": [],
   "source": [
    "img = cv2.imread(\"./masked_img/1.jpg\") # 이미지 로드\n",
    "edges = cv2.Canny(img, 50, 300, apertureSize = 3) # canny edge\n",
    "\n",
    "\"\"\"\n",
    "추가적으로 필요한지는 의문이라 일단 주석처리\n",
    "\n",
    "gray = cv2.cvtColor(edges, cv2.COLOR_GRAY2BGR) # gray scale\n",
    "\"\"\"\n",
    "\"\"\"\n",
    "HoughLinesP 설명\n",
    "\n",
    "cv2.HoughLinesP(image, rho, theta, threshold, lines = None, minLineLength = None, maxLineGap = None)\n",
    "image = 불러올 이미지\n",
    "rho = ρ값을 한번에 얼만큼 증가시키면서 조사할 것인지. 보통 1로 설정, 0.1~1로 설정 가능, \n",
    "theta = 단위는 라디안(각도(0~180) *  pi/180), 한번에 얼만큼 증가시키면서 조사할 것인지, 기본은 np.pi/180(0~360 설정가능) \n",
    "threshold = 인식할 임계값 설정\n",
    "lines = 선분의 시작과 끝 좌표를 담고 있는 np.array형태의 데이터를 넣어야 함, None으로 설정해도 상관없음\n",
    "minLineLength = 인식할 라인의 최소길이(픽셀단위)\n",
    "maxLineGap = 선분간 얼마나 떨어져 있어도 인식할지 최대길이 지정(픽셀단위), 점 사이가 이 값보다 크면 다른 선으로 간주\n",
    "\"\"\"\n",
    "\n",
    "lines = cv2.HoughLinesP(edges, 1, np.pi/180, 45, lines = None, minLineLength = 20, maxLineGap = 3)\n",
    "for i in range(len(lines)): # for문으로 모든 선에 HoughLinesP 적용\n",
    "    for x1,y1,x2,y2 in lines[i]:\n",
    "        cv2.line(img,(x1,y1),(x2,y2),(0,0,255),3)\n",
    "\n",
    "\n",
    "cv2.imshow('img1',img)\n",
    "cv2.waitKey(0)\n",
    "cv2.destroyAllWindows()"
   ]
  },
  {
   "cell_type": "code",
   "execution_count": null,
   "id": "c5208836",
   "metadata": {},
   "outputs": [],
   "source": []
  },
  {
   "cell_type": "code",
   "execution_count": null,
   "id": "933d523a",
   "metadata": {},
   "outputs": [],
   "source": []
  }
 ],
 "metadata": {
  "kernelspec": {
   "display_name": "Python 3",
   "language": "python",
   "name": "python3"
  },
  "language_info": {
   "codemirror_mode": {
    "name": "ipython",
    "version": 3
   },
   "file_extension": ".py",
   "mimetype": "text/x-python",
   "name": "python",
   "nbconvert_exporter": "python",
   "pygments_lexer": "ipython3",
   "version": "3.8.12"
  },
  "nbTranslate": {
   "displayLangs": [
    "*"
   ],
   "hotkey": "alt-t",
   "langInMainMenu": true,
   "sourceLang": "en",
   "targetLang": "fr",
   "useGoogleTranslate": true
  },
  "toc": {
   "base_numbering": 1,
   "nav_menu": {},
   "number_sections": true,
   "sideBar": true,
   "skip_h1_title": false,
   "title_cell": "Table of Contents",
   "title_sidebar": "Contents",
   "toc_cell": false,
   "toc_position": {},
   "toc_section_display": true,
   "toc_window_display": false
  },
  "varInspector": {
   "cols": {
    "lenName": 16,
    "lenType": 16,
    "lenVar": 40
   },
   "kernels_config": {
    "python": {
     "delete_cmd_postfix": "",
     "delete_cmd_prefix": "del ",
     "library": "var_list.py",
     "varRefreshCmd": "print(var_dic_list())"
    },
    "r": {
     "delete_cmd_postfix": ") ",
     "delete_cmd_prefix": "rm(",
     "library": "var_list.r",
     "varRefreshCmd": "cat(var_dic_list()) "
    }
   },
   "types_to_exclude": [
    "module",
    "function",
    "builtin_function_or_method",
    "instance",
    "_Feature"
   ],
   "window_display": false
  }
 },
 "nbformat": 4,
 "nbformat_minor": 5
}
