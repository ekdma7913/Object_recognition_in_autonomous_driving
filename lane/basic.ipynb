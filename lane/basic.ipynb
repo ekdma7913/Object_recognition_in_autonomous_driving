{
 "cells": [
  {
   "cell_type": "code",
   "execution_count": 3,
   "id": "895d9782",
   "metadata": {
    "ExecuteTime": {
     "end_time": "2022-03-03T09:02:55.333247Z",
     "start_time": "2022-03-03T09:02:54.776982Z"
    }
   },
   "outputs": [],
   "source": [
    "import cv2\n",
    "import math\n",
    "import numpy as np\n",
    "import matplotlib.pyplot as plt\n",
    "import matplotlib.image as mpimg"
   ]
  },
  {
   "cell_type": "code",
   "execution_count": 12,
   "id": "5fd55153",
   "metadata": {
    "ExecuteTime": {
     "end_time": "2022-03-03T09:12:00.731412Z",
     "start_time": "2022-03-03T09:11:53.190570Z"
    }
   },
   "outputs": [
    {
     "name": "stderr",
     "output_type": "stream",
     "text": [
      "C:\\Users\\YeChan\\AppData\\Local\\Temp/ipykernel_22296/2931281074.py:20: DeprecationWarning: an integer is required (got type numpy.float32).  Implicit conversion to integers using __int__ is deprecated, and may be removed in a future version of Python.\n",
      "  cv2.circle(dst, (x0, y0), 3, (255, 0, 0), 5, cv2.FILLED)\n"
     ]
    }
   ],
   "source": [
    "src = cv2.imread(\"./day_img/day_example4.jpg\")\n",
    "dst = src.copy()\n",
    "blur = cv2.GaussianBlur(dst, (1, 3), 0)\n",
    "canny = cv2.Canny(blur, 10, 100)\n",
    "lines = cv2.HoughLines(canny, 0.8, np.pi, 150, srn = 100, stn = 200, min_theta = 10, max_theta = 20)\n",
    "\n",
    "for i in lines:\n",
    "    rho, theta = i[0][0], i[0][1]\n",
    "    a, b = np.cos(theta), np.sin(theta)\n",
    "    x0, y0 = a*rho, b*rho\n",
    "\n",
    "    scale = src.shape[0] + src.shape[1]\n",
    "\n",
    "    x1 = int(x0 + scale * -b)\n",
    "    y1 = int(y0 + scale * a)\n",
    "    x2 = int(x0 - scale * -b)\n",
    "    y2 = int(y0 - scale * a)\n",
    "\n",
    "    cv2.line(dst, (x1, y1), (x2, y2), (0, 0, 255), 2)\n",
    "    cv2.circle(dst, (x0, y0), 3, (255, 0, 0), 5, cv2.FILLED)\n",
    "\n",
    "cv2.imshow(\"dst\", dst)\n",
    "cv2.waitKey(0)\n",
    "cv2.destroyAllWindows()"
   ]
  },
  {
   "cell_type": "code",
   "execution_count": null,
   "id": "6ebc73f0",
   "metadata": {},
   "outputs": [],
   "source": []
  },
  {
   "cell_type": "code",
   "execution_count": null,
   "id": "c5208836",
   "metadata": {},
   "outputs": [],
   "source": []
  }
 ],
 "metadata": {
  "kernelspec": {
   "display_name": "Python 3",
   "language": "python",
   "name": "python3"
  },
  "language_info": {
   "codemirror_mode": {
    "name": "ipython",
    "version": 3
   },
   "file_extension": ".py",
   "mimetype": "text/x-python",
   "name": "python",
   "nbconvert_exporter": "python",
   "pygments_lexer": "ipython3",
   "version": "3.8.12"
  },
  "nbTranslate": {
   "displayLangs": [
    "*"
   ],
   "hotkey": "alt-t",
   "langInMainMenu": true,
   "sourceLang": "en",
   "targetLang": "fr",
   "useGoogleTranslate": true
  },
  "toc": {
   "base_numbering": 1,
   "nav_menu": {},
   "number_sections": true,
   "sideBar": true,
   "skip_h1_title": false,
   "title_cell": "Table of Contents",
   "title_sidebar": "Contents",
   "toc_cell": false,
   "toc_position": {},
   "toc_section_display": true,
   "toc_window_display": false
  },
  "varInspector": {
   "cols": {
    "lenName": 16,
    "lenType": 16,
    "lenVar": 40
   },
   "kernels_config": {
    "python": {
     "delete_cmd_postfix": "",
     "delete_cmd_prefix": "del ",
     "library": "var_list.py",
     "varRefreshCmd": "print(var_dic_list())"
    },
    "r": {
     "delete_cmd_postfix": ") ",
     "delete_cmd_prefix": "rm(",
     "library": "var_list.r",
     "varRefreshCmd": "cat(var_dic_list()) "
    }
   },
   "types_to_exclude": [
    "module",
    "function",
    "builtin_function_or_method",
    "instance",
    "_Feature"
   ],
   "window_display": false
  }
 },
 "nbformat": 4,
 "nbformat_minor": 5
}
