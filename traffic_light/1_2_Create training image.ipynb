{
 "cells": [
  {
   "cell_type": "markdown",
   "id": "99adb75e",
   "metadata": {},
   "source": [
    "# 자율주행을 위한 3구 가로 신호등 인식하기\n",
    "  \n",
    "\n",
    "**3구 가로 신호등 데이터 조건**\n",
    "- class = 'traffic_light'  \n",
    "- type = 'car'  \n",
    "- direction = 'horizontal'  \n",
    "- light_count = '3'"
   ]
  },
  {
   "cell_type": "markdown",
   "id": "a3857f20",
   "metadata": {},
   "source": [
    "### 패키지 임포트"
   ]
  },
  {
   "cell_type": "code",
   "execution_count": 1,
   "id": "dc46f7fa",
   "metadata": {},
   "outputs": [],
   "source": [
    "import json\n",
    "import pandas as pd\n",
    "import os\n",
    "from PIL import Image\n",
    "import matplotlib.pyplot as plt\n",
    "import cv2"
   ]
  },
  {
   "cell_type": "code",
   "execution_count": 2,
   "id": "8a7c0544",
   "metadata": {},
   "outputs": [],
   "source": [
    "# value값으로 key값 찾기\n",
    "def find_key(dict, val):\n",
    "    keys = []\n",
    "    for key, value in dict.items():\n",
    "        if value == val:\n",
    "            keys.append(key)\n",
    "    return keys\n",
    "    # return [key for key, value in dict.items() if value == val]\n",
    "    # return next(key for key, value in dict.items() if value == val)"
   ]
  },
  {
   "cell_type": "code",
   "execution_count": 3,
   "id": "baea0ff1",
   "metadata": {},
   "outputs": [],
   "source": [
    "# color가 두개 이상 on인 경우나 on이 없을 경우 설정\n",
    "def color_on(color_list):\n",
    "    color_len = len(color_list)\n",
    "    if color_len >= 2:\n",
    "        for c in color_list:\n",
    "            if c == 'red' or c == 'green' or c == 'yellow':\n",
    "                pass\n",
    "            else:\n",
    "                return c\n",
    "    elif color_len == 1:\n",
    "        return color_list[0]\n",
    "    elif color_len == 0:\n",
    "        return 'light_off'"
   ]
  },
  {
   "cell_type": "markdown",
   "id": "9933d722",
   "metadata": {},
   "source": [
    "### 신호등 이미지 잘라서 저장하기"
   ]
  },
  {
   "cell_type": "code",
   "execution_count": 16,
   "id": "86f32cf1",
   "metadata": {},
   "outputs": [],
   "source": [
    "light = [] # 3구 신호등만 담을 리스트\n",
    "\n",
    "filepath = \"trainingData/training/train_daylight_8_label\"    # json 경로\n",
    "imagepath = \"trainingData/training/train_daylight_8_image\"    # 이미지 경로\n",
    "\n",
    "# json 경로\n",
    "classes = os.listdir(filepath)\n",
    "\n",
    "# 색상 저장할 상위 폴더\n",
    "dir_path = './data_color_8'\n",
    "# dir_path 폴더 없으면 생성\n",
    "if os.path.isdir(dir_path) == False:\n",
    "    os.mkdir(dir_path)\n",
    "\n",
    "    \n",
    "for i, cls in enumerate(classes):\n",
    "#     print(\"Openinig \" + cls + \"/\")\n",
    "\n",
    "    image_cnt = 0 # 이미지 저장할때 순번쓰려고 변수 선언\n",
    "    \n",
    "    data =  json.load(open(filepath + \"/\" + cls))\n",
    "    df = pd.DataFrame(data[\"annotation\"])\n",
    "    \n",
    "    # 이렇게 하나씩 조건문 걸어서 해줘야해요? 왜 컬럼이 없고 난리세요,, 뭐 다른 방법 없나요?\n",
    "    if not df.empty:\n",
    "        # 신호등만 (도로표지판 걸러)\n",
    "        filter1 = (df['class'] == 'traffic_light')\n",
    "        df = df[filter1]\n",
    "        \n",
    "        if not df.empty:\n",
    "            # 자동차 신호등만 (보행자 신호등 걸러)\n",
    "            filter2 = (df['type'] == 'car')\n",
    "            df = df[filter2]\n",
    "            \n",
    "            if not df.empty:\n",
    "                # 3구 신호등만\n",
    "                filter3 = (df['light_count'] == '3')\n",
    "                df = df[filter3]\n",
    "                \n",
    "                if not df.empty:\n",
    "                    # 가로 신호등만 (세로 걸러)\n",
    "                    filter4 = (df['direction'] == 'horizontal')\n",
    "                    df = df[filter4]\n",
    "                    \n",
    "                    light.append(cls) # 필터링된 3구 가로 신호등 리스트에 담기\n",
    "                    \n",
    "                    # 이미지 가져오기\n",
    "                    name = (os.path.splitext(cls))[0]    # json 확장자 빼기\n",
    "                    image1 = name + \".jpg\"\n",
    "                    image = Image.open(imagepath + '/' + image1)\n",
    "                    \n",
    "                    \n",
    "                    for j in range(len(df['box'])):\n",
    "                        image_cnt += 1\n",
    "                        box = df['box'][j:j+1]\n",
    "                        \n",
    "                        # 박스 좌표 가져오기\n",
    "                        x = box.str.get(0)\n",
    "                        y = box.str.get(1)\n",
    "                        w = box.str.get(2)\n",
    "                        h = box.str.get(3)\n",
    "                        \n",
    "                        # 이미지 영역 자르기\n",
    "                        croppedImage = image.crop((x, y, w, h))\n",
    "                        \n",
    "                        for attr in df['attribute'][j:j+1].str.get(0):\n",
    "                            try: \n",
    "                                color = find_key(attr, 'on')    # value값으로 key값 찾는 함수 호출\n",
    "                            except: # 신호등에 불이 다 꺼져있을 경우\n",
    "                                color = ['light_off']\n",
    "                                \n",
    "                        color = color_on(color)\n",
    "                        if color == None:\n",
    "                            color = 'light_off'\n",
    "                        \n",
    "                        # 신호등 색깔 폴더 경로\n",
    "                        folder_path = dir_path + '/' + color\n",
    "\n",
    "                        # 폴더 없으면 생성\n",
    "                        if os.path.isdir(folder_path) == False:\n",
    "                            os.mkdir(folder_path)\n",
    "\n",
    "                        # 이미지 폴더에 저장\n",
    "                        croppedImage.save(folder_path + '/' + name + \"_\" + str(image_cnt) + '.jpg', format = None)\n",
    "                        \n",
    "                    "
   ]
  },
  {
   "cell_type": "code",
   "execution_count": null,
   "id": "757dcb3c",
   "metadata": {},
   "outputs": [],
   "source": []
  },
  {
   "cell_type": "code",
   "execution_count": null,
   "id": "a4adfb61",
   "metadata": {},
   "outputs": [],
   "source": []
  },
  {
   "cell_type": "code",
   "execution_count": null,
   "id": "eaebfd51",
   "metadata": {},
   "outputs": [],
   "source": []
  },
  {
   "cell_type": "code",
   "execution_count": null,
   "id": "324d9dde",
   "metadata": {},
   "outputs": [],
   "source": []
  },
  {
   "cell_type": "code",
   "execution_count": null,
   "id": "8d0e6e13",
   "metadata": {},
   "outputs": [],
   "source": []
  },
  {
   "cell_type": "code",
   "execution_count": null,
   "id": "7b67bed8",
   "metadata": {},
   "outputs": [],
   "source": []
  },
  {
   "cell_type": "code",
   "execution_count": null,
   "id": "2b510946",
   "metadata": {},
   "outputs": [],
   "source": []
  },
  {
   "cell_type": "code",
   "execution_count": 8,
   "id": "d2fb90ac",
   "metadata": {
    "scrolled": true
   },
   "outputs": [
    {
     "data": {
      "text/html": [
       "<div>\n",
       "<style scoped>\n",
       "    .dataframe tbody tr th:only-of-type {\n",
       "        vertical-align: middle;\n",
       "    }\n",
       "\n",
       "    .dataframe tbody tr th {\n",
       "        vertical-align: top;\n",
       "    }\n",
       "\n",
       "    .dataframe thead th {\n",
       "        text-align: right;\n",
       "    }\n",
       "</style>\n",
       "<table border=\"1\" class=\"dataframe\">\n",
       "  <thead>\n",
       "    <tr style=\"text-align: right;\">\n",
       "      <th></th>\n",
       "      <th>box</th>\n",
       "      <th>attribute</th>\n",
       "      <th>type</th>\n",
       "      <th>class</th>\n",
       "      <th>direction</th>\n",
       "    </tr>\n",
       "  </thead>\n",
       "  <tbody>\n",
       "    <tr>\n",
       "      <th>0</th>\n",
       "      <td>[1008, 506, 1024, 513]</td>\n",
       "      <td>[{'red': 'off', 'green': 'off', 'x_light': 'of...</td>\n",
       "      <td>car</td>\n",
       "      <td>traffic_light</td>\n",
       "      <td>horizontal</td>\n",
       "    </tr>\n",
       "    <tr>\n",
       "      <th>1</th>\n",
       "      <td>[974, 507, 990, 512]</td>\n",
       "      <td>[{'red': 'off', 'green': 'off', 'x_light': 'of...</td>\n",
       "      <td>car</td>\n",
       "      <td>traffic_light</td>\n",
       "      <td>horizontal</td>\n",
       "    </tr>\n",
       "  </tbody>\n",
       "</table>\n",
       "</div>"
      ],
      "text/plain": [
       "                      box                                          attribute  \\\n",
       "0  [1008, 506, 1024, 513]  [{'red': 'off', 'green': 'off', 'x_light': 'of...   \n",
       "1    [974, 507, 990, 512]  [{'red': 'off', 'green': 'off', 'x_light': 'of...   \n",
       "\n",
       "  type          class   direction  \n",
       "0  car  traffic_light  horizontal  \n",
       "1  car  traffic_light  horizontal  "
      ]
     },
     "execution_count": 8,
     "metadata": {},
     "output_type": "execute_result"
    }
   ],
   "source": [
    "#data = pd.read_json('./data/training/label_daylight/daylight/s01000200.json')\n",
    "data = json.load(open('./trainingData/training/train_daylight_4_label/15391373.json'))\n",
    "df = pd.DataFrame(data[\"annotation\"])\n",
    "df"
   ]
  },
  {
   "cell_type": "code",
   "execution_count": null,
   "id": "cdeaef95",
   "metadata": {},
   "outputs": [],
   "source": []
  },
  {
   "cell_type": "code",
   "execution_count": null,
   "id": "fe7ec7bb",
   "metadata": {},
   "outputs": [],
   "source": []
  },
  {
   "cell_type": "code",
   "execution_count": null,
   "id": "ee79b78f",
   "metadata": {},
   "outputs": [],
   "source": []
  },
  {
   "cell_type": "code",
   "execution_count": null,
   "id": "791a3f2d",
   "metadata": {},
   "outputs": [],
   "source": []
  },
  {
   "cell_type": "code",
   "execution_count": null,
   "id": "078a9b02",
   "metadata": {},
   "outputs": [],
   "source": []
  },
  {
   "cell_type": "code",
   "execution_count": null,
   "id": "b746b982",
   "metadata": {},
   "outputs": [],
   "source": []
  },
  {
   "cell_type": "code",
   "execution_count": null,
   "id": "c8e17d0f",
   "metadata": {},
   "outputs": [],
   "source": []
  },
  {
   "cell_type": "code",
   "execution_count": null,
   "id": "2c0236fc",
   "metadata": {},
   "outputs": [],
   "source": []
  }
 ],
 "metadata": {
  "kernelspec": {
   "display_name": "Python 3 (ipykernel)",
   "language": "python",
   "name": "python3"
  },
  "language_info": {
   "codemirror_mode": {
    "name": "ipython",
    "version": 3
   },
   "file_extension": ".py",
   "mimetype": "text/x-python",
   "name": "python",
   "nbconvert_exporter": "python",
   "pygments_lexer": "ipython3",
   "version": "3.8.1"
  }
 },
 "nbformat": 4,
 "nbformat_minor": 5
}
