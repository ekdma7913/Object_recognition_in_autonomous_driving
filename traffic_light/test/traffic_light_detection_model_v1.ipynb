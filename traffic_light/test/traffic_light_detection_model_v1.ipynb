{
 "cells": [
  {
   "cell_type": "markdown",
   "id": "1ab833f2",
   "metadata": {},
   "source": [
    "# 필요한 패키지 임포트"
   ]
  },
  {
   "cell_type": "code",
   "execution_count": 1,
   "id": "93c7aad1",
   "metadata": {
    "ExecuteTime": {
     "end_time": "2022-03-03T06:22:55.187493Z",
     "start_time": "2022-03-03T06:22:51.321455Z"
    }
   },
   "outputs": [],
   "source": [
    "import os\n",
    "import cv2\n",
    "import numpy as np\n",
    "import random\n",
    "from PIL import Image\n",
    "\n",
    "from matplotlib import pyplot as plt\n",
    "from tensorflow import keras\n",
    "import tensorflow as tf"
   ]
  },
  {
   "cell_type": "code",
   "execution_count": 2,
   "id": "2ff8f833",
   "metadata": {
    "ExecuteTime": {
     "end_time": "2022-03-03T05:36:52.301891Z",
     "start_time": "2022-03-03T05:36:51.588169Z"
    }
   },
   "outputs": [
    {
     "name": "stdout",
     "output_type": "stream",
     "text": [
      "['negative', 'positive']\n"
     ]
    }
   ],
   "source": [
    "## 이미지 불러와서 이미지 크기를 임의의 크기 으로 이미지 리사이즈\n",
    "all_folders = os.listdir(\"./TrafficLightImage/\")\n",
    "print(all_folders)\n",
    "\n",
    "# positive, negative\n",
    "for x in all_folders:\n",
    "    path = 'TrafficLightImage/' + x + '/' \n",
    "    file_list = os.listdir(path) # 폴더 하나마다 들어있는 파일들 리스트 저장\n",
    "\n",
    "    for A in file_list:\n",
    "        if A == \".DS_Store\":\n",
    "            continue\n",
    "        img = cv2.imread(path + A)\n",
    "        res = cv2.resize(img, dsize = (45, 15), interpolation = cv2.INTER_CUBIC)\n",
    "        cv2.imwrite(path + A, res)"
   ]
  },
  {
   "cell_type": "code",
   "execution_count": 3,
   "id": "b3d27fcf",
   "metadata": {
    "ExecuteTime": {
     "end_time": "2022-03-03T05:36:54.572490Z",
     "start_time": "2022-03-03T05:36:54.566915Z"
    }
   },
   "outputs": [
    {
     "name": "stdout",
     "output_type": "stream",
     "text": [
      "['negative', 'positive']\n"
     ]
    }
   ],
   "source": [
    "c = os.listdir(\"TrafficLightImage\")\n",
    "\n",
    "print(c) # 0,1 지정할 때 순서 확인"
   ]
  },
  {
   "cell_type": "code",
   "execution_count": 4,
   "id": "1229a9b5",
   "metadata": {
    "ExecuteTime": {
     "end_time": "2022-03-03T05:36:55.239812Z",
     "start_time": "2022-03-03T05:36:55.221901Z"
    }
   },
   "outputs": [],
   "source": [
    "class Data():\n",
    "    def __init__(self):\n",
    "        \n",
    "        self.train_x = []\n",
    "        self.train_y = []\n",
    "        self.test_x = []\n",
    "        self.test_y = []\n",
    "        \n",
    "        self.images()\n",
    "        \n",
    "    def images(self):\n",
    "        data = []\n",
    "        classes = os.listdir(\"TrafficLightImage\")\n",
    "        \n",
    "        if \".DS_Store\" in classes:\n",
    "            classes.remove(\".DS_Store\")\n",
    "            \n",
    "        for i, light in enumerate(classes): # negative : 0, positive : 1\n",
    "            print(i, light)\n",
    "            PATH = os.listdir(\"TrafficLightImage/\" + light)\n",
    "            \n",
    "            if \".DS_Store\" in PATH:\n",
    "                PATH.remove(\".DS_Store\")\n",
    "                \n",
    "            for x in PATH:\n",
    "                img = Image.open(\"TrafficLightImage/\"+ light + \"/\" + x)\n",
    "                data.append((np.asarray(img),i))\n",
    "                img.close()\n",
    "                \n",
    "        random.shuffle(data)\n",
    "        \n",
    "        # 데이터 분할\n",
    "        for i in range(len(data)):\n",
    "            if i < 0.7 * len(data):\n",
    "                self.train_x.append(data[i][0])\n",
    "                self.train_y.append(data[i][1])\n",
    "            else:\n",
    "                self.test_x.append(data[i][0])\n",
    "                self.test_y.append(data[i][1])\n",
    "                \n",
    "        self.train_x = (np.asarray(self.train_x) - np.min(self.train_x, axis = 0)) / (np.max(self.train_x, axis = 0) - np.min(self.train_x, axis = 0))\n",
    "        self.train_y = np.asarray(self.train_y)\n",
    "        \n",
    "        self.test_x = (np.asarray(self.test_x) - np.min(self.test_x, axis = 0)) / (np.max(self.test_x, axis = 0) - np.min(self.test_x, axis = 0))\n",
    "        self.test_y = np.asarray(self.test_y)\n",
    "        \n",
    "        print(\"train x size : \" + str(self.train_x.shape))\n",
    "        print(\"train y size : \" + str(self.train_y.shape))\n",
    "        print(\"test x size : \" + str(self.test_x.shape))\n",
    "        print(\"test y size : \" + str(self.test_y.shape))\n",
    "        \n",
    "    def draw_graph(history):\n",
    "        train_history = history.history[\"loss\"]\n",
    "        validation_history = history.history[\"val_loss\"]\n",
    "        fig = plt.figure(figsize = (8, 8))\n",
    "        plt.title(\"Loss History\")\n",
    "        plt.xlabel(\"EPOCH\")\n",
    "        plt.ylabel(\"LOSS Function\")\n",
    "        plt.plot(train_history, \"red\")\n",
    "        plt.plot(validation_history, 'blue')\n",
    "        # fig.savefig(\"train_history.png\")\n",
    "\n",
    "        train_history = history.history[\"accuracy\"]\n",
    "        validation_history = history.history[\"val_accuracy\"]\n",
    "        fig = plt.figure(figsize = (8, 8))\n",
    "        plt.title(\"Accuracy History\")\n",
    "        plt.xlabel(\"EPOCH\")\n",
    "        plt.ylabel(\"Accuracy\")\n",
    "        plt.plot(train_history, \"red\")\n",
    "        plt.plot(validation_history, 'blue')\n",
    "        # fig.savefig(\"accuracy_history.png\")\n",
    "        "
   ]
  },
  {
   "cell_type": "code",
   "execution_count": 5,
   "id": "7dc33f18",
   "metadata": {
    "ExecuteTime": {
     "end_time": "2022-03-03T06:20:32.447609Z",
     "start_time": "2022-03-03T06:20:32.161213Z"
    },
    "scrolled": false
   },
   "outputs": [
    {
     "name": "stdout",
     "output_type": "stream",
     "text": [
      "0 negative\n",
      "1 positive\n",
      "train x size : (9278, 15, 45, 3)\n",
      "train y size : (9278,)\n",
      "test x size : (3976, 15, 45, 3)\n",
      "test y size : (3976,)\n"
     ]
    }
   ],
   "source": [
    "A = Data()"
   ]
  },
  {
   "cell_type": "code",
   "execution_count": 6,
   "id": "fa47d02c",
   "metadata": {
    "ExecuteTime": {
     "end_time": "2022-03-03T06:20:34.057265Z",
     "start_time": "2022-03-03T06:20:34.036663Z"
    }
   },
   "outputs": [],
   "source": [
    "model = keras.Sequential([\n",
    "    keras.layers.Conv2D(16, (5, 5), activation = \"relu\"),\n",
    "    keras.layers.MaxPooling2D((2, 2)),\n",
    "    keras.layers.Dropout(0.3),\n",
    "    \n",
    "    keras.layers.Conv2D(32, (3, 3), activation = \"relu\"),\n",
    "    keras.layers.MaxPooling2D((2, 2)),\n",
    "    keras.layers.Dropout(0.3),\n",
    "    \n",
    "    keras.layers.Flatten(),\n",
    "    \n",
    "    keras.layers.Dense(128, activation = \"relu\"),\n",
    "    keras.layers.Dropout(0.2),\n",
    "    keras.layers.Dense(64, activation = \"relu\"),\n",
    "    keras.layers.Dropout(0.2),\n",
    "    keras.layers.Dense(32, activation = \"relu\"),\n",
    "    keras.layers.Dropout(0.2),\n",
    "    \n",
    "    keras.layers.Dense(2, activation = \"softmax\")\n",
    "])"
   ]
  },
  {
   "cell_type": "code",
   "execution_count": 7,
   "id": "d9e29521",
   "metadata": {
    "ExecuteTime": {
     "end_time": "2022-03-03T06:20:34.435302Z",
     "start_time": "2022-03-03T06:20:34.427659Z"
    }
   },
   "outputs": [],
   "source": [
    "model.compile(optimizer = keras.optimizers.Adam(learning_rate = 0.001),\n",
    "              metrics = [\"accuracy\"], \n",
    "              loss = \"sparse_categorical_crossentropy\")"
   ]
  },
  {
   "cell_type": "code",
   "execution_count": 8,
   "id": "67fba07d",
   "metadata": {
    "ExecuteTime": {
     "end_time": "2022-03-03T06:20:34.883281Z",
     "start_time": "2022-03-03T06:20:34.880355Z"
    }
   },
   "outputs": [],
   "source": [
    "Epochs = 20"
   ]
  },
  {
   "cell_type": "code",
   "execution_count": 9,
   "id": "4b2a8138",
   "metadata": {},
   "outputs": [],
   "source": [
    "early_stop = keras.callbacks.EarlyStopping(monitor = 'val_loss', patience = 10)"
   ]
  },
  {
   "cell_type": "code",
   "execution_count": 10,
   "id": "6d1f9534",
   "metadata": {
    "ExecuteTime": {
     "end_time": "2022-03-03T06:20:47.205356Z",
     "start_time": "2022-03-03T06:20:36.499949Z"
    }
   },
   "outputs": [
    {
     "name": "stdout",
     "output_type": "stream",
     "text": [
      "Epoch 1/20\n",
      "145/145 [==============================] - 2s 13ms/step - loss: 0.4716 - accuracy: 0.7698 - val_loss: 0.1138 - val_accuracy: 0.9668\n",
      "Epoch 2/20\n",
      "145/145 [==============================] - 2s 12ms/step - loss: 0.1441 - accuracy: 0.9525 - val_loss: 0.0595 - val_accuracy: 0.9816\n",
      "Epoch 3/20\n",
      "145/145 [==============================] - 2s 12ms/step - loss: 0.0917 - accuracy: 0.9715 - val_loss: 0.0457 - val_accuracy: 0.9849\n",
      "Epoch 4/20\n",
      "145/145 [==============================] - 2s 12ms/step - loss: 0.0818 - accuracy: 0.9742 - val_loss: 0.0426 - val_accuracy: 0.9847\n",
      "Epoch 5/20\n",
      "145/145 [==============================] - 2s 12ms/step - loss: 0.0786 - accuracy: 0.9728 - val_loss: 0.0404 - val_accuracy: 0.9869\n",
      "Epoch 6/20\n",
      "145/145 [==============================] - 2s 12ms/step - loss: 0.0670 - accuracy: 0.9779 - val_loss: 0.0329 - val_accuracy: 0.9904\n",
      "Epoch 7/20\n",
      "145/145 [==============================] - 2s 12ms/step - loss: 0.0634 - accuracy: 0.9791 - val_loss: 0.0303 - val_accuracy: 0.9912\n",
      "Epoch 8/20\n",
      "145/145 [==============================] - 2s 12ms/step - loss: 0.0553 - accuracy: 0.9819 - val_loss: 0.0279 - val_accuracy: 0.9914\n",
      "Epoch 9/20\n",
      "145/145 [==============================] - 2s 12ms/step - loss: 0.0547 - accuracy: 0.9821 - val_loss: 0.0345 - val_accuracy: 0.9907\n",
      "Epoch 10/20\n",
      "145/145 [==============================] - 2s 12ms/step - loss: 0.0563 - accuracy: 0.9815 - val_loss: 0.0279 - val_accuracy: 0.9914\n",
      "Epoch 11/20\n",
      "145/145 [==============================] - 2s 12ms/step - loss: 0.0467 - accuracy: 0.9845 - val_loss: 0.0268 - val_accuracy: 0.9920\n",
      "Epoch 12/20\n",
      "145/145 [==============================] - 2s 12ms/step - loss: 0.0450 - accuracy: 0.9852 - val_loss: 0.0243 - val_accuracy: 0.9940\n",
      "Epoch 13/20\n",
      "145/145 [==============================] - 2s 12ms/step - loss: 0.0433 - accuracy: 0.9865 - val_loss: 0.0263 - val_accuracy: 0.9930\n",
      "Epoch 14/20\n",
      "145/145 [==============================] - 2s 12ms/step - loss: 0.0423 - accuracy: 0.9866 - val_loss: 0.0239 - val_accuracy: 0.9930\n",
      "Epoch 15/20\n",
      "145/145 [==============================] - 2s 13ms/step - loss: 0.0403 - accuracy: 0.9858 - val_loss: 0.0217 - val_accuracy: 0.9927\n",
      "Epoch 16/20\n",
      "145/145 [==============================] - 2s 13ms/step - loss: 0.0356 - accuracy: 0.9874 - val_loss: 0.0211 - val_accuracy: 0.9930\n",
      "Epoch 17/20\n",
      "145/145 [==============================] - 2s 12ms/step - loss: 0.0396 - accuracy: 0.9879 - val_loss: 0.0247 - val_accuracy: 0.9920\n",
      "Epoch 18/20\n",
      "145/145 [==============================] - 2s 12ms/step - loss: 0.0360 - accuracy: 0.9874 - val_loss: 0.0299 - val_accuracy: 0.9879\n",
      "Epoch 19/20\n",
      "145/145 [==============================] - 2s 12ms/step - loss: 0.0338 - accuracy: 0.9885 - val_loss: 0.0214 - val_accuracy: 0.9940\n",
      "Epoch 20/20\n",
      "145/145 [==============================] - 2s 12ms/step - loss: 0.0360 - accuracy: 0.9878 - val_loss: 0.0198 - val_accuracy: 0.9950\n"
     ]
    }
   ],
   "source": [
    "history = model.fit(A.train_x, A.train_y, \n",
    "                    epochs = Epochs,\n",
    "                    batch_size = 64,\n",
    "                    validation_data = (A.test_x, A.test_y),\n",
    "                    callbacks = [early_stop]\n",
    "                    )"
   ]
  },
  {
   "cell_type": "code",
   "execution_count": 11,
   "id": "19b09c62",
   "metadata": {
    "ExecuteTime": {
     "end_time": "2022-03-03T06:20:48.822796Z",
     "start_time": "2022-03-03T06:20:48.658793Z"
    },
    "scrolled": false
   },
   "outputs": [
    {
     "data": {
      "image/png": "[encoded data removed]",
      "text/plain": [
       "<Figure size 576x576 with 1 Axes>"
      ]
     },
     "metadata": {
      "needs_background": "light"
     },
     "output_type": "display_data"
    },
    {
     "data": {
      "image/png": "[encoded data removed]",
      "text/plain": [
       "<Figure size 576x576 with 1 Axes>"
      ]
     },
     "metadata": {
      "needs_background": "light"
     },
     "output_type": "display_data"
    }
   ],
   "source": [
    "Data.draw_graph(history)"
   ]
  },
  {
   "cell_type": "code",
   "execution_count": 16,
   "id": "5a6fd7a6",
   "metadata": {
    "ExecuteTime": {
     "end_time": "2022-03-03T06:20:58.684878Z",
     "start_time": "2022-03-03T06:20:58.644702Z"
    }
   },
   "outputs": [],
   "source": [
    "# 모델 저장\n",
    "model.save(\"traffic_light_detection_v7.h5\")   "
   ]
  },
  {
   "cell_type": "code",
   "execution_count": 17,
   "id": "3f0f3ce0",
   "metadata": {},
   "outputs": [],
   "source": [
    "# 모델 불러오기"
   ]
  },
  {
   "cell_type": "code",
   "execution_count": 18,
   "id": "caaf0227",
   "metadata": {
    "ExecuteTime": {
     "end_time": "2022-03-03T06:22:56.131771Z",
     "start_time": "2022-03-03T06:22:55.914421Z"
    }
   },
   "outputs": [],
   "source": [
    "model = tf.keras.models.load_model('traffic_light_detection_v7.h5')\n",
    "\n",
    "# traffic_light_detection_v4 괜찮음"
   ]
  },
  {
   "cell_type": "code",
   "execution_count": 19,
   "id": "10498028",
   "metadata": {
    "ExecuteTime": {
     "end_time": "2022-03-03T06:23:54.755461Z",
     "start_time": "2022-03-03T06:23:54.750026Z"
    },
    "scrolled": false
   },
   "outputs": [
    {
     "name": "stdout",
     "output_type": "stream",
     "text": [
      "Model: \"sequential\"\n",
      "_________________________________________________________________\n",
      " Layer (type)                Output Shape              Param #   \n",
      "=================================================================\n",
      " conv2d (Conv2D)             (None, 11, 41, 32)        2432      \n",
      "                                                                 \n",
      " max_pooling2d (MaxPooling2D  (None, 5, 20, 32)        0         \n",
      " )                                                               \n",
      "                                                                 \n",
      " dropout (Dropout)           (None, 5, 20, 32)         0         \n",
      "                                                                 \n",
      " conv2d_1 (Conv2D)           (None, 3, 18, 64)         18496     \n",
      "                                                                 \n",
      " max_pooling2d_1 (MaxPooling  (None, 1, 9, 64)         0         \n",
      " 2D)                                                             \n",
      "                                                                 \n",
      " dropout_1 (Dropout)         (None, 1, 9, 64)          0         \n",
      "                                                                 \n",
      " flatten (Flatten)           (None, 576)               0         \n",
      "                                                                 \n",
      " dense (Dense)               (None, 128)               73856     \n",
      "                                                                 \n",
      " dropout_2 (Dropout)         (None, 128)               0         \n",
      "                                                                 \n",
      " dense_1 (Dense)             (None, 64)                8256      \n",
      "                                                                 \n",
      " dropout_3 (Dropout)         (None, 64)                0         \n",
      "                                                                 \n",
      " dense_2 (Dense)             (None, 32)                2080      \n",
      "                                                                 \n",
      " dropout_4 (Dropout)         (None, 32)                0         \n",
      "                                                                 \n",
      " dense_3 (Dense)             (None, 2)                 66        \n",
      "                                                                 \n",
      "=================================================================\n",
      "Total params: 105,186\n",
      "Trainable params: 105,186\n",
      "Non-trainable params: 0\n",
      "_________________________________________________________________\n"
     ]
    }
   ],
   "source": [
    "model.summary()"
   ]
  },
  {
   "cell_type": "code",
   "execution_count": 20,
   "id": "f5af29b7",
   "metadata": {
    "ExecuteTime": {
     "end_time": "2022-03-03T06:23:07.330542Z",
     "start_time": "2022-03-03T06:23:07.300038Z"
    }
   },
   "outputs": [],
   "source": [
    "Path2 = 'data_2/all/'\n",
    "file_list = os.listdir(Path2)\n",
    "\n",
    "if \".DS_Store\" in file_list:\n",
    "    file_list.remove(\".DS_Store\")\n",
    "\n",
    "data2 = []\n",
    "\n",
    "for A in file_list:\n",
    "    if A == \".DS_Store\":\n",
    "        continue\n",
    "        \n",
    "    img2 = cv2.imread(Path2 + A)\n",
    "    res2 = cv2.resize(img2, dsize = (45, 15), interpolation = cv2.INTER_CUBIC)\n",
    "    cv2.imwrite(Path2 + A, res2)\n",
    "    \n",
    "for A in file_list:\n",
    "    if A == \".DS_Store\":\n",
    "        continue\n",
    "        \n",
    "    img3 = Image.open(Path2 + A)\n",
    "    data2.append(np.array(img3))\n",
    "    img3.close()"
   ]
  },
  {
   "cell_type": "code",
   "execution_count": 21,
   "id": "3345fb31",
   "metadata": {
    "ExecuteTime": {
     "end_time": "2022-03-03T06:23:17.784642Z",
     "start_time": "2022-03-03T06:23:17.781330Z"
    }
   },
   "outputs": [],
   "source": [
    "data2 = np.asarray(data2) / 255.0"
   ]
  },
  {
   "cell_type": "code",
   "execution_count": 22,
   "id": "1396c1bf",
   "metadata": {
    "ExecuteTime": {
     "end_time": "2022-03-03T06:23:18.349635Z",
     "start_time": "2022-03-03T06:23:18.185250Z"
    }
   },
   "outputs": [],
   "source": [
    "prediction = model.predict(data2)"
   ]
  },
  {
   "cell_type": "code",
   "execution_count": 23,
   "id": "bf0c546b",
   "metadata": {
    "ExecuteTime": {
     "end_time": "2022-03-03T06:23:24.966919Z",
     "start_time": "2022-03-03T06:23:24.961615Z"
    },
    "scrolled": true
   },
   "outputs": [
    {
     "name": "stdout",
     "output_type": "stream",
     "text": [
      "0번째 신호등: 13649663_1.jpg : positive\n",
      "1번째 신호등: 13668147_134.jpg : negative\n",
      "3번째 신호등: 13668147_151.jpg : negative\n",
      "4번째 신호등: 13681518_172.jpg : negative\n",
      "5번째 신호등: 15430669_2.jpg : positive\n",
      "6번째 신호등: 15436551_1.jpg : positive\n",
      "7번째 신호등: 227331.jpg : positive\n",
      "8번째 신호등: 227332.jpg : negative\n",
      "9번째 신호등: 227333.jpg : negative\n",
      "10번째 신호등: 227334.jpg : negative\n",
      "11번째 신호등: 227335.jpg : negative\n",
      "12번째 신호등: 227336.jpg : negative\n",
      "13번째 신호등: 227337.jpg : negative\n",
      "14번째 신호등: 227338.jpg : negative\n",
      "15번째 신호등: 227339.jpg : negative\n",
      "16번째 신호등: 227340.jpg : negative\n",
      "17번째 신호등: 2348.jpg : positive\n",
      "18번째 신호등: 2349.jpg : positive\n",
      "19번째 신호등: 24349.jpg : positive\n",
      "20번째 신호등: 24350.jpg : negative\n",
      "21번째 신호등: 24351.jpg : negative\n",
      "22번째 신호등: 24352.jpg : negative\n",
      "23번째 신호등: 24353.jpg : negative\n",
      "24번째 신호등: 24354.jpg : negative\n",
      "25번째 신호등: 24355.jpg : negative\n",
      "26번째 신호등: 24356.jpg : negative\n",
      "27번째 신호등: 24357.jpg : negative\n",
      "28번째 신호등: 24358.jpg : negative\n",
      "29번째 신호등: 24359.jpg : negative\n",
      "30번째 신호등: 79464.jpg : negative\n",
      "31번째 신호등: 79465.jpg : positive\n",
      "32번째 신호등: 81324.jpg : negative\n",
      "33번째 신호등: 81325.jpg : negative\n",
      "34번째 신호등: 81326.jpg : negative\n",
      "35번째 신호등: 81327.jpg : negative\n",
      "36번째 신호등: 81328.jpg : negative\n",
      "37번째 신호등: 81329.jpg : negative\n",
      "38번째 신호등: 81330.jpg : negative\n",
      "39번째 신호등: 81331.jpg : negative\n",
      "40번째 신호등: 81332.jpg : negative\n",
      "41번째 신호등: 81333.jpg : negative\n",
      "42번째 신호등: 81334.jpg : negative\n",
      "43번째 신호등: 81335.jpg : negative\n",
      "44번째 신호등: 81336.jpg : negative\n",
      "45번째 신호등: 81337.jpg : negative\n",
      "46번째 신호등: 81338.jpg : positive\n",
      "47번째 신호등: 81339.jpg : negative\n",
      "48번째 신호등: 81340.jpg : positive\n",
      "49번째 신호등: 81341.jpg : positive\n",
      "50번째 신호등: frame0_19.jpg : negative\n",
      "51번째 신호등: frame14_24.jpg : positive\n",
      "52번째 신호등: frame17_32.jpg : negative\n",
      "53번째 신호등: frame18_36.jpg : negative\n",
      "54번째 신호등: frame1_6.jpg : negative\n",
      "55번째 신호등: frame1_7.jpg : negative\n",
      "56번째 신호등: frame1_8.jpg : negative\n",
      "57번째 신호등: frame1_9.jpg : negative\n",
      "58번째 신호등: frame29_719.jpg : negative\n",
      "59번째 신호등: frame34_215.jpg : positive\n",
      "60번째 신호등: frame34_216.jpg : positive\n",
      "61번째 신호등: frame35_223.jpg : negative\n",
      "62번째 신호등: frame35_948.jpg : negative\n",
      "63번째 신호등: frame35_953.jpg : negative\n",
      "64번째 신호등: frame3_149.jpg : negative\n",
      "65번째 신호등: frame3_150.jpg : negative\n",
      "66번째 신호등: frame52_441.jpg : negative\n",
      "67번째 신호등: frame52_442.jpg : negative\n",
      "68번째 신호등: frame54_477.jpg : negative\n",
      "69번째 신호등: frame54_478.jpg : positive\n",
      "70번째 신호등: frame56_495.jpg : negative\n",
      "71번째 신호등: frame57_510.jpg : negative\n",
      "72번째 신호등: frame66_1982.jpg : negative\n",
      "73번째 신호등: frame67_1989.jpg : negative\n",
      "74번째 신호등: frame6_526.jpg : negative\n",
      "75번째 신호등: frame9_670.jpg : negative\n"
     ]
    }
   ],
   "source": [
    "light_order = {0 : \"negative\", 1 : \"positive\"}\n",
    "\n",
    "for i,x in enumerate(prediction):\n",
    "    count = 0\n",
    "    for y in x:\n",
    "        if y > 0.90:\n",
    "            count += 1\n",
    "    if count > 0:\n",
    "        print(str(i)+\"번째 신호등: \" + file_list[i] + \" : \" + light_order[np.argmax(x)])"
   ]
  },
  {
   "cell_type": "code",
   "execution_count": null,
   "id": "aa5b69db",
   "metadata": {},
   "outputs": [],
   "source": []
  },
  {
   "cell_type": "code",
   "execution_count": null,
   "id": "9f728edd",
   "metadata": {},
   "outputs": [],
   "source": []
  },
  {
   "cell_type": "code",
   "execution_count": null,
   "id": "8966e09c",
   "metadata": {},
   "outputs": [],
   "source": []
  },
  {
   "cell_type": "markdown",
   "id": "3270b4f6",
   "metadata": {},
   "source": [
    "# 이미지랑 같이 출력"
   ]
  },
  {
   "cell_type": "code",
   "execution_count": 24,
   "id": "aac06221",
   "metadata": {
    "scrolled": false
   },
   "outputs": [
    {
     "name": "stdout",
     "output_type": "stream",
     "text": [
      "0.0036740727\n",
      "0.9963259\n",
      "0번째 신호등: 13649663_1.jpg : positive\n"
     ]
    },
    {
     "data": {
      "image/png": "[encoded data removed]",
      "text/plain": [
       "<Figure size 216x144 with 1 Axes>"
      ]
     },
     "metadata": {
      "needs_background": "light"
     },
     "output_type": "display_data"
    },
    {
     "name": "stdout",
     "output_type": "stream",
     "text": [
      "=================================================\n",
      "0.9998294\n",
      "0.00017053698\n",
      "1번째 신호등: 13668147_134.jpg : negative\n"
     ]
    },
    {
     "data": {
      "image/png": "[encoded data removed]",
      "text/plain": [
       "<Figure size 216x144 with 1 Axes>"
      ]
     },
     "metadata": {
      "needs_background": "light"
     },
     "output_type": "display_data"
    },
    {
     "name": "stdout",
     "output_type": "stream",
     "text": [
      "=================================================\n",
      "0.37310022\n",
      "0.6268997\n",
      "Unknown\n"
     ]
    },
    {
     "data": {
      "image/png": "[encoded data removed]",
      "text/plain": [
       "<Figure size 216x144 with 1 Axes>"
      ]
     },
     "metadata": {
      "needs_background": "light"
     },
     "output_type": "display_data"
    },
    {
     "name": "stdout",
     "output_type": "stream",
     "text": [
      "=================================================\n",
      "0.99923396\n",
      "0.000766076\n",
      "3번째 신호등: 13668147_151.jpg : negative\n"
     ]
    },
    {
     "data": {
      "image/png": "[encoded data removed]",
      "text/plain": [
       "<Figure size 216x144 with 1 Axes>"
      ]
     },
     "metadata": {
      "needs_background": "light"
     },
     "output_type": "display_data"
    },
    {
     "name": "stdout",
     "output_type": "stream",
     "text": [
      "=================================================\n",
      "0.9999949\n",
      "5.14023e-06\n",
      "4번째 신호등: 13681518_172.jpg : negative\n"
     ]
    },
    {
     "data": {
      "image/png": "[encoded data removed]",
      "text/plain": [
       "<Figure size 216x144 with 1 Axes>"
      ]
     },
     "metadata": {
      "needs_background": "light"
     },
     "output_type": "display_data"
    },
    {
     "name": "stdout",
     "output_type": "stream",
     "text": [
      "=================================================\n",
      "4.821843e-07\n",
      "0.9999995\n",
      "5번째 신호등: 15430669_2.jpg : positive\n"
     ]
    },
    {
     "data": {
      "image/png": "[encoded data removed]",
      "text/plain": [
       "<Figure size 216x144 with 1 Axes>"
      ]
     },
     "metadata": {
      "needs_background": "light"
     },
     "output_type": "display_data"
    },
    {
     "name": "stdout",
     "output_type": "stream",
     "text": [
      "=================================================\n",
      "0.0003182398\n",
      "0.99968183\n",
      "6번째 신호등: 15436551_1.jpg : positive\n"
     ]
    },
    {
     "data": {
      "image/png": "[encoded data removed]",
      "text/plain": [
       "<Figure size 216x144 with 1 Axes>"
      ]
     },
     "metadata": {
      "needs_background": "light"
     },
     "output_type": "display_data"
    },
    {
     "name": "stdout",
     "output_type": "stream",
     "text": [
      "=================================================\n",
      "0.009822424\n",
      "0.9901776\n",
      "7번째 신호등: 227331.jpg : positive\n"
     ]
    },
    {
     "data": {
      "image/png": "[encoded data removed]",
      "text/plain": [
       "<Figure size 216x144 with 1 Axes>"
      ]
     },
     "metadata": {
      "needs_background": "light"
     },
     "output_type": "display_data"
    },
    {
     "name": "stdout",
     "output_type": "stream",
     "text": [
      "=================================================\n",
      "0.99941754\n",
      "0.0005824941\n",
      "8번째 신호등: 227332.jpg : negative\n"
     ]
    },
    {
     "data": {
      "image/png": "[encoded data removed]",
      "text/plain": [
       "<Figure size 216x144 with 1 Axes>"
      ]
     },
     "metadata": {
      "needs_background": "light"
     },
     "output_type": "display_data"
    },
    {
     "name": "stdout",
     "output_type": "stream",
     "text": [
      "=================================================\n",
      "0.99999726\n",
      "2.6871612e-06\n",
      "9번째 신호등: 227333.jpg : negative\n"
     ]
    },
    {
     "data": {
      "image/png": "[encoded data removed]",
      "text/plain": [
       "<Figure size 216x144 with 1 Axes>"
      ]
     },
     "metadata": {
      "needs_background": "light"
     },
     "output_type": "display_data"
    },
    {
     "name": "stdout",
     "output_type": "stream",
     "text": [
      "=================================================\n",
      "0.9997191\n",
      "0.0002809134\n",
      "10번째 신호등: 227334.jpg : negative\n"
     ]
    },
    {
     "data": {
      "image/png": "[encoded data removed]",
      "text/plain": [
       "<Figure size 216x144 with 1 Axes>"
      ]
     },
     "metadata": {
      "needs_background": "light"
     },
     "output_type": "display_data"
    },
    {
     "name": "stdout",
     "output_type": "stream",
     "text": [
      "=================================================\n",
      "0.9999523\n",
      "4.765792e-05\n",
      "11번째 신호등: 227335.jpg : negative\n"
     ]
    },
    {
     "data": {
      "image/png": "[encoded data removed]",
      "text/plain": [
       "<Figure size 216x144 with 1 Axes>"
      ]
     },
     "metadata": {
      "needs_background": "light"
     },
     "output_type": "display_data"
    },
    {
     "name": "stdout",
     "output_type": "stream",
     "text": [
      "=================================================\n",
      "0.99998236\n",
      "1.7627353e-05\n",
      "12번째 신호등: 227336.jpg : negative\n"
     ]
    },
    {
     "data": {
      "image/png": "[encoded data removed]",
      "text/plain": [
       "<Figure size 216x144 with 1 Axes>"
      ]
     },
     "metadata": {
      "needs_background": "light"
     },
     "output_type": "display_data"
    },
    {
     "name": "stdout",
     "output_type": "stream",
     "text": [
      "=================================================\n",
      "0.9999391\n",
      "6.0969483e-05\n",
      "13번째 신호등: 227337.jpg : negative\n"
     ]
    },
    {
     "data": {
      "image/png": "[encoded data removed]",
      "text/plain": [
       "<Figure size 216x144 with 1 Axes>"
      ]
     },
     "metadata": {
      "needs_background": "light"
     },
     "output_type": "display_data"
    },
    {
     "name": "stdout",
     "output_type": "stream",
     "text": [
      "=================================================\n",
      "0.9990127\n",
      "0.0009873271\n",
      "14번째 신호등: 227338.jpg : negative\n"
     ]
    },
    {
     "data": {
      "image/png": "[encoded data removed]",
      "text/plain": [
       "<Figure size 216x144 with 1 Axes>"
      ]
     },
     "metadata": {
      "needs_background": "light"
     },
     "output_type": "display_data"
    },
    {
     "name": "stdout",
     "output_type": "stream",
     "text": [
      "=================================================\n",
      "0.99993837\n",
      "6.1674364e-05\n",
      "15번째 신호등: 227339.jpg : negative\n"
     ]
    },
    {
     "data": {
      "image/png": "[encoded data removed]",
      "text/plain": [
       "<Figure size 216x144 with 1 Axes>"
      ]
     },
     "metadata": {
      "needs_background": "light"
     },
     "output_type": "display_data"
    },
    {
     "name": "stdout",
     "output_type": "stream",
     "text": [
      "=================================================\n",
      "0.99992955\n",
      "7.046153e-05\n",
      "16번째 신호등: 227340.jpg : negative\n"
     ]
    },
    {
     "data": {
      "image/png": "[encoded data removed]",
      "text/plain": [
       "<Figure size 216x144 with 1 Axes>"
      ]
     },
     "metadata": {
      "needs_background": "light"
     },
     "output_type": "display_data"
    },
    {
     "name": "stdout",
     "output_type": "stream",
     "text": [
      "=================================================\n",
      "0.0068201683\n",
      "0.9931798\n",
      "17번째 신호등: 2348.jpg : positive\n"
     ]
    },
    {
     "data": {
      "image/png": "[encoded data removed]",
      "text/plain": [
       "<Figure size 216x144 with 1 Axes>"
      ]
     },
     "metadata": {
      "needs_background": "light"
     },
     "output_type": "display_data"
    },
    {
     "name": "stdout",
     "output_type": "stream",
     "text": [
      "=================================================\n",
      "0.0005558009\n",
      "0.9994442\n",
      "18번째 신호등: 2349.jpg : positive\n"
     ]
    },
    {
     "data": {
      "image/png": "[encoded data removed]",
      "text/plain": [
       "<Figure size 216x144 with 1 Axes>"
      ]
     },
     "metadata": {
      "needs_background": "light"
     },
     "output_type": "display_data"
    },
    {
     "name": "stdout",
     "output_type": "stream",
     "text": [
      "=================================================\n",
      "0.0051693297\n",
      "0.99483067\n",
      "19번째 신호등: 24349.jpg : positive\n"
     ]
    },
    {
     "data": {
      "image/png": "[encoded data removed]",
      "text/plain": [
       "<Figure size 216x144 with 1 Axes>"
      ]
     },
     "metadata": {
      "needs_background": "light"
     },
     "output_type": "display_data"
    },
    {
     "name": "stdout",
     "output_type": "stream",
     "text": [
      "=================================================\n",
      "0.9999995\n",
      "4.9790435e-07\n",
      "20번째 신호등: 24350.jpg : negative\n"
     ]
    },
    {
     "data": {
      "image/png": "[encoded data removed]",
      "text/plain": [
       "<Figure size 216x144 with 1 Axes>"
      ]
     },
     "metadata": {
      "needs_background": "light"
     },
     "output_type": "display_data"
    },
    {
     "name": "stdout",
     "output_type": "stream",
     "text": [
      "=================================================\n",
      "0.9999938\n",
      "6.2031563e-06\n",
      "21번째 신호등: 24351.jpg : negative\n"
     ]
    },
    {
     "data": {
      "image/png": "[encoded data removed]",
      "text/plain": [
       "<Figure size 216x144 with 1 Axes>"
      ]
     },
     "metadata": {
      "needs_background": "light"
     },
     "output_type": "display_data"
    },
    {
     "name": "stdout",
     "output_type": "stream",
     "text": [
      "=================================================\n",
      "0.9999528\n",
      "4.7256228e-05\n",
      "22번째 신호등: 24352.jpg : negative\n"
     ]
    },
    {
     "data": {
      "image/png": "[encoded data removed]",
      "text/plain": [
       "<Figure size 216x144 with 1 Axes>"
      ]
     },
     "metadata": {
      "needs_background": "light"
     },
     "output_type": "display_data"
    },
    {
     "name": "stdout",
     "output_type": "stream",
     "text": [
      "=================================================\n",
      "0.99993396\n",
      "6.6063236e-05\n",
      "23번째 신호등: 24353.jpg : negative\n"
     ]
    },
    {
     "data": {
      "image/png": "[encoded data removed]",
      "text/plain": [
       "<Figure size 216x144 with 1 Axes>"
      ]
     },
     "metadata": {
      "needs_background": "light"
     },
     "output_type": "display_data"
    },
    {
     "name": "stdout",
     "output_type": "stream",
     "text": [
      "=================================================\n",
      "0.9991043\n",
      "0.00089570275\n",
      "24번째 신호등: 24354.jpg : negative\n"
     ]
    },
    {
     "data": {
      "image/png": "[encoded data removed]",
      "text/plain": [
       "<Figure size 216x144 with 1 Axes>"
      ]
     },
     "metadata": {
      "needs_background": "light"
     },
     "output_type": "display_data"
    },
    {
     "name": "stdout",
     "output_type": "stream",
     "text": [
      "=================================================\n",
      "0.999658\n",
      "0.00034203933\n",
      "25번째 신호등: 24355.jpg : negative\n"
     ]
    },
    {
     "data": {
      "image/png": "[encoded data removed]",
      "text/plain": [
       "<Figure size 216x144 with 1 Axes>"
      ]
     },
     "metadata": {
      "needs_background": "light"
     },
     "output_type": "display_data"
    },
    {
     "name": "stdout",
     "output_type": "stream",
     "text": [
      "=================================================\n",
      "0.9990163\n",
      "0.0009836855\n",
      "26번째 신호등: 24356.jpg : negative\n"
     ]
    },
    {
     "data": {
      "image/png": "[encoded data removed]",
      "text/plain": [
       "<Figure size 216x144 with 1 Axes>"
      ]
     },
     "metadata": {
      "needs_background": "light"
     },
     "output_type": "display_data"
    },
    {
     "name": "stdout",
     "output_type": "stream",
     "text": [
      "=================================================\n",
      "0.99998724\n",
      "1.2706816e-05\n",
      "27번째 신호등: 24357.jpg : negative\n"
     ]
    },
    {
     "data": {
      "image/png": "[encoded data removed]",
      "text/plain": [
       "<Figure size 216x144 with 1 Axes>"
      ]
     },
     "metadata": {
      "needs_background": "light"
     },
     "output_type": "display_data"
    },
    {
     "name": "stdout",
     "output_type": "stream",
     "text": [
      "=================================================\n",
      "0.9999747\n",
      "2.5275604e-05\n",
      "28번째 신호등: 24358.jpg : negative\n"
     ]
    },
    {
     "data": {
      "image/png": "[encoded data removed]",
      "text/plain": [
       "<Figure size 216x144 with 1 Axes>"
      ]
     },
     "metadata": {
      "needs_background": "light"
     },
     "output_type": "display_data"
    },
    {
     "name": "stdout",
     "output_type": "stream",
     "text": [
      "=================================================\n",
      "0.9700946\n",
      "0.029905347\n",
      "29번째 신호등: 24359.jpg : negative\n"
     ]
    },
    {
     "data": {
      "image/png": "[encoded data removed]",
      "text/plain": [
       "<Figure size 216x144 with 1 Axes>"
      ]
     },
     "metadata": {
      "needs_background": "light"
     },
     "output_type": "display_data"
    },
    {
     "name": "stdout",
     "output_type": "stream",
     "text": [
      "=================================================\n",
      "0.99956554\n",
      "0.0004344702\n",
      "30번째 신호등: 79464.jpg : negative\n"
     ]
    },
    {
     "data": {
      "image/png": "[encoded data removed]",
      "text/plain": [
       "<Figure size 216x144 with 1 Axes>"
      ]
     },
     "metadata": {
      "needs_background": "light"
     },
     "output_type": "display_data"
    },
    {
     "name": "stdout",
     "output_type": "stream",
     "text": [
      "=================================================\n",
      "1.9529445e-07\n",
      "0.99999976\n",
      "31번째 신호등: 79465.jpg : positive\n"
     ]
    },
    {
     "data": {
      "image/png": "[encoded data removed]",
      "text/plain": [
       "<Figure size 216x144 with 1 Axes>"
      ]
     },
     "metadata": {
      "needs_background": "light"
     },
     "output_type": "display_data"
    },
    {
     "name": "stdout",
     "output_type": "stream",
     "text": [
      "=================================================\n",
      "0.9999373\n",
      "6.264481e-05\n",
      "32번째 신호등: 81324.jpg : negative\n"
     ]
    },
    {
     "data": {
      "image/png": "[encoded data removed]",
      "text/plain": [
       "<Figure size 216x144 with 1 Axes>"
      ]
     },
     "metadata": {
      "needs_background": "light"
     },
     "output_type": "display_data"
    },
    {
     "name": "stdout",
     "output_type": "stream",
     "text": [
      "=================================================\n",
      "0.99989736\n",
      "0.0001026679\n",
      "33번째 신호등: 81325.jpg : negative\n"
     ]
    },
    {
     "data": {
      "image/png": "[encoded data removed]",
      "text/plain": [
       "<Figure size 216x144 with 1 Axes>"
      ]
     },
     "metadata": {
      "needs_background": "light"
     },
     "output_type": "display_data"
    },
    {
     "name": "stdout",
     "output_type": "stream",
     "text": [
      "=================================================\n",
      "0.9960323\n",
      "0.003967739\n",
      "34번째 신호등: 81326.jpg : negative\n"
     ]
    },
    {
     "data": {
      "image/png": "[encoded data removed]",
      "text/plain": [
       "<Figure size 216x144 with 1 Axes>"
      ]
     },
     "metadata": {
      "needs_background": "light"
     },
     "output_type": "display_data"
    },
    {
     "name": "stdout",
     "output_type": "stream",
     "text": [
      "=================================================\n",
      "0.99996626\n",
      "3.376642e-05\n",
      "35번째 신호등: 81327.jpg : negative\n"
     ]
    },
    {
     "data": {
      "image/png": "[encoded data removed]",
      "text/plain": [
       "<Figure size 216x144 with 1 Axes>"
      ]
     },
     "metadata": {
      "needs_background": "light"
     },
     "output_type": "display_data"
    },
    {
     "name": "stdout",
     "output_type": "stream",
     "text": [
      "=================================================\n",
      "0.99994695\n",
      "5.3046184e-05\n",
      "36번째 신호등: 81328.jpg : negative\n"
     ]
    },
    {
     "data": {
      "image/png": "[encoded data removed]",
      "text/plain": [
       "<Figure size 216x144 with 1 Axes>"
      ]
     },
     "metadata": {
      "needs_background": "light"
     },
     "output_type": "display_data"
    },
    {
     "name": "stdout",
     "output_type": "stream",
     "text": [
      "=================================================\n",
      "0.9998802\n",
      "0.00011984083\n",
      "37번째 신호등: 81329.jpg : negative\n"
     ]
    },
    {
     "data": {
      "image/png": "[encoded data removed]",
      "text/plain": [
       "<Figure size 216x144 with 1 Axes>"
      ]
     },
     "metadata": {
      "needs_background": "light"
     },
     "output_type": "display_data"
    },
    {
     "name": "stdout",
     "output_type": "stream",
     "text": [
      "=================================================\n",
      "0.9997193\n",
      "0.00028068532\n",
      "38번째 신호등: 81330.jpg : negative\n"
     ]
    },
    {
     "data": {
      "image/png": "[encoded data removed]",
      "text/plain": [
       "<Figure size 216x144 with 1 Axes>"
      ]
     },
     "metadata": {
      "needs_background": "light"
     },
     "output_type": "display_data"
    },
    {
     "name": "stdout",
     "output_type": "stream",
     "text": [
      "=================================================\n",
      "0.99966466\n",
      "0.00033531687\n",
      "39번째 신호등: 81331.jpg : negative\n"
     ]
    },
    {
     "data": {
      "image/png": "[encoded data removed]",
      "text/plain": [
       "<Figure size 216x144 with 1 Axes>"
      ]
     },
     "metadata": {
      "needs_background": "light"
     },
     "output_type": "display_data"
    },
    {
     "name": "stdout",
     "output_type": "stream",
     "text": [
      "=================================================\n",
      "0.9996692\n",
      "0.00033081314\n",
      "40번째 신호등: 81332.jpg : negative\n"
     ]
    },
    {
     "data": {
      "image/png": "[encoded data removed]",
      "text/plain": [
       "<Figure size 216x144 with 1 Axes>"
      ]
     },
     "metadata": {
      "needs_background": "light"
     },
     "output_type": "display_data"
    },
    {
     "name": "stdout",
     "output_type": "stream",
     "text": [
      "=================================================\n",
      "0.9996954\n",
      "0.0003046543\n",
      "41번째 신호등: 81333.jpg : negative\n"
     ]
    },
    {
     "data": {
      "image/png": "[encoded data removed]",
      "text/plain": [
       "<Figure size 216x144 with 1 Axes>"
      ]
     },
     "metadata": {
      "needs_background": "light"
     },
     "output_type": "display_data"
    },
    {
     "name": "stdout",
     "output_type": "stream",
     "text": [
      "=================================================\n",
      "0.9996915\n",
      "0.00030848273\n",
      "42번째 신호등: 81334.jpg : negative\n"
     ]
    },
    {
     "data": {
      "image/png": "[encoded data removed]",
      "text/plain": [
       "<Figure size 216x144 with 1 Axes>"
      ]
     },
     "metadata": {
      "needs_background": "light"
     },
     "output_type": "display_data"
    },
    {
     "name": "stdout",
     "output_type": "stream",
     "text": [
      "=================================================\n",
      "0.9999527\n",
      "4.734757e-05\n",
      "43번째 신호등: 81335.jpg : negative\n"
     ]
    },
    {
     "data": {
      "image/png": "[encoded data removed]",
      "text/plain": [
       "<Figure size 216x144 with 1 Axes>"
      ]
     },
     "metadata": {
      "needs_background": "light"
     },
     "output_type": "display_data"
    },
    {
     "name": "stdout",
     "output_type": "stream",
     "text": [
      "=================================================\n",
      "0.99724895\n",
      "0.0027510014\n",
      "44번째 신호등: 81336.jpg : negative\n"
     ]
    },
    {
     "data": {
      "image/png": "[encoded data removed]",
      "text/plain": [
       "<Figure size 216x144 with 1 Axes>"
      ]
     },
     "metadata": {
      "needs_background": "light"
     },
     "output_type": "display_data"
    },
    {
     "name": "stdout",
     "output_type": "stream",
     "text": [
      "=================================================\n",
      "0.9996929\n",
      "0.00030708424\n",
      "45번째 신호등: 81337.jpg : negative\n"
     ]
    },
    {
     "data": {
      "image/png": "[encoded data removed]",
      "text/plain": [
       "<Figure size 216x144 with 1 Axes>"
      ]
     },
     "metadata": {
      "needs_background": "light"
     },
     "output_type": "display_data"
    },
    {
     "name": "stdout",
     "output_type": "stream",
     "text": [
      "=================================================\n",
      "4.4409967e-07\n",
      "0.9999995\n",
      "46번째 신호등: 81338.jpg : positive\n"
     ]
    },
    {
     "data": {
      "image/png": "[encoded data removed]",
      "text/plain": [
       "<Figure size 216x144 with 1 Axes>"
      ]
     },
     "metadata": {
      "needs_background": "light"
     },
     "output_type": "display_data"
    },
    {
     "name": "stdout",
     "output_type": "stream",
     "text": [
      "=================================================\n",
      "0.9998574\n",
      "0.00014260635\n",
      "47번째 신호등: 81339.jpg : negative\n"
     ]
    },
    {
     "data": {
      "image/png": "[encoded data removed]",
      "text/plain": [
       "<Figure size 216x144 with 1 Axes>"
      ]
     },
     "metadata": {
      "needs_background": "light"
     },
     "output_type": "display_data"
    },
    {
     "name": "stdout",
     "output_type": "stream",
     "text": [
      "=================================================\n",
      "3.1681147e-06\n",
      "0.9999968\n",
      "48번째 신호등: 81340.jpg : positive\n"
     ]
    },
    {
     "data": {
      "image/png": "[encoded data removed]",
      "text/plain": [
       "<Figure size 216x144 with 1 Axes>"
      ]
     },
     "metadata": {
      "needs_background": "light"
     },
     "output_type": "display_data"
    },
    {
     "name": "stdout",
     "output_type": "stream",
     "text": [
      "=================================================\n",
      "3.4090112e-07\n",
      "0.99999964\n",
      "49번째 신호등: 81341.jpg : positive\n"
     ]
    },
    {
     "data": {
      "image/png": "[encoded data removed]",
      "text/plain": [
       "<Figure size 216x144 with 1 Axes>"
      ]
     },
     "metadata": {
      "needs_background": "light"
     },
     "output_type": "display_data"
    },
    {
     "name": "stdout",
     "output_type": "stream",
     "text": [
      "=================================================\n",
      "0.9970701\n",
      "0.0029299357\n",
      "50번째 신호등: frame0_19.jpg : negative\n"
     ]
    },
    {
     "data": {
      "image/png": "[encoded data removed]",
      "text/plain": [
       "<Figure size 216x144 with 1 Axes>"
      ]
     },
     "metadata": {
      "needs_background": "light"
     },
     "output_type": "display_data"
    },
    {
     "name": "stdout",
     "output_type": "stream",
     "text": [
      "=================================================\n",
      "1.2822582e-05\n",
      "0.9999871\n",
      "51번째 신호등: frame14_24.jpg : positive\n"
     ]
    },
    {
     "data": {
      "image/png": "[encoded data removed]",
      "text/plain": [
       "<Figure size 216x144 with 1 Axes>"
      ]
     },
     "metadata": {
      "needs_background": "light"
     },
     "output_type": "display_data"
    },
    {
     "name": "stdout",
     "output_type": "stream",
     "text": [
      "=================================================\n",
      "0.99908936\n",
      "0.0009106398\n",
      "52번째 신호등: frame17_32.jpg : negative\n"
     ]
    },
    {
     "data": {
      "image/png": "[encoded data removed]",
      "text/plain": [
       "<Figure size 216x144 with 1 Axes>"
      ]
     },
     "metadata": {
      "needs_background": "light"
     },
     "output_type": "display_data"
    },
    {
     "name": "stdout",
     "output_type": "stream",
     "text": [
      "=================================================\n",
      "0.9999176\n",
      "8.240635e-05\n",
      "53번째 신호등: frame18_36.jpg : negative\n"
     ]
    },
    {
     "data": {
      "image/png": "[encoded data removed]",
      "text/plain": [
       "<Figure size 216x144 with 1 Axes>"
      ]
     },
     "metadata": {
      "needs_background": "light"
     },
     "output_type": "display_data"
    },
    {
     "name": "stdout",
     "output_type": "stream",
     "text": [
      "=================================================\n",
      "0.9999819\n",
      "1.8090132e-05\n",
      "54번째 신호등: frame1_6.jpg : negative\n"
     ]
    },
    {
     "data": {
      "image/png": "[encoded data removed]",
      "text/plain": [
       "<Figure size 216x144 with 1 Axes>"
      ]
     },
     "metadata": {
      "needs_background": "light"
     },
     "output_type": "display_data"
    },
    {
     "name": "stdout",
     "output_type": "stream",
     "text": [
      "=================================================\n",
      "0.9999994\n",
      "6.2898454e-07\n",
      "55번째 신호등: frame1_7.jpg : negative\n"
     ]
    },
    {
     "data": {
      "image/png": "[encoded data removed]",
      "text/plain": [
       "<Figure size 216x144 with 1 Axes>"
      ]
     },
     "metadata": {
      "needs_background": "light"
     },
     "output_type": "display_data"
    },
    {
     "name": "stdout",
     "output_type": "stream",
     "text": [
      "=================================================\n",
      "0.99999523\n",
      "4.726046e-06\n",
      "56번째 신호등: frame1_8.jpg : negative\n"
     ]
    },
    {
     "data": {
      "image/png": "[encoded data removed]",
      "text/plain": [
       "<Figure size 216x144 with 1 Axes>"
      ]
     },
     "metadata": {
      "needs_background": "light"
     },
     "output_type": "display_data"
    },
    {
     "name": "stdout",
     "output_type": "stream",
     "text": [
      "=================================================\n",
      "0.9999647\n",
      "3.5337376e-05\n",
      "57번째 신호등: frame1_9.jpg : negative\n"
     ]
    },
    {
     "data": {
      "image/png": "[encoded data removed]",
      "text/plain": [
       "<Figure size 216x144 with 1 Axes>"
      ]
     },
     "metadata": {
      "needs_background": "light"
     },
     "output_type": "display_data"
    },
    {
     "name": "stdout",
     "output_type": "stream",
     "text": [
      "=================================================\n",
      "0.9946538\n",
      "0.0053462223\n",
      "58번째 신호등: frame29_719.jpg : negative\n"
     ]
    },
    {
     "data": {
      "image/png": "[encoded data removed]",
      "text/plain": [
       "<Figure size 216x144 with 1 Axes>"
      ]
     },
     "metadata": {
      "needs_background": "light"
     },
     "output_type": "display_data"
    },
    {
     "name": "stdout",
     "output_type": "stream",
     "text": [
      "=================================================\n",
      "1.0235481e-06\n",
      "0.9999989\n",
      "59번째 신호등: frame34_215.jpg : positive\n"
     ]
    },
    {
     "data": {
      "image/png": "[encoded data removed]",
      "text/plain": [
       "<Figure size 216x144 with 1 Axes>"
      ]
     },
     "metadata": {
      "needs_background": "light"
     },
     "output_type": "display_data"
    },
    {
     "name": "stdout",
     "output_type": "stream",
     "text": [
      "=================================================\n",
      "0.00024351943\n",
      "0.9997565\n",
      "60번째 신호등: frame34_216.jpg : positive\n"
     ]
    },
    {
     "data": {
      "image/png": "[encoded data removed]",
      "text/plain": [
       "<Figure size 216x144 with 1 Axes>"
      ]
     },
     "metadata": {
      "needs_background": "light"
     },
     "output_type": "display_data"
    },
    {
     "name": "stdout",
     "output_type": "stream",
     "text": [
      "=================================================\n",
      "0.9999844\n",
      "1.5604019e-05\n",
      "61번째 신호등: frame35_223.jpg : negative\n"
     ]
    },
    {
     "data": {
      "image/png": "[encoded data removed]",
      "text/plain": [
       "<Figure size 216x144 with 1 Axes>"
      ]
     },
     "metadata": {
      "needs_background": "light"
     },
     "output_type": "display_data"
    },
    {
     "name": "stdout",
     "output_type": "stream",
     "text": [
      "=================================================\n",
      "0.9999844\n",
      "1.5656027e-05\n",
      "62번째 신호등: frame35_948.jpg : negative\n"
     ]
    },
    {
     "data": {
      "image/png": "[encoded data removed]",
      "text/plain": [
       "<Figure size 216x144 with 1 Axes>"
      ]
     },
     "metadata": {
      "needs_background": "light"
     },
     "output_type": "display_data"
    },
    {
     "name": "stdout",
     "output_type": "stream",
     "text": [
      "=================================================\n",
      "0.9995702\n",
      "0.0004297845\n",
      "63번째 신호등: frame35_953.jpg : negative\n"
     ]
    },
    {
     "data": {
      "image/png": "[encoded data removed]",
      "text/plain": [
       "<Figure size 216x144 with 1 Axes>"
      ]
     },
     "metadata": {
      "needs_background": "light"
     },
     "output_type": "display_data"
    },
    {
     "name": "stdout",
     "output_type": "stream",
     "text": [
      "=================================================\n",
      "0.9986456\n",
      "0.0013543622\n",
      "64번째 신호등: frame3_149.jpg : negative\n"
     ]
    },
    {
     "data": {
      "image/png": "[encoded data removed]",
      "text/plain": [
       "<Figure size 216x144 with 1 Axes>"
      ]
     },
     "metadata": {
      "needs_background": "light"
     },
     "output_type": "display_data"
    },
    {
     "name": "stdout",
     "output_type": "stream",
     "text": [
      "=================================================\n",
      "0.99987555\n",
      "0.000124404\n",
      "65번째 신호등: frame3_150.jpg : negative\n"
     ]
    },
    {
     "data": {
      "image/png": "[encoded data removed]",
      "text/plain": [
       "<Figure size 216x144 with 1 Axes>"
      ]
     },
     "metadata": {
      "needs_background": "light"
     },
     "output_type": "display_data"
    },
    {
     "name": "stdout",
     "output_type": "stream",
     "text": [
      "=================================================\n",
      "0.99999404\n",
      "5.931351e-06\n",
      "66번째 신호등: frame52_441.jpg : negative\n"
     ]
    },
    {
     "data": {
      "image/png": "[encoded data removed]",
      "text/plain": [
       "<Figure size 216x144 with 1 Axes>"
      ]
     },
     "metadata": {
      "needs_background": "light"
     },
     "output_type": "display_data"
    },
    {
     "name": "stdout",
     "output_type": "stream",
     "text": [
      "=================================================\n",
      "0.9999523\n",
      "4.7632475e-05\n",
      "67번째 신호등: frame52_442.jpg : negative\n"
     ]
    },
    {
     "data": {
      "image/png": "[encoded data removed]",
      "text/plain": [
       "<Figure size 216x144 with 1 Axes>"
      ]
     },
     "metadata": {
      "needs_background": "light"
     },
     "output_type": "display_data"
    },
    {
     "name": "stdout",
     "output_type": "stream",
     "text": [
      "=================================================\n",
      "0.9999871\n",
      "1.29038035e-05\n",
      "68번째 신호등: frame54_477.jpg : negative\n"
     ]
    },
    {
     "data": {
      "image/png": "[encoded data removed]",
      "text/plain": [
       "<Figure size 216x144 with 1 Axes>"
      ]
     },
     "metadata": {
      "needs_background": "light"
     },
     "output_type": "display_data"
    },
    {
     "name": "stdout",
     "output_type": "stream",
     "text": [
      "=================================================\n",
      "0.010848685\n",
      "0.98915136\n",
      "69번째 신호등: frame54_478.jpg : positive\n"
     ]
    },
    {
     "data": {
      "image/png": "[encoded data removed]",
      "text/plain": [
       "<Figure size 216x144 with 1 Axes>"
      ]
     },
     "metadata": {
      "needs_background": "light"
     },
     "output_type": "display_data"
    },
    {
     "name": "stdout",
     "output_type": "stream",
     "text": [
      "=================================================\n",
      "0.9999931\n",
      "6.8676654e-06\n",
      "70번째 신호등: frame56_495.jpg : negative\n"
     ]
    },
    {
     "data": {
      "image/png": "[encoded data removed]",
      "text/plain": [
       "<Figure size 216x144 with 1 Axes>"
      ]
     },
     "metadata": {
      "needs_background": "light"
     },
     "output_type": "display_data"
    },
    {
     "name": "stdout",
     "output_type": "stream",
     "text": [
      "=================================================\n",
      "0.99999774\n",
      "2.2326449e-06\n",
      "71번째 신호등: frame57_510.jpg : negative\n"
     ]
    },
    {
     "data": {
      "image/png": "[encoded data removed]",
      "text/plain": [
       "<Figure size 216x144 with 1 Axes>"
      ]
     },
     "metadata": {
      "needs_background": "light"
     },
     "output_type": "display_data"
    },
    {
     "name": "stdout",
     "output_type": "stream",
     "text": [
      "=================================================\n",
      "0.9999833\n",
      "1.665852e-05\n",
      "72번째 신호등: frame66_1982.jpg : negative\n"
     ]
    },
    {
     "data": {
      "image/png": "[encoded data removed]",
      "text/plain": [
       "<Figure size 216x144 with 1 Axes>"
      ]
     },
     "metadata": {
      "needs_background": "light"
     },
     "output_type": "display_data"
    },
    {
     "name": "stdout",
     "output_type": "stream",
     "text": [
      "=================================================\n",
      "0.99909735\n",
      "0.00090267847\n",
      "73번째 신호등: frame67_1989.jpg : negative\n"
     ]
    },
    {
     "data": {
      "image/png": "[encoded data removed]",
      "text/plain": [
       "<Figure size 216x144 with 1 Axes>"
      ]
     },
     "metadata": {
      "needs_background": "light"
     },
     "output_type": "display_data"
    },
    {
     "name": "stdout",
     "output_type": "stream",
     "text": [
      "=================================================\n",
      "0.9999763\n",
      "2.3720686e-05\n",
      "74번째 신호등: frame6_526.jpg : negative\n"
     ]
    },
    {
     "data": {
      "image/png": "[encoded data removed]",
      "text/plain": [
       "<Figure size 216x144 with 1 Axes>"
      ]
     },
     "metadata": {
      "needs_background": "light"
     },
     "output_type": "display_data"
    },
    {
     "name": "stdout",
     "output_type": "stream",
     "text": [
      "=================================================\n",
      "0.99773526\n",
      "0.0022646647\n",
      "75번째 신호등: frame9_670.jpg : negative\n"
     ]
    },
    {
     "data": {
      "image/png": "[encoded data removed]",
      "text/plain": [
       "<Figure size 216x144 with 1 Axes>"
      ]
     },
     "metadata": {
      "needs_background": "light"
     },
     "output_type": "display_data"
    },
    {
     "name": "stdout",
     "output_type": "stream",
     "text": [
      "=================================================\n"
     ]
    }
   ],
   "source": [
    "light_order = {0 : \"negative\", 1 : \"positive\"}\n",
    "\n",
    "for i, x in enumerate(prediction):\n",
    "    count = 0\n",
    "    \n",
    "    for y in x:\n",
    "        print(y)\n",
    "        if y > 0.90:\n",
    "            count += 1\n",
    "        \n",
    "    if count > 0:\n",
    "        print(str(i)+\"번째 신호등: \" + file_list[i] + \" : \" + light_order[np.argmax(x)])\n",
    "    else:\n",
    "        print(\"Unknown\")\n",
    "      \n",
    "    tstImg = cv2.imread(Path2 + file_list[i])\n",
    "    tstImg = cv2.cvtColor(tstImg, cv2.COLOR_BGR2RGB)\n",
    "    plt.figure(figsize = (3, 2))\n",
    "    plt.imshow(tstImg)\n",
    "    plt.show()\n",
    "    print(\"=================================================\")"
   ]
  },
  {
   "cell_type": "code",
   "execution_count": null,
   "id": "78ea4404",
   "metadata": {},
   "outputs": [],
   "source": []
  },
  {
   "cell_type": "code",
   "execution_count": null,
   "id": "b4a7cc8d",
   "metadata": {},
   "outputs": [],
   "source": []
  }
 ],
 "metadata": {
  "kernelspec": {
   "display_name": "Python 3 (ipykernel)",
   "language": "python",
   "name": "python3"
  },
  "language_info": {
   "codemirror_mode": {
    "name": "ipython",
    "version": 3
   },
   "file_extension": ".py",
   "mimetype": "text/x-python",
   "name": "python",
   "nbconvert_exporter": "python",
   "pygments_lexer": "ipython3",
   "version": "3.8.1"
  },
  "toc": {
   "base_numbering": 1,
   "nav_menu": {},
   "number_sections": true,
   "sideBar": true,
   "skip_h1_title": false,
   "title_cell": "Table of Contents",
   "title_sidebar": "Contents",
   "toc_cell": false,
   "toc_position": {},
   "toc_section_display": true,
   "toc_window_display": false
  },
  "varInspector": {
   "cols": {
    "lenName": 16,
    "lenType": 16,
    "lenVar": 40
   },
   "kernels_config": {
    "python": {
     "delete_cmd_postfix": "",
     "delete_cmd_prefix": "del ",
     "library": "var_list.py",
     "varRefreshCmd": "print(var_dic_list())"
    },
    "r": {
     "delete_cmd_postfix": ") ",
     "delete_cmd_prefix": "rm(",
     "library": "var_list.r",
     "varRefreshCmd": "cat(var_dic_list()) "
    }
   },
   "types_to_exclude": [
    "module",
    "function",
    "builtin_function_or_method",
    "instance",
    "_Feature"
   ],
   "window_display": false
  }
 },
 "nbformat": 4,
 "nbformat_minor": 5
}
