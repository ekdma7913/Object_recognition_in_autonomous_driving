{
 "cells": [
  {
   "cell_type": "code",
   "execution_count": 1,
   "id": "93c7aad1",
   "metadata": {
    "ExecuteTime": {
     "end_time": "2022-03-03T06:22:55.187493Z",
     "start_time": "2022-03-03T06:22:51.321455Z"
    }
   },
   "outputs": [],
   "source": [
    "import os\n",
    "import cv2\n",
    "import numpy as np\n",
    "import random\n",
    "from PIL import Image\n",
    "\n",
    "from matplotlib import pyplot as plt\n",
    "from tensorflow import keras\n",
    "import tensorflow as tf"
   ]
  },
  {
   "cell_type": "code",
   "execution_count": 2,
   "id": "2ff8f833",
   "metadata": {
    "ExecuteTime": {
     "end_time": "2022-03-03T05:36:52.301891Z",
     "start_time": "2022-03-03T05:36:51.588169Z"
    }
   },
   "outputs": [],
   "source": [
    "## 이미지 불러와서 이미지 크기를 임의의 크기 으로 이미지 리사이즈\n",
    "\n",
    "# all_folders 은 폴더 명만 나와야됨(ex) green, red, yellow\n",
    "all_folders = os.listdir(\"data/\")\n",
    "# all_folders.remove(\".DS_Store\")\n",
    "\n",
    "# 각 green, red, yellow 폴더에 들어가있는 신호등 이미지가 변환되서 저장됨(원본 사라짐)\n",
    "for x in all_folders:\n",
    "    path = 'data/'+x+'/' \n",
    "    file_list = os.listdir(path) # 폴더 하나마다 들어있는 파일들 리스트 저장\n",
    "\n",
    "    for A in file_list:\n",
    "        if A == \".DS_Store\":\n",
    "            continue\n",
    "        img = cv2.imread(path + A)\n",
    "        # res = cv2.resize(img, dsize = (30, 10), interpolation=cv2.INTER_CUBIC)\n",
    "        res = cv2.resize(img, dsize = (45, 15), interpolation = cv2.INTER_CUBIC)\n",
    "        cv2.imwrite(path + A, res)"
   ]
  },
  {
   "cell_type": "code",
   "execution_count": 3,
   "id": "b3d27fcf",
   "metadata": {
    "ExecuteTime": {
     "end_time": "2022-03-03T05:36:54.572490Z",
     "start_time": "2022-03-03T05:36:54.566915Z"
    }
   },
   "outputs": [
    {
     "name": "stdout",
     "output_type": "stream",
     "text": [
      "['green', 'red', 'yellow']\n"
     ]
    }
   ],
   "source": [
    "c = os.listdir(\"data\")\n",
    "# c.remove(\".DS_Store\") #['.DS_Store','green','red','yellow']\n",
    "\n",
    "print(c) # 0,1,2 지정할 때 순서 확인"
   ]
  },
  {
   "cell_type": "code",
   "execution_count": 4,
   "id": "1229a9b5",
   "metadata": {
    "ExecuteTime": {
     "end_time": "2022-03-03T05:36:55.239812Z",
     "start_time": "2022-03-03T05:36:55.221901Z"
    }
   },
   "outputs": [],
   "source": [
    "class Data():\n",
    "    def __init__(self):\n",
    "        \n",
    "        self.train_x = []\n",
    "        self.train_y = []\n",
    "        self.test_x = []\n",
    "        self.test_y = []\n",
    "        \n",
    "        self.images()\n",
    "        \n",
    "    def images(self):\n",
    "        data = []\n",
    "        classes = os.listdir(\"data\")\n",
    "        if \".DS_Store\" in classes:\n",
    "            classes.remove(\".DS_Store\")\n",
    "        for i, light in enumerate(classes): #green:0 red:1 yellow:2\n",
    "            PATH = os.listdir(\"data/\" + light)\n",
    "            if \".DS_Store\" in PATH:\n",
    "                PATH.remove(\".DS_Store\")\n",
    "            for x in PATH:\n",
    "                img = Image.open(\"data/\"+ light + \"/\" + x)\n",
    "                data.append((np.asarray(img),i))\n",
    "                img.close()\n",
    "                \n",
    "        random.shuffle(data)\n",
    "        \n",
    "        # 데이터 분할\n",
    "        for i in range(len(data)):\n",
    "            if i < 0.8 * len(data):\n",
    "                self.train_x.append(data[i][0])\n",
    "                self.train_y.append(data[i][1])\n",
    "            else:\n",
    "                self.test_x.append(data[i][0])\n",
    "                self.test_y.append(data[i][1])\n",
    "                \n",
    "        self.train_x = (np.asarray(self.train_x) - np.min(self.train_x, axis = 0)) / (np.max(self.train_x, axis = 0) - np.min(self.train_x, axis = 0))\n",
    "        self.train_y = np.asarray(self.train_y)\n",
    "        \n",
    "        self.test_x = (np.asarray(self.test_x) - np.min(self.test_x, axis = 0)) / (np.max(self.test_x, axis = 0) - np.min(self.test_x, axis = 0))\n",
    "        self.test_y = np.asarray(self.test_y)\n",
    "                \n",
    "#         self.train_x = np.asarray(self.train_x) / 255.0\n",
    "#         self.test_x = np.asarray(self.test_x) / 255.0\n",
    "        \n",
    "#         self.train_y = np.asarray(self.train_y)\n",
    "#         self.test_y = np.asarray(self.test_y)\n",
    "        \n",
    "        print(\"train x size : \" + str(self.train_x.shape))\n",
    "        print(\"train y size : \" + str(self.train_y.shape))\n",
    "        print(\"test x size : \" + str(self.test_x.shape))\n",
    "        print(\"test y size : \" + str(self.test_y.shape))\n",
    "        \n",
    "    def draw_graph(history):\n",
    "        train_history = history.history[\"loss\"]\n",
    "        validation_history = history.history[\"val_loss\"]\n",
    "        fig = plt.figure(figsize = (8, 8))\n",
    "        plt.title(\"Loss History\")\n",
    "        plt.xlabel(\"EPOCH\")\n",
    "        plt.ylabel(\"LOSS Function\")\n",
    "        plt.plot(train_history, \"red\")\n",
    "        plt.plot(validation_history, 'blue')\n",
    "        fig.savefig(\"train_history.png\")\n",
    "\n",
    "        train_history = history.history[\"accuracy\"]\n",
    "        validation_history = history.history[\"val_accuracy\"]\n",
    "        fig = plt.figure(figsize = (8, 8))\n",
    "        plt.title(\"Accuracy History\")\n",
    "        plt.xlabel(\"EPOCH\")\n",
    "        plt.ylabel(\"Accuracy\")\n",
    "        plt.plot(train_history, \"red\")\n",
    "        plt.plot(validation_history, 'blue')\n",
    "        fig.savefig(\"accuracy_history.png\")"
   ]
  },
  {
   "cell_type": "code",
   "execution_count": 21,
   "id": "7dc33f18",
   "metadata": {
    "ExecuteTime": {
     "end_time": "2022-03-03T06:20:32.447609Z",
     "start_time": "2022-03-03T06:20:32.161213Z"
    },
    "scrolled": true
   },
   "outputs": [
    {
     "name": "stdout",
     "output_type": "stream",
     "text": [
      "train x size : (19844, 15, 45, 3)\n",
      "train y size : (19844,)\n",
      "test x size : (4961, 15, 45, 3)\n",
      "test y size : (4961,)\n"
     ]
    }
   ],
   "source": [
    "A = Data()"
   ]
  },
  {
   "cell_type": "code",
   "execution_count": 22,
   "id": "fa47d02c",
   "metadata": {
    "ExecuteTime": {
     "end_time": "2022-03-03T06:20:34.057265Z",
     "start_time": "2022-03-03T06:20:34.036663Z"
    }
   },
   "outputs": [],
   "source": [
    "model = keras.Sequential([\n",
    "    keras.layers.Conv2D(16, (5, 5), activation = \"relu\"),\n",
    "    keras.layers.MaxPooling2D((2, 2)),\n",
    "    keras.layers.Dropout(0.5),\n",
    "    \n",
    "    keras.layers.Conv2D(32, (3, 3), activation = \"relu\"),\n",
    "    keras.layers.MaxPooling2D((2, 2)),\n",
    "    keras.layers.Dropout(0.2),\n",
    "    \n",
    "#     keras.layers.Conv2D(64, (3, 3), activation = \"relu\"),\n",
    "#     keras.layers.MaxPooling2D((2, 2)),\n",
    "#     keras.layers.Dropout(0.3),\n",
    "    \n",
    "#     keras.layers.Conv2D(128, (3, 3), activation = \"relu\"),\n",
    "#     keras.layers.MaxPooling2D((2, 2)),\n",
    "#     keras.layers.Dropout(0.3),\n",
    "    \n",
    "    keras.layers.Dense(256, activation = 'relu'),\n",
    "    \n",
    "    keras.layers.Flatten(),\n",
    "    \n",
    "    keras.layers.Dense(128, activation = \"relu\"),\n",
    "    keras.layers.Dropout(0.5),\n",
    "    keras.layers.Dense(64, activation = \"relu\"),\n",
    "    keras.layers.Dropout(0.3),\n",
    "    keras.layers.Dense(32, activation = \"relu\"),\n",
    "    keras.layers.Dropout(0.2),\n",
    "    keras.layers.Dense(3, activation = \"softmax\")\n",
    "])"
   ]
  },
  {
   "cell_type": "code",
   "execution_count": 23,
   "id": "d9e29521",
   "metadata": {
    "ExecuteTime": {
     "end_time": "2022-03-03T06:20:34.435302Z",
     "start_time": "2022-03-03T06:20:34.427659Z"
    }
   },
   "outputs": [],
   "source": [
    "model.compile(optimizer = keras.optimizers.Adam(learning_rate = 0.0001),\n",
    "              metrics = [\"accuracy\"], \n",
    "              loss = \"sparse_categorical_crossentropy\")"
   ]
  },
  {
   "cell_type": "code",
   "execution_count": 24,
   "id": "67fba07d",
   "metadata": {
    "ExecuteTime": {
     "end_time": "2022-03-03T06:20:34.883281Z",
     "start_time": "2022-03-03T06:20:34.880355Z"
    }
   },
   "outputs": [],
   "source": [
    "Epochs = 15"
   ]
  },
  {
   "cell_type": "code",
   "execution_count": 25,
   "id": "4b2a8138",
   "metadata": {},
   "outputs": [],
   "source": [
    "early_stop = keras.callbacks.EarlyStopping(monitor = 'val_loss', patience = 5)"
   ]
  },
  {
   "cell_type": "code",
   "execution_count": 26,
   "id": "6d1f9534",
   "metadata": {
    "ExecuteTime": {
     "end_time": "2022-03-03T06:20:47.205356Z",
     "start_time": "2022-03-03T06:20:36.499949Z"
    }
   },
   "outputs": [
    {
     "name": "stdout",
     "output_type": "stream",
     "text": [
      "Epoch 1/15\n",
      "156/156 [==============================] - 5s 26ms/step - loss: 0.5641 - accuracy: 0.7803 - val_loss: 0.0652 - val_accuracy: 0.9946\n",
      "Epoch 2/15\n",
      "156/156 [==============================] - 4s 25ms/step - loss: 0.0760 - accuracy: 0.9770 - val_loss: 0.0154 - val_accuracy: 0.9974\n",
      "Epoch 3/15\n",
      "156/156 [==============================] - 4s 23ms/step - loss: 0.0378 - accuracy: 0.9889 - val_loss: 0.0106 - val_accuracy: 0.9978\n",
      "Epoch 4/15\n",
      "156/156 [==============================] - 4s 26ms/step - loss: 0.0296 - accuracy: 0.9917 - val_loss: 0.0088 - val_accuracy: 0.9984\n",
      "Epoch 5/15\n",
      "156/156 [==============================] - 4s 24ms/step - loss: 0.0235 - accuracy: 0.9945 - val_loss: 0.0083 - val_accuracy: 0.9980\n",
      "Epoch 6/15\n",
      "156/156 [==============================] - 4s 24ms/step - loss: 0.0194 - accuracy: 0.9954 - val_loss: 0.0079 - val_accuracy: 0.9980\n",
      "Epoch 7/15\n",
      "156/156 [==============================] - 4s 23ms/step - loss: 0.0165 - accuracy: 0.9963 - val_loss: 0.0075 - val_accuracy: 0.9982\n",
      "Epoch 8/15\n",
      "156/156 [==============================] - 4s 24ms/step - loss: 0.0163 - accuracy: 0.9959 - val_loss: 0.0069 - val_accuracy: 0.9982\n",
      "Epoch 9/15\n",
      "156/156 [==============================] - 4s 24ms/step - loss: 0.0122 - accuracy: 0.9967 - val_loss: 0.0060 - val_accuracy: 0.9986\n",
      "Epoch 10/15\n",
      "156/156 [==============================] - 4s 24ms/step - loss: 0.0109 - accuracy: 0.9969 - val_loss: 0.0057 - val_accuracy: 0.9984\n",
      "Epoch 11/15\n",
      "156/156 [==============================] - 4s 23ms/step - loss: 0.0109 - accuracy: 0.9976 - val_loss: 0.0057 - val_accuracy: 0.9984\n",
      "Epoch 12/15\n",
      "156/156 [==============================] - 4s 24ms/step - loss: 0.0097 - accuracy: 0.9980 - val_loss: 0.0055 - val_accuracy: 0.9982\n",
      "Epoch 13/15\n",
      "156/156 [==============================] - 4s 25ms/step - loss: 0.0099 - accuracy: 0.9973 - val_loss: 0.0061 - val_accuracy: 0.9984\n",
      "Epoch 14/15\n",
      "156/156 [==============================] - 4s 25ms/step - loss: 0.0090 - accuracy: 0.9977 - val_loss: 0.0057 - val_accuracy: 0.9986\n",
      "Epoch 15/15\n",
      "156/156 [==============================] - 4s 24ms/step - loss: 0.0069 - accuracy: 0.9983 - val_loss: 0.0053 - val_accuracy: 0.9986\n"
     ]
    }
   ],
   "source": [
    "history = model.fit(A.train_x, A.train_y, \n",
    "                    epochs = Epochs,\n",
    "                    batch_size = 128,\n",
    "                    validation_data = (A.test_x, A.test_y),\n",
    "                    callbacks = [early_stop]\n",
    "                    )"
   ]
  },
  {
   "cell_type": "code",
   "execution_count": 27,
   "id": "19b09c62",
   "metadata": {
    "ExecuteTime": {
     "end_time": "2022-03-03T06:20:48.822796Z",
     "start_time": "2022-03-03T06:20:48.658793Z"
    },
    "scrolled": false
   },
   "outputs": [
    {
     "data": {
      "image/png": "[encoded data removed]",
      "text/plain": [
       "<Figure size 576x576 with 1 Axes>"
      ]
     },
     "metadata": {
      "needs_background": "light"
     },
     "output_type": "display_data"
    },
    {
     "data": {
      "image/png": "[encoded data removed]",
      "text/plain": [
       "<Figure size 576x576 with 1 Axes>"
      ]
     },
     "metadata": {
      "needs_background": "light"
     },
     "output_type": "display_data"
    }
   ],
   "source": [
    "Data.draw_graph(history)"
   ]
  },
  {
   "cell_type": "code",
   "execution_count": 28,
   "id": "5a6fd7a6",
   "metadata": {
    "ExecuteTime": {
     "end_time": "2022-03-03T06:20:58.684878Z",
     "start_time": "2022-03-03T06:20:58.644702Z"
    }
   },
   "outputs": [],
   "source": [
    "# 모델 저장\n",
    "model.save(\"traffic_light_0315_3.h5\")"
   ]
  },
  {
   "cell_type": "code",
   "execution_count": 29,
   "id": "3f0f3ce0",
   "metadata": {},
   "outputs": [],
   "source": [
    "# 모델 불러오기"
   ]
  },
  {
   "cell_type": "code",
   "execution_count": 36,
   "id": "caaf0227",
   "metadata": {
    "ExecuteTime": {
     "end_time": "2022-03-03T06:22:56.131771Z",
     "start_time": "2022-03-03T06:22:55.914421Z"
    }
   },
   "outputs": [],
   "source": [
    "model = tf.keras.models.load_model('traffic_light_0315_2.h5')"
   ]
  },
  {
   "cell_type": "code",
   "execution_count": 37,
   "id": "10498028",
   "metadata": {
    "ExecuteTime": {
     "end_time": "2022-03-03T06:23:54.755461Z",
     "start_time": "2022-03-03T06:23:54.750026Z"
    }
   },
   "outputs": [
    {
     "name": "stdout",
     "output_type": "stream",
     "text": [
      "Model: \"sequential_3\"\n",
      "_________________________________________________________________\n",
      " Layer (type)                Output Shape              Param #   \n",
      "=================================================================\n",
      " conv2d_6 (Conv2D)           (None, 11, 41, 16)        1216      \n",
      "                                                                 \n",
      " max_pooling2d_6 (MaxPooling  (None, 5, 20, 16)        0         \n",
      " 2D)                                                             \n",
      "                                                                 \n",
      " dropout_15 (Dropout)        (None, 5, 20, 16)         0         \n",
      "                                                                 \n",
      " conv2d_7 (Conv2D)           (None, 3, 18, 32)         4640      \n",
      "                                                                 \n",
      " max_pooling2d_7 (MaxPooling  (None, 1, 9, 32)         0         \n",
      " 2D)                                                             \n",
      "                                                                 \n",
      " dropout_16 (Dropout)        (None, 1, 9, 32)          0         \n",
      "                                                                 \n",
      " dense_15 (Dense)            (None, 1, 9, 256)         8448      \n",
      "                                                                 \n",
      " flatten_3 (Flatten)         (None, 2304)              0         \n",
      "                                                                 \n",
      " dense_16 (Dense)            (None, 128)               295040    \n",
      "                                                                 \n",
      " dropout_17 (Dropout)        (None, 128)               0         \n",
      "                                                                 \n",
      " dense_17 (Dense)            (None, 64)                8256      \n",
      "                                                                 \n",
      " dropout_18 (Dropout)        (None, 64)                0         \n",
      "                                                                 \n",
      " dense_18 (Dense)            (None, 32)                2080      \n",
      "                                                                 \n",
      " dropout_19 (Dropout)        (None, 32)                0         \n",
      "                                                                 \n",
      " dense_19 (Dense)            (None, 3)                 99        \n",
      "                                                                 \n",
      "=================================================================\n",
      "Total params: 319,779\n",
      "Trainable params: 319,779\n",
      "Non-trainable params: 0\n",
      "_________________________________________________________________\n"
     ]
    }
   ],
   "source": [
    "model.summary()"
   ]
  },
  {
   "cell_type": "code",
   "execution_count": 38,
   "id": "f5af29b7",
   "metadata": {
    "ExecuteTime": {
     "end_time": "2022-03-03T06:23:07.330542Z",
     "start_time": "2022-03-03T06:23:07.300038Z"
    }
   },
   "outputs": [],
   "source": [
    "Path2 = 'data_2/all/'\n",
    "file_list = os.listdir(Path2)\n",
    "\n",
    "if \".DS_Store\" in file_list:\n",
    "    file_list.remove(\".DS_Store\")\n",
    "\n",
    "data2 = []\n",
    "\n",
    "for A in file_list:\n",
    "    if A == \".DS_Store\":\n",
    "        continue\n",
    "    img2 = cv2.imread(Path2 + A)\n",
    "    res2 = cv2.resize(img2, dsize = (45, 15), interpolation = cv2.INTER_CUBIC)\n",
    "    cv2.imwrite(Path2 + A, res2)\n",
    "    \n",
    "for A in file_list:\n",
    "    if A == \".DS_Store\":\n",
    "        continue\n",
    "    img3 = Image.open(Path2 + A)\n",
    "    data2.append(np.array(img3))\n",
    "    img3.close()"
   ]
  },
  {
   "cell_type": "code",
   "execution_count": 39,
   "id": "3345fb31",
   "metadata": {
    "ExecuteTime": {
     "end_time": "2022-03-03T06:23:17.784642Z",
     "start_time": "2022-03-03T06:23:17.781330Z"
    }
   },
   "outputs": [],
   "source": [
    "data2 = np.asarray(data2) / 255.0"
   ]
  },
  {
   "cell_type": "code",
   "execution_count": 40,
   "id": "1396c1bf",
   "metadata": {
    "ExecuteTime": {
     "end_time": "2022-03-03T06:23:18.349635Z",
     "start_time": "2022-03-03T06:23:18.185250Z"
    }
   },
   "outputs": [],
   "source": [
    "prediction = model.predict(data2)"
   ]
  },
  {
   "cell_type": "code",
   "execution_count": 41,
   "id": "bf0c546b",
   "metadata": {
    "ExecuteTime": {
     "end_time": "2022-03-03T06:23:24.966919Z",
     "start_time": "2022-03-03T06:23:24.961615Z"
    }
   },
   "outputs": [
    {
     "name": "stdout",
     "output_type": "stream",
     "text": [
      "2번째 신호등: 13668147_143.jpg : yellow\n",
      "5번째 신호등: 227331.jpg : yellow\n",
      "15번째 신호등: 2348.jpg : yellow\n",
      "16번째 신호등: 2349.jpg : yellow\n",
      "17번째 신호등: 24349.jpg : red\n",
      "25번째 신호등: 24357.jpg : green\n",
      "26번째 신호등: 24358.jpg : green\n",
      "29번째 신호등: 79465.jpg : red\n",
      "44번째 신호등: 81338.jpg : green\n",
      "46번째 신호등: 81340.jpg : green\n",
      "47번째 신호등: 81341.jpg : green\n"
     ]
    }
   ],
   "source": [
    "light_order = {0:\"green\",1:\"red\",2:\"yellow\"}\n",
    "\n",
    "for i,x in enumerate(prediction):\n",
    "    count = 0\n",
    "    for y in x:\n",
    "        if y > 0.95:\n",
    "            count += 1\n",
    "    if count > 0:\n",
    "        print(str(i)+\"번째 신호등: \" + file_list[i] + \" : \" + light_order[np.argmax(x)])"
   ]
  },
  {
   "cell_type": "code",
   "execution_count": null,
   "id": "aa5b69db",
   "metadata": {},
   "outputs": [],
   "source": []
  },
  {
   "cell_type": "code",
   "execution_count": null,
   "id": "9f728edd",
   "metadata": {},
   "outputs": [],
   "source": []
  },
  {
   "cell_type": "code",
   "execution_count": null,
   "id": "8966e09c",
   "metadata": {},
   "outputs": [],
   "source": []
  },
  {
   "cell_type": "markdown",
   "id": "3270b4f6",
   "metadata": {},
   "source": [
    "# 이미지랑 같이 출력"
   ]
  },
  {
   "cell_type": "code",
   "execution_count": 42,
   "id": "aac06221",
   "metadata": {
    "scrolled": false
   },
   "outputs": [
    {
     "name": "stdout",
     "output_type": "stream",
     "text": [
      "0.94616586\n",
      "0.050545573\n",
      "0.0032885973\n",
      "Unknown\n"
     ]
    },
    {
     "data": {
      "image/png": "[encoded data removed]",
      "text/plain": [
       "<Figure size 216x144 with 1 Axes>"
      ]
     },
     "metadata": {
      "needs_background": "light"
     },
     "output_type": "display_data"
    },
    {
     "name": "stdout",
     "output_type": "stream",
     "text": [
      "=================================================\n",
      "0.1389931\n",
      "0.16272065\n",
      "0.6982863\n",
      "Unknown\n"
     ]
    },
    {
     "data": {
      "image/png": "[encoded data removed]",
      "text/plain": [
       "<Figure size 216x144 with 1 Axes>"
      ]
     },
     "metadata": {
      "needs_background": "light"
     },
     "output_type": "display_data"
    },
    {
     "name": "stdout",
     "output_type": "stream",
     "text": [
      "=================================================\n",
      "0.0039891424\n",
      "0.025361966\n",
      "0.9706489\n",
      "2번째 신호등: 13668147_143.jpg : yellow\n"
     ]
    },
    {
     "data": {
      "image/png": "[encoded data removed]",
      "text/plain": [
       "<Figure size 216x144 with 1 Axes>"
      ]
     },
     "metadata": {
      "needs_background": "light"
     },
     "output_type": "display_data"
    },
    {
     "name": "stdout",
     "output_type": "stream",
     "text": [
      "=================================================\n",
      "0.1366422\n",
      "0.7884392\n",
      "0.07491861\n",
      "Unknown\n"
     ]
    },
    {
     "data": {
      "image/png": "[encoded data removed]",
      "text/plain": [
       "<Figure size 216x144 with 1 Axes>"
      ]
     },
     "metadata": {
      "needs_background": "light"
     },
     "output_type": "display_data"
    },
    {
     "name": "stdout",
     "output_type": "stream",
     "text": [
      "=================================================\n",
      "0.58206475\n",
      "0.3725774\n",
      "0.04535783\n",
      "Unknown\n"
     ]
    },
    {
     "data": {
      "image/png": "[encoded data removed]",
      "text/plain": [
       "<Figure size 216x144 with 1 Axes>"
      ]
     },
     "metadata": {
      "needs_background": "light"
     },
     "output_type": "display_data"
    },
    {
     "name": "stdout",
     "output_type": "stream",
     "text": [
      "=================================================\n",
      "0.006866842\n",
      "0.00084901386\n",
      "0.9922841\n",
      "5번째 신호등: 227331.jpg : yellow\n"
     ]
    },
    {
     "data": {
      "image/png": "[encoded data removed]",
      "text/plain": [
       "<Figure size 216x144 with 1 Axes>"
      ]
     },
     "metadata": {
      "needs_background": "light"
     },
     "output_type": "display_data"
    },
    {
     "name": "stdout",
     "output_type": "stream",
     "text": [
      "=================================================\n",
      "0.18081583\n",
      "0.047110096\n",
      "0.7720741\n",
      "Unknown\n"
     ]
    },
    {
     "data": {
      "image/png": "[encoded data removed]",
      "text/plain": [
       "<Figure size 216x144 with 1 Axes>"
      ]
     },
     "metadata": {
      "needs_background": "light"
     },
     "output_type": "display_data"
    },
    {
     "name": "stdout",
     "output_type": "stream",
     "text": [
      "=================================================\n",
      "0.3060183\n",
      "0.29406944\n",
      "0.39991233\n",
      "Unknown\n"
     ]
    },
    {
     "data": {
      "image/png": "[encoded data removed]",
      "text/plain": [
       "<Figure size 216x144 with 1 Axes>"
      ]
     },
     "metadata": {
      "needs_background": "light"
     },
     "output_type": "display_data"
    },
    {
     "name": "stdout",
     "output_type": "stream",
     "text": [
      "=================================================\n",
      "0.061011653\n",
      "0.89945376\n",
      "0.039534602\n",
      "Unknown\n"
     ]
    },
    {
     "data": {
      "image/png": "[encoded data removed]",
      "text/plain": [
       "<Figure size 216x144 with 1 Axes>"
      ]
     },
     "metadata": {
      "needs_background": "light"
     },
     "output_type": "display_data"
    },
    {
     "name": "stdout",
     "output_type": "stream",
     "text": [
      "=================================================\n",
      "0.19349279\n",
      "0.12603459\n",
      "0.6804726\n",
      "Unknown\n"
     ]
    },
    {
     "data": {
      "image/png": "[encoded data removed]",
      "text/plain": [
       "<Figure size 216x144 with 1 Axes>"
      ]
     },
     "metadata": {
      "needs_background": "light"
     },
     "output_type": "display_data"
    },
    {
     "name": "stdout",
     "output_type": "stream",
     "text": [
      "=================================================\n",
      "0.12407399\n",
      "0.07566712\n",
      "0.8002589\n",
      "Unknown\n"
     ]
    },
    {
     "data": {
      "image/png": "[encoded data removed]",
      "text/plain": [
       "<Figure size 216x144 with 1 Axes>"
      ]
     },
     "metadata": {
      "needs_background": "light"
     },
     "output_type": "display_data"
    },
    {
     "name": "stdout",
     "output_type": "stream",
     "text": [
      "=================================================\n",
      "0.19099386\n",
      "0.119878806\n",
      "0.6891273\n",
      "Unknown\n"
     ]
    },
    {
     "data": {
      "image/png": "[encoded data removed]",
      "text/plain": [
       "<Figure size 216x144 with 1 Axes>"
      ]
     },
     "metadata": {
      "needs_background": "light"
     },
     "output_type": "display_data"
    },
    {
     "name": "stdout",
     "output_type": "stream",
     "text": [
      "=================================================\n",
      "0.23382576\n",
      "0.11676108\n",
      "0.64941317\n",
      "Unknown\n"
     ]
    },
    {
     "data": {
      "image/png": "[encoded data removed]",
      "text/plain": [
       "<Figure size 216x144 with 1 Axes>"
      ]
     },
     "metadata": {
      "needs_background": "light"
     },
     "output_type": "display_data"
    },
    {
     "name": "stdout",
     "output_type": "stream",
     "text": [
      "=================================================\n",
      "0.51972276\n",
      "0.32508662\n",
      "0.15519054\n",
      "Unknown\n"
     ]
    },
    {
     "data": {
      "image/png": "[encoded data removed]",
      "text/plain": [
       "<Figure size 216x144 with 1 Axes>"
      ]
     },
     "metadata": {
      "needs_background": "light"
     },
     "output_type": "display_data"
    },
    {
     "name": "stdout",
     "output_type": "stream",
     "text": [
      "=================================================\n",
      "0.21218805\n",
      "0.5911709\n",
      "0.19664101\n",
      "Unknown\n"
     ]
    },
    {
     "data": {
      "image/png": "[encoded data removed]",
      "text/plain": [
       "<Figure size 216x144 with 1 Axes>"
      ]
     },
     "metadata": {
      "needs_background": "light"
     },
     "output_type": "display_data"
    },
    {
     "name": "stdout",
     "output_type": "stream",
     "text": [
      "=================================================\n",
      "0.0011768955\n",
      "0.0005999468\n",
      "0.9982231\n",
      "15번째 신호등: 2348.jpg : yellow\n"
     ]
    },
    {
     "data": {
      "image/png": "[encoded data removed]",
      "text/plain": [
       "<Figure size 216x144 with 1 Axes>"
      ]
     },
     "metadata": {
      "needs_background": "light"
     },
     "output_type": "display_data"
    },
    {
     "name": "stdout",
     "output_type": "stream",
     "text": [
      "=================================================\n",
      "0.000695204\n",
      "0.0003010717\n",
      "0.9990037\n",
      "16번째 신호등: 2349.jpg : yellow\n"
     ]
    },
    {
     "data": {
      "image/png": "[encoded data removed]",
      "text/plain": [
       "<Figure size 216x144 with 1 Axes>"
      ]
     },
     "metadata": {
      "needs_background": "light"
     },
     "output_type": "display_data"
    },
    {
     "name": "stdout",
     "output_type": "stream",
     "text": [
      "=================================================\n",
      "5.7076373e-05\n",
      "0.9999311\n",
      "1.1743538e-05\n",
      "17번째 신호등: 24349.jpg : red\n"
     ]
    },
    {
     "data": {
      "image/png": "[encoded data removed]",
      "text/plain": [
       "<Figure size 216x144 with 1 Axes>"
      ]
     },
     "metadata": {
      "needs_background": "light"
     },
     "output_type": "display_data"
    },
    {
     "name": "stdout",
     "output_type": "stream",
     "text": [
      "=================================================\n",
      "0.65589017\n",
      "0.17344204\n",
      "0.17066774\n",
      "Unknown\n"
     ]
    },
    {
     "data": {
      "image/png": "[encoded data removed]",
      "text/plain": [
       "<Figure size 216x144 with 1 Axes>"
      ]
     },
     "metadata": {
      "needs_background": "light"
     },
     "output_type": "display_data"
    },
    {
     "name": "stdout",
     "output_type": "stream",
     "text": [
      "=================================================\n",
      "0.13761665\n",
      "0.046294056\n",
      "0.8160893\n",
      "Unknown\n"
     ]
    },
    {
     "data": {
      "image/png": "[encoded data removed]",
      "text/plain": [
       "<Figure size 216x144 with 1 Axes>"
      ]
     },
     "metadata": {
      "needs_background": "light"
     },
     "output_type": "display_data"
    },
    {
     "name": "stdout",
     "output_type": "stream",
     "text": [
      "=================================================\n",
      "0.34122255\n",
      "0.28517482\n",
      "0.37360263\n",
      "Unknown\n"
     ]
    },
    {
     "data": {
      "image/png": "[encoded data removed]",
      "text/plain": [
       "<Figure size 216x144 with 1 Axes>"
      ]
     },
     "metadata": {
      "needs_background": "light"
     },
     "output_type": "display_data"
    },
    {
     "name": "stdout",
     "output_type": "stream",
     "text": [
      "=================================================\n",
      "0.37875527\n",
      "0.22427814\n",
      "0.3969666\n",
      "Unknown\n"
     ]
    },
    {
     "data": {
      "image/png": "[encoded data removed]",
      "text/plain": [
       "<Figure size 216x144 with 1 Axes>"
      ]
     },
     "metadata": {
      "needs_background": "light"
     },
     "output_type": "display_data"
    },
    {
     "name": "stdout",
     "output_type": "stream",
     "text": [
      "=================================================\n",
      "0.20512545\n",
      "0.44376713\n",
      "0.3511075\n",
      "Unknown\n"
     ]
    },
    {
     "data": {
      "image/png": "[encoded data removed]",
      "text/plain": [
       "<Figure size 216x144 with 1 Axes>"
      ]
     },
     "metadata": {
      "needs_background": "light"
     },
     "output_type": "display_data"
    },
    {
     "name": "stdout",
     "output_type": "stream",
     "text": [
      "=================================================\n",
      "0.6647052\n",
      "0.13494627\n",
      "0.20034848\n",
      "Unknown\n"
     ]
    },
    {
     "data": {
      "image/png": "[encoded data removed]",
      "text/plain": [
       "<Figure size 216x144 with 1 Axes>"
      ]
     },
     "metadata": {
      "needs_background": "light"
     },
     "output_type": "display_data"
    },
    {
     "name": "stdout",
     "output_type": "stream",
     "text": [
      "=================================================\n",
      "0.13997246\n",
      "0.068960376\n",
      "0.7910672\n",
      "Unknown\n"
     ]
    },
    {
     "data": {
      "image/png": "[encoded data removed]",
      "text/plain": [
       "<Figure size 216x144 with 1 Axes>"
      ]
     },
     "metadata": {
      "needs_background": "light"
     },
     "output_type": "display_data"
    },
    {
     "name": "stdout",
     "output_type": "stream",
     "text": [
      "=================================================\n",
      "0.9900794\n",
      "0.004684026\n",
      "0.0052365605\n",
      "25번째 신호등: 24357.jpg : green\n"
     ]
    },
    {
     "data": {
      "image/png": "[encoded data removed]",
      "text/plain": [
       "<Figure size 216x144 with 1 Axes>"
      ]
     },
     "metadata": {
      "needs_background": "light"
     },
     "output_type": "display_data"
    },
    {
     "name": "stdout",
     "output_type": "stream",
     "text": [
      "=================================================\n",
      "0.9606156\n",
      "0.01699112\n",
      "0.022393323\n",
      "26번째 신호등: 24358.jpg : green\n"
     ]
    },
    {
     "data": {
      "image/png": "[encoded data removed]",
      "text/plain": [
       "<Figure size 216x144 with 1 Axes>"
      ]
     },
     "metadata": {
      "needs_background": "light"
     },
     "output_type": "display_data"
    },
    {
     "name": "stdout",
     "output_type": "stream",
     "text": [
      "=================================================\n",
      "0.06475522\n",
      "0.04050255\n",
      "0.8947422\n",
      "Unknown\n"
     ]
    },
    {
     "data": {
      "image/png": "[encoded data removed]",
      "text/plain": [
       "<Figure size 216x144 with 1 Axes>"
      ]
     },
     "metadata": {
      "needs_background": "light"
     },
     "output_type": "display_data"
    },
    {
     "name": "stdout",
     "output_type": "stream",
     "text": [
      "=================================================\n",
      "0.21805464\n",
      "0.06892803\n",
      "0.7130173\n",
      "Unknown\n"
     ]
    },
    {
     "data": {
      "image/png": "[encoded data removed]",
      "text/plain": [
       "<Figure size 216x144 with 1 Axes>"
      ]
     },
     "metadata": {
      "needs_background": "light"
     },
     "output_type": "display_data"
    },
    {
     "name": "stdout",
     "output_type": "stream",
     "text": [
      "=================================================\n",
      "3.2378096e-06\n",
      "0.9999962\n",
      "5.367381e-07\n",
      "29번째 신호등: 79465.jpg : red\n"
     ]
    },
    {
     "data": {
      "image/png": "[encoded data removed]",
      "text/plain": [
       "<Figure size 216x144 with 1 Axes>"
      ]
     },
     "metadata": {
      "needs_background": "light"
     },
     "output_type": "display_data"
    },
    {
     "name": "stdout",
     "output_type": "stream",
     "text": [
      "=================================================\n",
      "0.62649757\n",
      "0.15778542\n",
      "0.21571706\n",
      "Unknown\n"
     ]
    },
    {
     "data": {
      "image/png": "[encoded data removed]",
      "text/plain": [
       "<Figure size 216x144 with 1 Axes>"
      ]
     },
     "metadata": {
      "needs_background": "light"
     },
     "output_type": "display_data"
    },
    {
     "name": "stdout",
     "output_type": "stream",
     "text": [
      "=================================================\n",
      "0.4404228\n",
      "0.15853135\n",
      "0.40104583\n",
      "Unknown\n"
     ]
    },
    {
     "data": {
      "image/png": "[encoded data removed]",
      "text/plain": [
       "<Figure size 216x144 with 1 Axes>"
      ]
     },
     "metadata": {
      "needs_background": "light"
     },
     "output_type": "display_data"
    },
    {
     "name": "stdout",
     "output_type": "stream",
     "text": [
      "=================================================\n",
      "0.2953019\n",
      "0.01239523\n",
      "0.6923028\n",
      "Unknown\n"
     ]
    },
    {
     "data": {
      "image/png": "[encoded data removed]",
      "text/plain": [
       "<Figure size 216x144 with 1 Axes>"
      ]
     },
     "metadata": {
      "needs_background": "light"
     },
     "output_type": "display_data"
    },
    {
     "name": "stdout",
     "output_type": "stream",
     "text": [
      "=================================================\n",
      "0.23032157\n",
      "0.5479672\n",
      "0.22171126\n",
      "Unknown\n"
     ]
    },
    {
     "data": {
      "image/png": "[encoded data removed]",
      "text/plain": [
       "<Figure size 216x144 with 1 Axes>"
      ]
     },
     "metadata": {
      "needs_background": "light"
     },
     "output_type": "display_data"
    },
    {
     "name": "stdout",
     "output_type": "stream",
     "text": [
      "=================================================\n",
      "0.4042441\n",
      "0.22574669\n",
      "0.3700092\n",
      "Unknown\n"
     ]
    },
    {
     "data": {
      "image/png": "[encoded data removed]",
      "text/plain": [
       "<Figure size 216x144 with 1 Axes>"
      ]
     },
     "metadata": {
      "needs_background": "light"
     },
     "output_type": "display_data"
    },
    {
     "name": "stdout",
     "output_type": "stream",
     "text": [
      "=================================================\n",
      "0.85475725\n",
      "0.051312122\n",
      "0.09393069\n",
      "Unknown\n"
     ]
    },
    {
     "data": {
      "image/png": "[encoded data removed]",
      "text/plain": [
       "<Figure size 216x144 with 1 Axes>"
      ]
     },
     "metadata": {
      "needs_background": "light"
     },
     "output_type": "display_data"
    },
    {
     "name": "stdout",
     "output_type": "stream",
     "text": [
      "=================================================\n",
      "0.8356363\n",
      "0.062117152\n",
      "0.1022466\n",
      "Unknown\n"
     ]
    },
    {
     "data": {
      "image/png": "[encoded data removed]",
      "text/plain": [
       "<Figure size 216x144 with 1 Axes>"
      ]
     },
     "metadata": {
      "needs_background": "light"
     },
     "output_type": "display_data"
    },
    {
     "name": "stdout",
     "output_type": "stream",
     "text": [
      "=================================================\n",
      "0.8521206\n",
      "0.057134192\n",
      "0.090745315\n",
      "Unknown\n"
     ]
    },
    {
     "data": {
      "image/png": "[encoded data removed]",
      "text/plain": [
       "<Figure size 216x144 with 1 Axes>"
      ]
     },
     "metadata": {
      "needs_background": "light"
     },
     "output_type": "display_data"
    },
    {
     "name": "stdout",
     "output_type": "stream",
     "text": [
      "=================================================\n",
      "0.8158707\n",
      "0.06796189\n",
      "0.11616733\n",
      "Unknown\n"
     ]
    },
    {
     "data": {
      "image/png": "[encoded data removed]",
      "text/plain": [
       "<Figure size 216x144 with 1 Axes>"
      ]
     },
     "metadata": {
      "needs_background": "light"
     },
     "output_type": "display_data"
    },
    {
     "name": "stdout",
     "output_type": "stream",
     "text": [
      "=================================================\n",
      "0.8353577\n",
      "0.06126593\n",
      "0.10337643\n",
      "Unknown\n"
     ]
    },
    {
     "data": {
      "image/png": "[encoded data removed]",
      "text/plain": [
       "<Figure size 216x144 with 1 Axes>"
      ]
     },
     "metadata": {
      "needs_background": "light"
     },
     "output_type": "display_data"
    },
    {
     "name": "stdout",
     "output_type": "stream",
     "text": [
      "=================================================\n",
      "0.8284552\n",
      "0.06441287\n",
      "0.107131876\n",
      "Unknown\n"
     ]
    },
    {
     "data": {
      "image/png": "[encoded data removed]",
      "text/plain": [
       "<Figure size 216x144 with 1 Axes>"
      ]
     },
     "metadata": {
      "needs_background": "light"
     },
     "output_type": "display_data"
    },
    {
     "name": "stdout",
     "output_type": "stream",
     "text": [
      "=================================================\n",
      "0.33426306\n",
      "0.24514979\n",
      "0.42058715\n",
      "Unknown\n"
     ]
    },
    {
     "data": {
      "image/png": "[encoded data removed]",
      "text/plain": [
       "<Figure size 216x144 with 1 Axes>"
      ]
     },
     "metadata": {
      "needs_background": "light"
     },
     "output_type": "display_data"
    },
    {
     "name": "stdout",
     "output_type": "stream",
     "text": [
      "=================================================\n",
      "0.9412442\n",
      "0.028503962\n",
      "0.030251859\n",
      "Unknown\n"
     ]
    },
    {
     "data": {
      "image/png": "[encoded data removed]",
      "text/plain": [
       "<Figure size 216x144 with 1 Axes>"
      ]
     },
     "metadata": {
      "needs_background": "light"
     },
     "output_type": "display_data"
    },
    {
     "name": "stdout",
     "output_type": "stream",
     "text": [
      "=================================================\n",
      "0.9166484\n",
      "0.03516979\n",
      "0.048181765\n",
      "Unknown\n"
     ]
    },
    {
     "data": {
      "image/png": "[encoded data removed]",
      "text/plain": [
       "<Figure size 216x144 with 1 Axes>"
      ]
     },
     "metadata": {
      "needs_background": "light"
     },
     "output_type": "display_data"
    },
    {
     "name": "stdout",
     "output_type": "stream",
     "text": [
      "=================================================\n",
      "0.9998698\n",
      "6.188884e-05\n",
      "6.834991e-05\n",
      "44번째 신호등: 81338.jpg : green\n"
     ]
    },
    {
     "data": {
      "image/png": "[encoded data removed]",
      "text/plain": [
       "<Figure size 216x144 with 1 Axes>"
      ]
     },
     "metadata": {
      "needs_background": "light"
     },
     "output_type": "display_data"
    },
    {
     "name": "stdout",
     "output_type": "stream",
     "text": [
      "=================================================\n",
      "0.7891048\n",
      "0.06970098\n",
      "0.1411942\n",
      "Unknown\n"
     ]
    },
    {
     "data": {
      "image/png": "[encoded data removed]",
      "text/plain": [
       "<Figure size 216x144 with 1 Axes>"
      ]
     },
     "metadata": {
      "needs_background": "light"
     },
     "output_type": "display_data"
    },
    {
     "name": "stdout",
     "output_type": "stream",
     "text": [
      "=================================================\n",
      "0.9998103\n",
      "9.551945e-05\n",
      "9.4272735e-05\n",
      "46번째 신호등: 81340.jpg : green\n"
     ]
    },
    {
     "data": {
      "image/png": "[encoded data removed]",
      "text/plain": [
       "<Figure size 216x144 with 1 Axes>"
      ]
     },
     "metadata": {
      "needs_background": "light"
     },
     "output_type": "display_data"
    },
    {
     "name": "stdout",
     "output_type": "stream",
     "text": [
      "=================================================\n",
      "0.99995136\n",
      "2.528063e-05\n",
      "2.3410816e-05\n",
      "47번째 신호등: 81341.jpg : green\n"
     ]
    },
    {
     "data": {
      "image/png": "[encoded data removed]",
      "text/plain": [
       "<Figure size 216x144 with 1 Axes>"
      ]
     },
     "metadata": {
      "needs_background": "light"
     },
     "output_type": "display_data"
    },
    {
     "name": "stdout",
     "output_type": "stream",
     "text": [
      "=================================================\n"
     ]
    }
   ],
   "source": [
    "light_order = {0 : \"green\", 1 : \"red\", 2 : \"yellow\"}\n",
    "\n",
    "for i, x in enumerate(prediction):\n",
    "    count = 0\n",
    "    \n",
    "    for y in x:\n",
    "        print(y)\n",
    "        if y > 0.95:\n",
    "            count += 1\n",
    "        \n",
    "    if count > 0:\n",
    "        print(str(i)+\"번째 신호등: \" + file_list[i] + \" : \" + light_order[np.argmax(x)])\n",
    "    else:\n",
    "        print(\"Unknown\")\n",
    "      \n",
    "    tstImg = cv2.imread(Path2 + file_list[i])\n",
    "    tstImg = cv2.cvtColor(tstImg, cv2.COLOR_BGR2RGB)\n",
    "    plt.figure(figsize = (3, 2))\n",
    "    plt.imshow(tstImg)\n",
    "    plt.show()\n",
    "    print(\"=================================================\")"
   ]
  },
  {
   "cell_type": "code",
   "execution_count": null,
   "id": "78ea4404",
   "metadata": {},
   "outputs": [],
   "source": []
  },
  {
   "cell_type": "code",
   "execution_count": null,
   "id": "b4a7cc8d",
   "metadata": {},
   "outputs": [],
   "source": []
  }
 ],
 "metadata": {
  "kernelspec": {
   "display_name": "Python 3 (ipykernel)",
   "language": "python",
   "name": "python3"
  },
  "language_info": {
   "codemirror_mode": {
    "name": "ipython",
    "version": 3
   },
   "file_extension": ".py",
   "mimetype": "text/x-python",
   "name": "python",
   "nbconvert_exporter": "python",
   "pygments_lexer": "ipython3",
   "version": "3.8.1"
  },
  "toc": {
   "base_numbering": 1,
   "nav_menu": {},
   "number_sections": true,
   "sideBar": true,
   "skip_h1_title": false,
   "title_cell": "Table of Contents",
   "title_sidebar": "Contents",
   "toc_cell": false,
   "toc_position": {},
   "toc_section_display": true,
   "toc_window_display": false
  },
  "varInspector": {
   "cols": {
    "lenName": 16,
    "lenType": 16,
    "lenVar": 40
   },
   "kernels_config": {
    "python": {
     "delete_cmd_postfix": "",
     "delete_cmd_prefix": "del ",
     "library": "var_list.py",
     "varRefreshCmd": "print(var_dic_list())"
    },
    "r": {
     "delete_cmd_postfix": ") ",
     "delete_cmd_prefix": "rm(",
     "library": "var_list.r",
     "varRefreshCmd": "cat(var_dic_list()) "
    }
   },
   "types_to_exclude": [
    "module",
    "function",
    "builtin_function_or_method",
    "instance",
    "_Feature"
   ],
   "window_display": false
  }
 },
 "nbformat": 4,
 "nbformat_minor": 5
}
