{
 "cells": [
  {
   "cell_type": "markdown",
   "id": "1ab833f2",
   "metadata": {},
   "source": [
    "# 필요한 패키지 임포트"
   ]
  },
  {
   "cell_type": "code",
   "execution_count": 44,
   "id": "93c7aad1",
   "metadata": {
    "ExecuteTime": {
     "end_time": "2022-03-03T06:22:55.187493Z",
     "start_time": "2022-03-03T06:22:51.321455Z"
    }
   },
   "outputs": [],
   "source": [
    "import os\n",
    "import cv2\n",
    "import numpy as np\n",
    "import random\n",
    "from PIL import Image\n",
    "\n",
    "from matplotlib import pyplot as plt\n",
    "from tensorflow import keras\n",
    "import tensorflow as tf"
   ]
  },
  {
   "cell_type": "code",
   "execution_count": 45,
   "id": "2ff8f833",
   "metadata": {
    "ExecuteTime": {
     "end_time": "2022-03-03T05:36:52.301891Z",
     "start_time": "2022-03-03T05:36:51.588169Z"
    }
   },
   "outputs": [
    {
     "name": "stdout",
     "output_type": "stream",
     "text": [
      "['negative', 'positive']\n"
     ]
    }
   ],
   "source": [
    "## 이미지 불러와서 이미지 크기를 임의의 크기 으로 이미지 리사이즈\n",
    "all_folders = os.listdir(\"./TrafficLightImage/\")\n",
    "print(all_folders)\n",
    "\n",
    "# positive, negative\n",
    "for x in all_folders:\n",
    "    path = 'TrafficLightImage/' + x + '/' \n",
    "    file_list = os.listdir(path) # 폴더 하나마다 들어있는 파일들 리스트 저장\n",
    "\n",
    "    for A in file_list:\n",
    "        if A == \".DS_Store\":\n",
    "            continue\n",
    "        img = cv2.imread(path + A)\n",
    "        res = cv2.resize(img, dsize = (45, 15), interpolation = cv2.INTER_CUBIC)\n",
    "        cv2.imwrite(path + A, res)"
   ]
  },
  {
   "cell_type": "code",
   "execution_count": 46,
   "id": "b3d27fcf",
   "metadata": {
    "ExecuteTime": {
     "end_time": "2022-03-03T05:36:54.572490Z",
     "start_time": "2022-03-03T05:36:54.566915Z"
    }
   },
   "outputs": [
    {
     "name": "stdout",
     "output_type": "stream",
     "text": [
      "['negative', 'positive']\n"
     ]
    }
   ],
   "source": [
    "c = os.listdir(\"TrafficLightImage\")\n",
    "\n",
    "print(c) # 0,1 지정할 때 순서 확인"
   ]
  },
  {
   "cell_type": "code",
   "execution_count": 47,
   "id": "1229a9b5",
   "metadata": {
    "ExecuteTime": {
     "end_time": "2022-03-03T05:36:55.239812Z",
     "start_time": "2022-03-03T05:36:55.221901Z"
    }
   },
   "outputs": [],
   "source": [
    "class Data():\n",
    "    def __init__(self):\n",
    "        \n",
    "        self.train_x = []\n",
    "        self.train_y = []\n",
    "        self.test_x = []\n",
    "        self.test_y = []\n",
    "        \n",
    "        self.images()\n",
    "        \n",
    "    def images(self):\n",
    "        data = []\n",
    "        classes = os.listdir(\"TrafficLightImage\")\n",
    "        \n",
    "        if \".DS_Store\" in classes:\n",
    "            classes.remove(\".DS_Store\")\n",
    "            \n",
    "        for i, light in enumerate(classes): # negative : 0, positive : 1\n",
    "            print(i, light)\n",
    "            PATH = os.listdir(\"TrafficLightImage/\" + light)\n",
    "            \n",
    "            if \".DS_Store\" in PATH:\n",
    "                PATH.remove(\".DS_Store\")\n",
    "                \n",
    "            for x in PATH:\n",
    "                img = Image.open(\"TrafficLightImage/\"+ light + \"/\" + x)\n",
    "                data.append((np.asarray(img),i))\n",
    "                img.close()\n",
    "                \n",
    "        random.shuffle(data)\n",
    "        \n",
    "        # 데이터 분할\n",
    "        for i in range(len(data)):\n",
    "            if i < 0.8 * len(data):\n",
    "                self.train_x.append(data[i][0])\n",
    "                self.train_y.append(data[i][1])\n",
    "            else:\n",
    "                self.test_x.append(data[i][0])\n",
    "                self.test_y.append(data[i][1])\n",
    "                \n",
    "        self.train_x = (np.asarray(self.train_x) - np.min(self.train_x, axis = 0)) / (np.max(self.train_x, axis = 0) - np.min(self.train_x, axis = 0))\n",
    "        self.train_y = np.asarray(self.train_y)\n",
    "        \n",
    "        self.test_x = (np.asarray(self.test_x) - np.min(self.test_x, axis = 0)) / (np.max(self.test_x, axis = 0) - np.min(self.test_x, axis = 0))\n",
    "        self.test_y = np.asarray(self.test_y)\n",
    "        \n",
    "        print(\"train x size : \" + str(self.train_x.shape))\n",
    "        print(\"train y size : \" + str(self.train_y.shape))\n",
    "        print(\"test x size : \" + str(self.test_x.shape))\n",
    "        print(\"test y size : \" + str(self.test_y.shape))\n",
    "        \n",
    "    def draw_graph(history):\n",
    "        train_history = history.history[\"loss\"]\n",
    "        validation_history = history.history[\"val_loss\"]\n",
    "        fig = plt.figure(figsize = (8, 8))\n",
    "        plt.title(\"Loss History\")\n",
    "        plt.xlabel(\"EPOCH\")\n",
    "        plt.ylabel(\"LOSS Function\")\n",
    "        plt.plot(train_history, \"red\")\n",
    "        plt.plot(validation_history, 'blue')\n",
    "        # fig.savefig(\"train_history.png\")\n",
    "\n",
    "        train_history = history.history[\"accuracy\"]\n",
    "        validation_history = history.history[\"val_accuracy\"]\n",
    "        fig = plt.figure(figsize = (8, 8))\n",
    "        plt.title(\"Accuracy History\")\n",
    "        plt.xlabel(\"EPOCH\")\n",
    "        plt.ylabel(\"Accuracy\")\n",
    "        plt.plot(train_history, \"red\")\n",
    "        plt.plot(validation_history, 'blue')\n",
    "        # fig.savefig(\"accuracy_history.png\")\n",
    "        "
   ]
  },
  {
   "cell_type": "code",
   "execution_count": 48,
   "id": "7dc33f18",
   "metadata": {
    "ExecuteTime": {
     "end_time": "2022-03-03T06:20:32.447609Z",
     "start_time": "2022-03-03T06:20:32.161213Z"
    },
    "scrolled": false
   },
   "outputs": [
    {
     "name": "stdout",
     "output_type": "stream",
     "text": [
      "0 negative\n",
      "1 positive\n",
      "train x size : (13208, 15, 45, 3)\n",
      "train y size : (13208,)\n",
      "test x size : (3302, 15, 45, 3)\n",
      "test y size : (3302,)\n"
     ]
    }
   ],
   "source": [
    "A = Data()"
   ]
  },
  {
   "cell_type": "code",
   "execution_count": 49,
   "id": "fa47d02c",
   "metadata": {
    "ExecuteTime": {
     "end_time": "2022-03-03T06:20:34.057265Z",
     "start_time": "2022-03-03T06:20:34.036663Z"
    }
   },
   "outputs": [],
   "source": [
    "model = keras.Sequential([\n",
    "    keras.layers.Conv2D(16, (5, 5), activation = \"relu\"),\n",
    "    keras.layers.MaxPooling2D((2, 2)),\n",
    "    keras.layers.Dropout(0.3),\n",
    "    \n",
    "    keras.layers.Conv2D(64, (3, 3), activation = \"relu\"),\n",
    "    keras.layers.MaxPooling2D((2, 2)),\n",
    "    keras.layers.Dropout(0.3),\n",
    "    \n",
    "    keras.layers.Dense(128, activation = \"relu\"),\n",
    "    \n",
    "    keras.layers.Flatten(),\n",
    "    \n",
    "    # keras.layers.Dense(128, activation = \"relu\"),\n",
    "    # keras.layers.Dropout(0.2),\n",
    "    keras.layers.Dense(64, activation = \"relu\"),\n",
    "    keras.layers.Dropout(0.3),\n",
    "    keras.layers.Dense(32, activation = \"relu\"),\n",
    "    keras.layers.Dropout(0.3),\n",
    "    \n",
    "    keras.layers.Dense(1, activation = \"sigmoid\")\n",
    "])"
   ]
  },
  {
   "cell_type": "code",
   "execution_count": 50,
   "id": "d9e29521",
   "metadata": {
    "ExecuteTime": {
     "end_time": "2022-03-03T06:20:34.435302Z",
     "start_time": "2022-03-03T06:20:34.427659Z"
    }
   },
   "outputs": [],
   "source": [
    "model.compile(optimizer = 'adam',\n",
    "              metrics = [\"accuracy\"], \n",
    "              loss = \"binary_crossentropy\")"
   ]
  },
  {
   "cell_type": "code",
   "execution_count": 51,
   "id": "67fba07d",
   "metadata": {
    "ExecuteTime": {
     "end_time": "2022-03-03T06:20:34.883281Z",
     "start_time": "2022-03-03T06:20:34.880355Z"
    }
   },
   "outputs": [],
   "source": [
    "Epochs = 20"
   ]
  },
  {
   "cell_type": "code",
   "execution_count": 52,
   "id": "4b2a8138",
   "metadata": {},
   "outputs": [],
   "source": [
    "early_stop = keras.callbacks.EarlyStopping(monitor = 'val_loss', patience = 10)"
   ]
  },
  {
   "cell_type": "code",
   "execution_count": 53,
   "id": "6d1f9534",
   "metadata": {
    "ExecuteTime": {
     "end_time": "2022-03-03T06:20:47.205356Z",
     "start_time": "2022-03-03T06:20:36.499949Z"
    }
   },
   "outputs": [
    {
     "name": "stdout",
     "output_type": "stream",
     "text": [
      "Epoch 1/20\n",
      "104/104 [==============================] - 3s 23ms/step - loss: 0.4551 - accuracy: 0.7798 - val_loss: 0.1623 - val_accuracy: 0.9546\n",
      "Epoch 2/20\n",
      "104/104 [==============================] - 2s 21ms/step - loss: 0.1362 - accuracy: 0.9565 - val_loss: 0.0562 - val_accuracy: 0.9830\n",
      "Epoch 3/20\n",
      "104/104 [==============================] - 2s 21ms/step - loss: 0.0832 - accuracy: 0.9741 - val_loss: 0.0728 - val_accuracy: 0.9776\n",
      "Epoch 4/20\n",
      "104/104 [==============================] - 2s 21ms/step - loss: 0.0695 - accuracy: 0.9792 - val_loss: 0.0452 - val_accuracy: 0.9843\n",
      "Epoch 5/20\n",
      "104/104 [==============================] - 2s 20ms/step - loss: 0.0587 - accuracy: 0.9826 - val_loss: 0.0422 - val_accuracy: 0.9861\n",
      "Epoch 6/20\n",
      "104/104 [==============================] - 2s 20ms/step - loss: 0.0570 - accuracy: 0.9837 - val_loss: 0.0340 - val_accuracy: 0.9885\n",
      "Epoch 7/20\n",
      "104/104 [==============================] - 2s 20ms/step - loss: 0.0504 - accuracy: 0.9849 - val_loss: 0.0274 - val_accuracy: 0.9903\n",
      "Epoch 8/20\n",
      "104/104 [==============================] - 2s 20ms/step - loss: 0.0463 - accuracy: 0.9861 - val_loss: 0.0498 - val_accuracy: 0.9855\n",
      "Epoch 9/20\n",
      "104/104 [==============================] - 2s 21ms/step - loss: 0.0448 - accuracy: 0.9867 - val_loss: 0.0316 - val_accuracy: 0.9906\n",
      "Epoch 10/20\n",
      "104/104 [==============================] - 2s 20ms/step - loss: 0.0368 - accuracy: 0.9888 - val_loss: 0.0221 - val_accuracy: 0.9921\n",
      "Epoch 11/20\n",
      "104/104 [==============================] - 2s 21ms/step - loss: 0.0372 - accuracy: 0.9883 - val_loss: 0.0323 - val_accuracy: 0.9888\n",
      "Epoch 12/20\n",
      "104/104 [==============================] - 2s 21ms/step - loss: 0.0430 - accuracy: 0.9861 - val_loss: 0.0224 - val_accuracy: 0.9936\n",
      "Epoch 13/20\n",
      "104/104 [==============================] - 2s 21ms/step - loss: 0.0389 - accuracy: 0.9887 - val_loss: 0.0263 - val_accuracy: 0.9915\n",
      "Epoch 14/20\n",
      "104/104 [==============================] - 2s 20ms/step - loss: 0.0353 - accuracy: 0.9899 - val_loss: 0.0182 - val_accuracy: 0.9942\n",
      "Epoch 15/20\n",
      "104/104 [==============================] - 2s 20ms/step - loss: 0.0347 - accuracy: 0.9887 - val_loss: 0.0283 - val_accuracy: 0.9900\n",
      "Epoch 16/20\n",
      "104/104 [==============================] - 2s 21ms/step - loss: 0.0323 - accuracy: 0.9902 - val_loss: 0.0194 - val_accuracy: 0.9933\n",
      "Epoch 17/20\n",
      "104/104 [==============================] - 2s 21ms/step - loss: 0.0357 - accuracy: 0.9899 - val_loss: 0.0236 - val_accuracy: 0.9912\n",
      "Epoch 18/20\n",
      "104/104 [==============================] - 2s 21ms/step - loss: 0.0294 - accuracy: 0.9910 - val_loss: 0.0215 - val_accuracy: 0.9930\n",
      "Epoch 19/20\n",
      "104/104 [==============================] - 2s 21ms/step - loss: 0.0283 - accuracy: 0.9911 - val_loss: 0.0215 - val_accuracy: 0.9918\n",
      "Epoch 20/20\n",
      "104/104 [==============================] - 2s 20ms/step - loss: 0.0282 - accuracy: 0.9911 - val_loss: 0.0312 - val_accuracy: 0.9900\n"
     ]
    }
   ],
   "source": [
    "history = model.fit(A.train_x, A.train_y, \n",
    "                    epochs = Epochs,\n",
    "                    batch_size = 128,\n",
    "                    validation_data = (A.test_x, A.test_y),\n",
    "                    callbacks = [early_stop]\n",
    "                    )"
   ]
  },
  {
   "cell_type": "code",
   "execution_count": 54,
   "id": "19b09c62",
   "metadata": {
    "ExecuteTime": {
     "end_time": "2022-03-03T06:20:48.822796Z",
     "start_time": "2022-03-03T06:20:48.658793Z"
    },
    "scrolled": false
   },
   "outputs": [
    {
     "data": {
      "image/png": "[encoded data removed]",
      "text/plain": [
       "<Figure size 576x576 with 1 Axes>"
      ]
     },
     "metadata": {
      "needs_background": "light"
     },
     "output_type": "display_data"
    },
    {
     "data": {
      "image/png": "[encoded data removed]",
      "text/plain": [
       "<Figure size 576x576 with 1 Axes>"
      ]
     },
     "metadata": {
      "needs_background": "light"
     },
     "output_type": "display_data"
    }
   ],
   "source": [
    "Data.draw_graph(history)"
   ]
  },
  {
   "cell_type": "code",
   "execution_count": 55,
   "id": "5a6fd7a6",
   "metadata": {
    "ExecuteTime": {
     "end_time": "2022-03-03T06:20:58.684878Z",
     "start_time": "2022-03-03T06:20:58.644702Z"
    }
   },
   "outputs": [],
   "source": [
    "# 모델 저장\n",
    "model.save(\"traffic_light_detection_v16.h5\")   # 14, 15 괜찮음"
   ]
  },
  {
   "cell_type": "code",
   "execution_count": 56,
   "id": "3f0f3ce0",
   "metadata": {},
   "outputs": [],
   "source": [
    "# 모델 불러오기"
   ]
  },
  {
   "cell_type": "code",
   "execution_count": 57,
   "id": "caaf0227",
   "metadata": {
    "ExecuteTime": {
     "end_time": "2022-03-03T06:22:56.131771Z",
     "start_time": "2022-03-03T06:22:55.914421Z"
    }
   },
   "outputs": [],
   "source": [
    "model = tf.keras.models.load_model('traffic_light_detection_v16.h5')\n",
    "\n",
    "# traffic_light_detection_v4 괜찮음"
   ]
  },
  {
   "cell_type": "code",
   "execution_count": 58,
   "id": "10498028",
   "metadata": {
    "ExecuteTime": {
     "end_time": "2022-03-03T06:23:54.755461Z",
     "start_time": "2022-03-03T06:23:54.750026Z"
    },
    "scrolled": false
   },
   "outputs": [
    {
     "name": "stdout",
     "output_type": "stream",
     "text": [
      "Model: \"sequential_2\"\n",
      "_________________________________________________________________\n",
      " Layer (type)                Output Shape              Param #   \n",
      "=================================================================\n",
      " conv2d_4 (Conv2D)           (None, 11, 41, 16)        1216      \n",
      "                                                                 \n",
      " max_pooling2d_4 (MaxPooling  (None, 5, 20, 16)        0         \n",
      " 2D)                                                             \n",
      "                                                                 \n",
      " dropout_8 (Dropout)         (None, 5, 20, 16)         0         \n",
      "                                                                 \n",
      " conv2d_5 (Conv2D)           (None, 3, 18, 64)         9280      \n",
      "                                                                 \n",
      " max_pooling2d_5 (MaxPooling  (None, 1, 9, 64)         0         \n",
      " 2D)                                                             \n",
      "                                                                 \n",
      " dropout_9 (Dropout)         (None, 1, 9, 64)          0         \n",
      "                                                                 \n",
      " dense_8 (Dense)             (None, 1, 9, 128)         8320      \n",
      "                                                                 \n",
      " flatten_2 (Flatten)         (None, 1152)              0         \n",
      "                                                                 \n",
      " dense_9 (Dense)             (None, 64)                73792     \n",
      "                                                                 \n",
      " dropout_10 (Dropout)        (None, 64)                0         \n",
      "                                                                 \n",
      " dense_10 (Dense)            (None, 32)                2080      \n",
      "                                                                 \n",
      " dropout_11 (Dropout)        (None, 32)                0         \n",
      "                                                                 \n",
      " dense_11 (Dense)            (None, 1)                 33        \n",
      "                                                                 \n",
      "=================================================================\n",
      "Total params: 94,721\n",
      "Trainable params: 94,721\n",
      "Non-trainable params: 0\n",
      "_________________________________________________________________\n"
     ]
    }
   ],
   "source": [
    "model.summary()"
   ]
  },
  {
   "cell_type": "code",
   "execution_count": 59,
   "id": "f5af29b7",
   "metadata": {
    "ExecuteTime": {
     "end_time": "2022-03-03T06:23:07.330542Z",
     "start_time": "2022-03-03T06:23:07.300038Z"
    }
   },
   "outputs": [],
   "source": [
    "Path2 = 'data_2/all/'\n",
    "file_list = os.listdir(Path2)\n",
    "\n",
    "if \".DS_Store\" in file_list:\n",
    "    file_list.remove(\".DS_Store\")\n",
    "\n",
    "data2 = []\n",
    "\n",
    "for A in file_list:\n",
    "    if A == \".DS_Store\":\n",
    "        continue\n",
    "        \n",
    "    img2 = cv2.imread(Path2 + A)\n",
    "    res2 = cv2.resize(img2, dsize = (45, 15), interpolation = cv2.INTER_CUBIC)\n",
    "    cv2.imwrite(Path2 + A, res2)\n",
    "    \n",
    "for A in file_list:\n",
    "    if A == \".DS_Store\":\n",
    "        continue\n",
    "        \n",
    "    img3 = Image.open(Path2 + A)\n",
    "    data2.append(np.array(img3))\n",
    "    img3.close()"
   ]
  },
  {
   "cell_type": "code",
   "execution_count": 60,
   "id": "3345fb31",
   "metadata": {
    "ExecuteTime": {
     "end_time": "2022-03-03T06:23:17.784642Z",
     "start_time": "2022-03-03T06:23:17.781330Z"
    }
   },
   "outputs": [],
   "source": [
    "data2 = np.asarray(data2) / 255.0"
   ]
  },
  {
   "cell_type": "code",
   "execution_count": 61,
   "id": "1396c1bf",
   "metadata": {
    "ExecuteTime": {
     "end_time": "2022-03-03T06:23:18.349635Z",
     "start_time": "2022-03-03T06:23:18.185250Z"
    }
   },
   "outputs": [],
   "source": [
    "prediction = model.predict(data2)"
   ]
  },
  {
   "cell_type": "code",
   "execution_count": 62,
   "id": "8dea6b7f",
   "metadata": {
    "scrolled": true
   },
   "outputs": [
    {
     "data": {
      "text/plain": [
       "array([[9.9198616e-01],\n",
       "       [3.3301254e-05],\n",
       "       [7.5474381e-01],\n",
       "       [1.3834238e-04],\n",
       "       [9.9427620e-05],\n",
       "       [9.9999976e-01],\n",
       "       [9.9039698e-01],\n",
       "       [9.0753311e-01],\n",
       "       [4.1941702e-03],\n",
       "       [4.0110946e-04],\n",
       "       [1.3768673e-04],\n",
       "       [2.8467178e-04],\n",
       "       [3.6507608e-05],\n",
       "       [2.3302428e-05],\n",
       "       [1.1635118e-05],\n",
       "       [4.4065779e-05],\n",
       "       [5.0324202e-04],\n",
       "       [7.2194076e-01],\n",
       "       [9.8360646e-01],\n",
       "       [4.5413974e-01],\n",
       "       [2.1141086e-06],\n",
       "       [3.3480774e-06],\n",
       "       [3.6257505e-04],\n",
       "       [5.6324290e-05],\n",
       "       [7.2625279e-03],\n",
       "       [2.3638904e-03],\n",
       "       [4.8127770e-04],\n",
       "       [3.6627294e-05],\n",
       "       [1.1244533e-06],\n",
       "       [3.9711595e-04],\n",
       "       [2.0670022e-05],\n",
       "       [9.9986911e-01],\n",
       "       [4.5301318e-03],\n",
       "       [5.9868900e-05],\n",
       "       [1.2778848e-02],\n",
       "       [2.5969744e-04],\n",
       "       [1.2760758e-03],\n",
       "       [5.6827068e-04],\n",
       "       [1.1303127e-03],\n",
       "       [1.3801157e-03],\n",
       "       [9.7444654e-04],\n",
       "       [1.0443032e-03],\n",
       "       [8.5660815e-04],\n",
       "       [4.7755241e-04],\n",
       "       [3.2680452e-02],\n",
       "       [1.5899837e-03],\n",
       "       [9.9148458e-01],\n",
       "       [5.8764219e-04],\n",
       "       [9.9928832e-01],\n",
       "       [9.9923635e-01],\n",
       "       [2.5008023e-03],\n",
       "       [9.9047971e-01],\n",
       "       [1.4972776e-02],\n",
       "       [2.8765470e-02],\n",
       "       [8.3493888e-02],\n",
       "       [2.5953710e-01],\n",
       "       [2.4604797e-04],\n",
       "       [2.4881959e-03],\n",
       "       [1.3244152e-04],\n",
       "       [9.1677904e-04],\n",
       "       [1.3366342e-03],\n",
       "       [1.1406980e-04],\n",
       "       [1.8470883e-03],\n",
       "       [5.0577521e-04],\n",
       "       [2.5562942e-03],\n",
       "       [9.9906421e-01],\n",
       "       [9.8461920e-01],\n",
       "       [4.2280699e-06],\n",
       "       [2.9522181e-04],\n",
       "       [1.3950467e-04],\n",
       "       [9.4857812e-04],\n",
       "       [3.0253828e-03],\n",
       "       [1.4716387e-04],\n",
       "       [6.2477589e-04],\n",
       "       [2.1251440e-03],\n",
       "       [5.8460498e-01],\n",
       "       [6.6079288e-06],\n",
       "       [4.5621415e-05],\n",
       "       [1.1322280e-04],\n",
       "       [1.7886758e-02],\n",
       "       [4.6817990e-05],\n",
       "       [1.6013682e-03]], dtype=float32)"
      ]
     },
     "execution_count": 62,
     "metadata": {},
     "output_type": "execute_result"
    }
   ],
   "source": [
    "prediction"
   ]
  },
  {
   "cell_type": "code",
   "execution_count": 63,
   "id": "bf0c546b",
   "metadata": {
    "ExecuteTime": {
     "end_time": "2022-03-03T06:23:24.966919Z",
     "start_time": "2022-03-03T06:23:24.961615Z"
    },
    "scrolled": true
   },
   "outputs": [
    {
     "name": "stdout",
     "output_type": "stream",
     "text": [
      "[0.99198616]\n",
      "0번째 신호등: 13649663_1.jpg : positive\n",
      "1번째 신호등: 13668147_134.jpg : negative\n",
      "[0.7547438]\n",
      "2번째 신호등: 13668147_143.jpg : positive\n",
      "3번째 신호등: 13668147_151.jpg : negative\n",
      "4번째 신호등: 13681518_172.jpg : negative\n",
      "[0.99999976]\n",
      "5번째 신호등: 15430669_2.jpg : positive\n",
      "[0.990397]\n",
      "6번째 신호등: 15436551_1.jpg : positive\n",
      "[0.9075331]\n",
      "7번째 신호등: 227331.jpg : positive\n",
      "8번째 신호등: 227332.jpg : negative\n",
      "9번째 신호등: 227333.jpg : negative\n",
      "10번째 신호등: 227334.jpg : negative\n",
      "11번째 신호등: 227335.jpg : negative\n",
      "12번째 신호등: 227336.jpg : negative\n",
      "13번째 신호등: 227337.jpg : negative\n",
      "14번째 신호등: 227338.jpg : negative\n",
      "15번째 신호등: 227339.jpg : negative\n",
      "16번째 신호등: 227340.jpg : negative\n",
      "[0.72194076]\n",
      "17번째 신호등: 2348.jpg : positive\n",
      "[0.98360646]\n",
      "18번째 신호등: 2349.jpg : positive\n",
      "19번째 신호등: 24349.jpg : negative\n",
      "20번째 신호등: 24350.jpg : negative\n",
      "21번째 신호등: 24351.jpg : negative\n",
      "22번째 신호등: 24352.jpg : negative\n",
      "23번째 신호등: 24353.jpg : negative\n",
      "24번째 신호등: 24354.jpg : negative\n",
      "25번째 신호등: 24355.jpg : negative\n",
      "26번째 신호등: 24356.jpg : negative\n",
      "27번째 신호등: 24357.jpg : negative\n",
      "28번째 신호등: 24358.jpg : negative\n",
      "29번째 신호등: 24359.jpg : negative\n",
      "30번째 신호등: 79464.jpg : negative\n",
      "[0.9998691]\n",
      "31번째 신호등: 79465.jpg : positive\n",
      "32번째 신호등: 81324.jpg : negative\n",
      "33번째 신호등: 81325.jpg : negative\n",
      "34번째 신호등: 81326.jpg : negative\n",
      "35번째 신호등: 81327.jpg : negative\n",
      "36번째 신호등: 81328.jpg : negative\n",
      "37번째 신호등: 81329.jpg : negative\n",
      "38번째 신호등: 81330.jpg : negative\n",
      "39번째 신호등: 81331.jpg : negative\n",
      "40번째 신호등: 81332.jpg : negative\n",
      "41번째 신호등: 81333.jpg : negative\n",
      "42번째 신호등: 81334.jpg : negative\n",
      "43번째 신호등: 81335.jpg : negative\n",
      "44번째 신호등: 81336.jpg : negative\n",
      "45번째 신호등: 81337.jpg : negative\n",
      "[0.9914846]\n",
      "46번째 신호등: 81338.jpg : positive\n",
      "47번째 신호등: 81339.jpg : negative\n",
      "[0.9992883]\n",
      "48번째 신호등: 81340.jpg : positive\n",
      "[0.99923635]\n",
      "49번째 신호등: 81341.jpg : positive\n",
      "50번째 신호등: frame0_19.jpg : negative\n",
      "[0.9904797]\n",
      "51번째 신호등: frame14_24.jpg : positive\n",
      "52번째 신호등: frame15_358.jpg : negative\n",
      "53번째 신호등: frame15_359.jpg : negative\n",
      "54번째 신호등: frame17_209.jpg : negative\n",
      "55번째 신호등: frame17_211.jpg : negative\n",
      "56번째 신호등: frame17_32.jpg : negative\n",
      "57번째 신호등: frame17_439.jpg : negative\n",
      "58번째 신호등: frame18_320.jpg : negative\n",
      "59번째 신호등: frame18_36.jpg : negative\n",
      "60번째 신호등: frame1_6.jpg : negative\n",
      "61번째 신호등: frame1_7.jpg : negative\n",
      "62번째 신호등: frame1_8.jpg : negative\n",
      "63번째 신호등: frame1_9.jpg : negative\n",
      "64번째 신호등: frame29_719.jpg : negative\n",
      "[0.9990642]\n",
      "65번째 신호등: frame34_215.jpg : positive\n",
      "[0.9846192]\n",
      "66번째 신호등: frame34_216.jpg : positive\n",
      "67번째 신호등: frame35_223.jpg : negative\n",
      "68번째 신호등: frame35_948.jpg : negative\n",
      "69번째 신호등: frame35_953.jpg : negative\n",
      "70번째 신호등: frame3_149.jpg : negative\n",
      "71번째 신호등: frame3_150.jpg : negative\n",
      "72번째 신호등: frame52_441.jpg : negative\n",
      "73번째 신호등: frame52_442.jpg : negative\n",
      "74번째 신호등: frame54_477.jpg : negative\n",
      "[0.584605]\n",
      "75번째 신호등: frame54_478.jpg : positive\n",
      "76번째 신호등: frame56_495.jpg : negative\n",
      "77번째 신호등: frame57_510.jpg : negative\n",
      "78번째 신호등: frame66_1982.jpg : negative\n",
      "79번째 신호등: frame67_1989.jpg : negative\n",
      "80번째 신호등: frame6_526.jpg : negative\n",
      "81번째 신호등: frame9_670.jpg : negative\n"
     ]
    }
   ],
   "source": [
    "light_order = {0 : \"negative\", 1 : \"positive\"}\n",
    "\n",
    "for i, x in enumerate(prediction):\n",
    "    count = 0\n",
    "    \n",
    "    if x >= 0.5:\n",
    "        print(x)\n",
    "        print(str(i) + \"번째 신호등: \" + file_list[i] + \" : \" + light_order[1])\n",
    "    else:\n",
    "        print(str(i) + \"번째 신호등: \" + file_list[i] + \" : \" + light_order[0])\n",
    "    '''\n",
    "    for y in x:\n",
    "        if y > 0.90:\n",
    "            count += 1\n",
    "    if count > 0:\n",
    "        print(str(i)+\"번째 신호등: \" + file_list[i] + \" : \" + light_order[np.argmax(x)])\n",
    "    '''"
   ]
  },
  {
   "cell_type": "code",
   "execution_count": null,
   "id": "aa5b69db",
   "metadata": {},
   "outputs": [],
   "source": []
  },
  {
   "cell_type": "code",
   "execution_count": null,
   "id": "9f728edd",
   "metadata": {},
   "outputs": [],
   "source": []
  },
  {
   "cell_type": "code",
   "execution_count": null,
   "id": "8966e09c",
   "metadata": {},
   "outputs": [],
   "source": []
  },
  {
   "cell_type": "markdown",
   "id": "3270b4f6",
   "metadata": {},
   "source": [
    "# 이미지랑 같이 출력"
   ]
  },
  {
   "cell_type": "code",
   "execution_count": 64,
   "id": "aac06221",
   "metadata": {
    "scrolled": false
   },
   "outputs": [
    {
     "name": "stdout",
     "output_type": "stream",
     "text": [
      "0번째 신호등: 13649663_1.jpg : [0.99198616] positive\n"
     ]
    },
    {
     "data": {
      "image/png": "[encoded data removed]",
      "text/plain": [
       "<Figure size 216x144 with 1 Axes>"
      ]
     },
     "metadata": {
      "needs_background": "light"
     },
     "output_type": "display_data"
    },
    {
     "name": "stdout",
     "output_type": "stream",
     "text": [
      "=================================================\n",
      "1번째 신호등: 13668147_134.jpg : [3.3301254e-05] negative\n"
     ]
    },
    {
     "data": {
      "image/png": "[encoded data removed]",
      "text/plain": [
       "<Figure size 216x144 with 1 Axes>"
      ]
     },
     "metadata": {
      "needs_background": "light"
     },
     "output_type": "display_data"
    },
    {
     "name": "stdout",
     "output_type": "stream",
     "text": [
      "=================================================\n",
      "2번째 신호등: 13668147_143.jpg : [0.7547438] negative\n"
     ]
    },
    {
     "data": {
      "image/png": "[encoded data removed]",
      "text/plain": [
       "<Figure size 216x144 with 1 Axes>"
      ]
     },
     "metadata": {
      "needs_background": "light"
     },
     "output_type": "display_data"
    },
    {
     "name": "stdout",
     "output_type": "stream",
     "text": [
      "=================================================\n",
      "3번째 신호등: 13668147_151.jpg : [0.00013834] negative\n"
     ]
    },
    {
     "data": {
      "image/png": "[encoded data removed]",
      "text/plain": [
       "<Figure size 216x144 with 1 Axes>"
      ]
     },
     "metadata": {
      "needs_background": "light"
     },
     "output_type": "display_data"
    },
    {
     "name": "stdout",
     "output_type": "stream",
     "text": [
      "=================================================\n",
      "4번째 신호등: 13681518_172.jpg : [9.942762e-05] negative\n"
     ]
    },
    {
     "data": {
      "image/png": "[encoded data removed]",
      "text/plain": [
       "<Figure size 216x144 with 1 Axes>"
      ]
     },
     "metadata": {
      "needs_background": "light"
     },
     "output_type": "display_data"
    },
    {
     "name": "stdout",
     "output_type": "stream",
     "text": [
      "=================================================\n",
      "5번째 신호등: 15430669_2.jpg : [0.99999976] positive\n"
     ]
    },
    {
     "data": {
      "image/png": "[encoded data removed]",
      "text/plain": [
       "<Figure size 216x144 with 1 Axes>"
      ]
     },
     "metadata": {
      "needs_background": "light"
     },
     "output_type": "display_data"
    },
    {
     "name": "stdout",
     "output_type": "stream",
     "text": [
      "=================================================\n",
      "6번째 신호등: 15436551_1.jpg : [0.990397] positive\n"
     ]
    },
    {
     "data": {
      "image/png": "[encoded data removed]",
      "text/plain": [
       "<Figure size 216x144 with 1 Axes>"
      ]
     },
     "metadata": {
      "needs_background": "light"
     },
     "output_type": "display_data"
    },
    {
     "name": "stdout",
     "output_type": "stream",
     "text": [
      "=================================================\n",
      "7번째 신호등: 227331.jpg : [0.9075331] positive\n"
     ]
    },
    {
     "data": {
      "image/png": "[encoded data removed]",
      "text/plain": [
       "<Figure size 216x144 with 1 Axes>"
      ]
     },
     "metadata": {
      "needs_background": "light"
     },
     "output_type": "display_data"
    },
    {
     "name": "stdout",
     "output_type": "stream",
     "text": [
      "=================================================\n",
      "8번째 신호등: 227332.jpg : [0.00419417] negative\n"
     ]
    },
    {
     "data": {
      "image/png": "[encoded data removed]",
      "text/plain": [
       "<Figure size 216x144 with 1 Axes>"
      ]
     },
     "metadata": {
      "needs_background": "light"
     },
     "output_type": "display_data"
    },
    {
     "name": "stdout",
     "output_type": "stream",
     "text": [
      "=================================================\n",
      "9번째 신호등: 227333.jpg : [0.00040111] negative\n"
     ]
    },
    {
     "data": {
      "image/png": "[encoded data removed]",
      "text/plain": [
       "<Figure size 216x144 with 1 Axes>"
      ]
     },
     "metadata": {
      "needs_background": "light"
     },
     "output_type": "display_data"
    },
    {
     "name": "stdout",
     "output_type": "stream",
     "text": [
      "=================================================\n",
      "10번째 신호등: 227334.jpg : [0.00013769] negative\n"
     ]
    },
    {
     "data": {
      "image/png": "[encoded data removed]",
      "text/plain": [
       "<Figure size 216x144 with 1 Axes>"
      ]
     },
     "metadata": {
      "needs_background": "light"
     },
     "output_type": "display_data"
    },
    {
     "name": "stdout",
     "output_type": "stream",
     "text": [
      "=================================================\n",
      "11번째 신호등: 227335.jpg : [0.00028467] negative\n"
     ]
    },
    {
     "data": {
      "image/png": "[encoded data removed]",
      "text/plain": [
       "<Figure size 216x144 with 1 Axes>"
      ]
     },
     "metadata": {
      "needs_background": "light"
     },
     "output_type": "display_data"
    },
    {
     "name": "stdout",
     "output_type": "stream",
     "text": [
      "=================================================\n",
      "12번째 신호등: 227336.jpg : [3.650761e-05] negative\n"
     ]
    },
    {
     "data": {
      "image/png": "[encoded data removed]",
      "text/plain": [
       "<Figure size 216x144 with 1 Axes>"
      ]
     },
     "metadata": {
      "needs_background": "light"
     },
     "output_type": "display_data"
    },
    {
     "name": "stdout",
     "output_type": "stream",
     "text": [
      "=================================================\n",
      "13번째 신호등: 227337.jpg : [2.3302428e-05] negative\n"
     ]
    },
    {
     "data": {
      "image/png": "[encoded data removed]",
      "text/plain": [
       "<Figure size 216x144 with 1 Axes>"
      ]
     },
     "metadata": {
      "needs_background": "light"
     },
     "output_type": "display_data"
    },
    {
     "name": "stdout",
     "output_type": "stream",
     "text": [
      "=================================================\n",
      "14번째 신호등: 227338.jpg : [1.1635118e-05] negative\n"
     ]
    },
    {
     "data": {
      "image/png": "[encoded data removed]",
      "text/plain": [
       "<Figure size 216x144 with 1 Axes>"
      ]
     },
     "metadata": {
      "needs_background": "light"
     },
     "output_type": "display_data"
    },
    {
     "name": "stdout",
     "output_type": "stream",
     "text": [
      "=================================================\n",
      "15번째 신호등: 227339.jpg : [4.406578e-05] negative\n"
     ]
    },
    {
     "data": {
      "image/png": "[encoded data removed]",
      "text/plain": [
       "<Figure size 216x144 with 1 Axes>"
      ]
     },
     "metadata": {
      "needs_background": "light"
     },
     "output_type": "display_data"
    },
    {
     "name": "stdout",
     "output_type": "stream",
     "text": [
      "=================================================\n",
      "16번째 신호등: 227340.jpg : [0.00050324] negative\n"
     ]
    },
    {
     "data": {
      "image/png": "[encoded data removed]",
      "text/plain": [
       "<Figure size 216x144 with 1 Axes>"
      ]
     },
     "metadata": {
      "needs_background": "light"
     },
     "output_type": "display_data"
    },
    {
     "name": "stdout",
     "output_type": "stream",
     "text": [
      "=================================================\n",
      "17번째 신호등: 2348.jpg : [0.72194076] negative\n"
     ]
    },
    {
     "data": {
      "image/png": "[encoded data removed]",
      "text/plain": [
       "<Figure size 216x144 with 1 Axes>"
      ]
     },
     "metadata": {
      "needs_background": "light"
     },
     "output_type": "display_data"
    },
    {
     "name": "stdout",
     "output_type": "stream",
     "text": [
      "=================================================\n",
      "18번째 신호등: 2349.jpg : [0.98360646] positive\n"
     ]
    },
    {
     "data": {
      "image/png": "[encoded data removed]",
      "text/plain": [
       "<Figure size 216x144 with 1 Axes>"
      ]
     },
     "metadata": {
      "needs_background": "light"
     },
     "output_type": "display_data"
    },
    {
     "name": "stdout",
     "output_type": "stream",
     "text": [
      "=================================================\n",
      "19번째 신호등: 24349.jpg : [0.45413974] negative\n"
     ]
    },
    {
     "data": {
      "image/png": "[encoded data removed]",
      "text/plain": [
       "<Figure size 216x144 with 1 Axes>"
      ]
     },
     "metadata": {
      "needs_background": "light"
     },
     "output_type": "display_data"
    },
    {
     "name": "stdout",
     "output_type": "stream",
     "text": [
      "=================================================\n",
      "20번째 신호등: 24350.jpg : [2.1141086e-06] negative\n"
     ]
    },
    {
     "data": {
      "image/png": "[encoded data removed]",
      "text/plain": [
       "<Figure size 216x144 with 1 Axes>"
      ]
     },
     "metadata": {
      "needs_background": "light"
     },
     "output_type": "display_data"
    },
    {
     "name": "stdout",
     "output_type": "stream",
     "text": [
      "=================================================\n",
      "21번째 신호등: 24351.jpg : [3.3480774e-06] negative\n"
     ]
    },
    {
     "data": {
      "image/png": "[encoded data removed]",
      "text/plain": [
       "<Figure size 216x144 with 1 Axes>"
      ]
     },
     "metadata": {
      "needs_background": "light"
     },
     "output_type": "display_data"
    },
    {
     "name": "stdout",
     "output_type": "stream",
     "text": [
      "=================================================\n",
      "22번째 신호등: 24352.jpg : [0.00036258] negative\n"
     ]
    },
    {
     "data": {
      "image/png": "[encoded data removed]",
      "text/plain": [
       "<Figure size 216x144 with 1 Axes>"
      ]
     },
     "metadata": {
      "needs_background": "light"
     },
     "output_type": "display_data"
    },
    {
     "name": "stdout",
     "output_type": "stream",
     "text": [
      "=================================================\n",
      "23번째 신호등: 24353.jpg : [5.632429e-05] negative\n"
     ]
    },
    {
     "data": {
      "image/png": "[encoded data removed]",
      "text/plain": [
       "<Figure size 216x144 with 1 Axes>"
      ]
     },
     "metadata": {
      "needs_background": "light"
     },
     "output_type": "display_data"
    },
    {
     "name": "stdout",
     "output_type": "stream",
     "text": [
      "=================================================\n",
      "24번째 신호등: 24354.jpg : [0.00726253] negative\n"
     ]
    },
    {
     "data": {
      "image/png": "[encoded data removed]",
      "text/plain": [
       "<Figure size 216x144 with 1 Axes>"
      ]
     },
     "metadata": {
      "needs_background": "light"
     },
     "output_type": "display_data"
    },
    {
     "name": "stdout",
     "output_type": "stream",
     "text": [
      "=================================================\n",
      "25번째 신호등: 24355.jpg : [0.00236389] negative\n"
     ]
    },
    {
     "data": {
      "image/png": "[encoded data removed]",
      "text/plain": [
       "<Figure size 216x144 with 1 Axes>"
      ]
     },
     "metadata": {
      "needs_background": "light"
     },
     "output_type": "display_data"
    },
    {
     "name": "stdout",
     "output_type": "stream",
     "text": [
      "=================================================\n",
      "26번째 신호등: 24356.jpg : [0.00048128] negative\n"
     ]
    },
    {
     "data": {
      "image/png": "[encoded data removed]",
      "text/plain": [
       "<Figure size 216x144 with 1 Axes>"
      ]
     },
     "metadata": {
      "needs_background": "light"
     },
     "output_type": "display_data"
    },
    {
     "name": "stdout",
     "output_type": "stream",
     "text": [
      "=================================================\n",
      "27번째 신호등: 24357.jpg : [3.6627294e-05] negative\n"
     ]
    },
    {
     "data": {
      "image/png": "[encoded data removed]",
      "text/plain": [
       "<Figure size 216x144 with 1 Axes>"
      ]
     },
     "metadata": {
      "needs_background": "light"
     },
     "output_type": "display_data"
    },
    {
     "name": "stdout",
     "output_type": "stream",
     "text": [
      "=================================================\n",
      "28번째 신호등: 24358.jpg : [1.1244533e-06] negative\n"
     ]
    },
    {
     "data": {
      "image/png": "[encoded data removed]",
      "text/plain": [
       "<Figure size 216x144 with 1 Axes>"
      ]
     },
     "metadata": {
      "needs_background": "light"
     },
     "output_type": "display_data"
    },
    {
     "name": "stdout",
     "output_type": "stream",
     "text": [
      "=================================================\n",
      "29번째 신호등: 24359.jpg : [0.00039712] negative\n"
     ]
    },
    {
     "data": {
      "image/png": "[encoded data removed]",
      "text/plain": [
       "<Figure size 216x144 with 1 Axes>"
      ]
     },
     "metadata": {
      "needs_background": "light"
     },
     "output_type": "display_data"
    },
    {
     "name": "stdout",
     "output_type": "stream",
     "text": [
      "=================================================\n",
      "30번째 신호등: 79464.jpg : [2.0670022e-05] negative\n"
     ]
    },
    {
     "data": {
      "image/png": "[encoded data removed]",
      "text/plain": [
       "<Figure size 216x144 with 1 Axes>"
      ]
     },
     "metadata": {
      "needs_background": "light"
     },
     "output_type": "display_data"
    },
    {
     "name": "stdout",
     "output_type": "stream",
     "text": [
      "=================================================\n",
      "31번째 신호등: 79465.jpg : [0.9998691] positive\n"
     ]
    },
    {
     "data": {
      "image/png": "[encoded data removed]",
      "text/plain": [
       "<Figure size 216x144 with 1 Axes>"
      ]
     },
     "metadata": {
      "needs_background": "light"
     },
     "output_type": "display_data"
    },
    {
     "name": "stdout",
     "output_type": "stream",
     "text": [
      "=================================================\n",
      "32번째 신호등: 81324.jpg : [0.00453013] negative\n"
     ]
    },
    {
     "data": {
      "image/png": "[encoded data removed]",
      "text/plain": [
       "<Figure size 216x144 with 1 Axes>"
      ]
     },
     "metadata": {
      "needs_background": "light"
     },
     "output_type": "display_data"
    },
    {
     "name": "stdout",
     "output_type": "stream",
     "text": [
      "=================================================\n",
      "33번째 신호등: 81325.jpg : [5.98689e-05] negative\n"
     ]
    },
    {
     "data": {
      "image/png": "[encoded data removed]",
      "text/plain": [
       "<Figure size 216x144 with 1 Axes>"
      ]
     },
     "metadata": {
      "needs_background": "light"
     },
     "output_type": "display_data"
    },
    {
     "name": "stdout",
     "output_type": "stream",
     "text": [
      "=================================================\n",
      "34번째 신호등: 81326.jpg : [0.01277885] negative\n"
     ]
    },
    {
     "data": {
      "image/png": "[encoded data removed]",
      "text/plain": [
       "<Figure size 216x144 with 1 Axes>"
      ]
     },
     "metadata": {
      "needs_background": "light"
     },
     "output_type": "display_data"
    },
    {
     "name": "stdout",
     "output_type": "stream",
     "text": [
      "=================================================\n",
      "35번째 신호등: 81327.jpg : [0.0002597] negative\n"
     ]
    },
    {
     "data": {
      "image/png": "[encoded data removed]",
      "text/plain": [
       "<Figure size 216x144 with 1 Axes>"
      ]
     },
     "metadata": {
      "needs_background": "light"
     },
     "output_type": "display_data"
    },
    {
     "name": "stdout",
     "output_type": "stream",
     "text": [
      "=================================================\n",
      "36번째 신호등: 81328.jpg : [0.00127608] negative\n"
     ]
    },
    {
     "data": {
      "image/png": "[encoded data removed]",
      "text/plain": [
       "<Figure size 216x144 with 1 Axes>"
      ]
     },
     "metadata": {
      "needs_background": "light"
     },
     "output_type": "display_data"
    },
    {
     "name": "stdout",
     "output_type": "stream",
     "text": [
      "=================================================\n",
      "37번째 신호등: 81329.jpg : [0.00056827] negative\n"
     ]
    },
    {
     "data": {
      "image/png": "[encoded data removed]",
      "text/plain": [
       "<Figure size 216x144 with 1 Axes>"
      ]
     },
     "metadata": {
      "needs_background": "light"
     },
     "output_type": "display_data"
    },
    {
     "name": "stdout",
     "output_type": "stream",
     "text": [
      "=================================================\n",
      "38번째 신호등: 81330.jpg : [0.00113031] negative\n"
     ]
    },
    {
     "data": {
      "image/png": "[encoded data removed]",
      "text/plain": [
       "<Figure size 216x144 with 1 Axes>"
      ]
     },
     "metadata": {
      "needs_background": "light"
     },
     "output_type": "display_data"
    },
    {
     "name": "stdout",
     "output_type": "stream",
     "text": [
      "=================================================\n",
      "39번째 신호등: 81331.jpg : [0.00138012] negative\n"
     ]
    },
    {
     "data": {
      "image/png": "[encoded data removed]",
      "text/plain": [
       "<Figure size 216x144 with 1 Axes>"
      ]
     },
     "metadata": {
      "needs_background": "light"
     },
     "output_type": "display_data"
    },
    {
     "name": "stdout",
     "output_type": "stream",
     "text": [
      "=================================================\n",
      "40번째 신호등: 81332.jpg : [0.00097445] negative\n"
     ]
    },
    {
     "data": {
      "image/png": "[encoded data removed]",
      "text/plain": [
       "<Figure size 216x144 with 1 Axes>"
      ]
     },
     "metadata": {
      "needs_background": "light"
     },
     "output_type": "display_data"
    },
    {
     "name": "stdout",
     "output_type": "stream",
     "text": [
      "=================================================\n",
      "41번째 신호등: 81333.jpg : [0.0010443] negative\n"
     ]
    },
    {
     "data": {
      "image/png": "[encoded data removed]",
      "text/plain": [
       "<Figure size 216x144 with 1 Axes>"
      ]
     },
     "metadata": {
      "needs_background": "light"
     },
     "output_type": "display_data"
    },
    {
     "name": "stdout",
     "output_type": "stream",
     "text": [
      "=================================================\n",
      "42번째 신호등: 81334.jpg : [0.00085661] negative\n"
     ]
    },
    {
     "data": {
      "image/png": "[encoded data removed]",
      "text/plain": [
       "<Figure size 216x144 with 1 Axes>"
      ]
     },
     "metadata": {
      "needs_background": "light"
     },
     "output_type": "display_data"
    },
    {
     "name": "stdout",
     "output_type": "stream",
     "text": [
      "=================================================\n",
      "43번째 신호등: 81335.jpg : [0.00047755] negative\n"
     ]
    },
    {
     "data": {
      "image/png": "[encoded data removed]",
      "text/plain": [
       "<Figure size 216x144 with 1 Axes>"
      ]
     },
     "metadata": {
      "needs_background": "light"
     },
     "output_type": "display_data"
    },
    {
     "name": "stdout",
     "output_type": "stream",
     "text": [
      "=================================================\n",
      "44번째 신호등: 81336.jpg : [0.03268045] negative\n"
     ]
    },
    {
     "data": {
      "image/png": "[encoded data removed]",
      "text/plain": [
       "<Figure size 216x144 with 1 Axes>"
      ]
     },
     "metadata": {
      "needs_background": "light"
     },
     "output_type": "display_data"
    },
    {
     "name": "stdout",
     "output_type": "stream",
     "text": [
      "=================================================\n",
      "45번째 신호등: 81337.jpg : [0.00158998] negative\n"
     ]
    },
    {
     "data": {
      "image/png": "[encoded data removed]",
      "text/plain": [
       "<Figure size 216x144 with 1 Axes>"
      ]
     },
     "metadata": {
      "needs_background": "light"
     },
     "output_type": "display_data"
    },
    {
     "name": "stdout",
     "output_type": "stream",
     "text": [
      "=================================================\n",
      "46번째 신호등: 81338.jpg : [0.9914846] positive\n"
     ]
    },
    {
     "data": {
      "image/png": "[encoded data removed]",
      "text/plain": [
       "<Figure size 216x144 with 1 Axes>"
      ]
     },
     "metadata": {
      "needs_background": "light"
     },
     "output_type": "display_data"
    },
    {
     "name": "stdout",
     "output_type": "stream",
     "text": [
      "=================================================\n",
      "47번째 신호등: 81339.jpg : [0.00058764] negative\n"
     ]
    },
    {
     "data": {
      "image/png": "[encoded data removed]",
      "text/plain": [
       "<Figure size 216x144 with 1 Axes>"
      ]
     },
     "metadata": {
      "needs_background": "light"
     },
     "output_type": "display_data"
    },
    {
     "name": "stdout",
     "output_type": "stream",
     "text": [
      "=================================================\n",
      "48번째 신호등: 81340.jpg : [0.9992883] positive\n"
     ]
    },
    {
     "data": {
      "image/png": "[encoded data removed]",
      "text/plain": [
       "<Figure size 216x144 with 1 Axes>"
      ]
     },
     "metadata": {
      "needs_background": "light"
     },
     "output_type": "display_data"
    },
    {
     "name": "stdout",
     "output_type": "stream",
     "text": [
      "=================================================\n",
      "49번째 신호등: 81341.jpg : [0.99923635] positive\n"
     ]
    },
    {
     "data": {
      "image/png": "[encoded data removed]",
      "text/plain": [
       "<Figure size 216x144 with 1 Axes>"
      ]
     },
     "metadata": {
      "needs_background": "light"
     },
     "output_type": "display_data"
    },
    {
     "name": "stdout",
     "output_type": "stream",
     "text": [
      "=================================================\n",
      "50번째 신호등: frame0_19.jpg : [0.0025008] negative\n"
     ]
    },
    {
     "data": {
      "image/png": "[encoded data removed]",
      "text/plain": [
       "<Figure size 216x144 with 1 Axes>"
      ]
     },
     "metadata": {
      "needs_background": "light"
     },
     "output_type": "display_data"
    },
    {
     "name": "stdout",
     "output_type": "stream",
     "text": [
      "=================================================\n",
      "51번째 신호등: frame14_24.jpg : [0.9904797] positive\n"
     ]
    },
    {
     "data": {
      "image/png": "[encoded data removed]",
      "text/plain": [
       "<Figure size 216x144 with 1 Axes>"
      ]
     },
     "metadata": {
      "needs_background": "light"
     },
     "output_type": "display_data"
    },
    {
     "name": "stdout",
     "output_type": "stream",
     "text": [
      "=================================================\n",
      "52번째 신호등: frame15_358.jpg : [0.01497278] negative\n"
     ]
    },
    {
     "data": {
      "image/png": "[encoded data removed]",
      "text/plain": [
       "<Figure size 216x144 with 1 Axes>"
      ]
     },
     "metadata": {
      "needs_background": "light"
     },
     "output_type": "display_data"
    },
    {
     "name": "stdout",
     "output_type": "stream",
     "text": [
      "=================================================\n",
      "53번째 신호등: frame15_359.jpg : [0.02876547] negative\n"
     ]
    },
    {
     "data": {
      "image/png": "[encoded data removed]",
      "text/plain": [
       "<Figure size 216x144 with 1 Axes>"
      ]
     },
     "metadata": {
      "needs_background": "light"
     },
     "output_type": "display_data"
    },
    {
     "name": "stdout",
     "output_type": "stream",
     "text": [
      "=================================================\n",
      "54번째 신호등: frame17_209.jpg : [0.08349389] negative\n"
     ]
    },
    {
     "data": {
      "image/png": "[encoded data removed]",
      "text/plain": [
       "<Figure size 216x144 with 1 Axes>"
      ]
     },
     "metadata": {
      "needs_background": "light"
     },
     "output_type": "display_data"
    },
    {
     "name": "stdout",
     "output_type": "stream",
     "text": [
      "=================================================\n",
      "55번째 신호등: frame17_211.jpg : [0.2595371] negative\n"
     ]
    },
    {
     "data": {
      "image/png": "[encoded data removed]",
      "text/plain": [
       "<Figure size 216x144 with 1 Axes>"
      ]
     },
     "metadata": {
      "needs_background": "light"
     },
     "output_type": "display_data"
    },
    {
     "name": "stdout",
     "output_type": "stream",
     "text": [
      "=================================================\n",
      "56번째 신호등: frame17_32.jpg : [0.00024605] negative\n"
     ]
    },
    {
     "data": {
      "image/png": "[encoded data removed]",
      "text/plain": [
       "<Figure size 216x144 with 1 Axes>"
      ]
     },
     "metadata": {
      "needs_background": "light"
     },
     "output_type": "display_data"
    },
    {
     "name": "stdout",
     "output_type": "stream",
     "text": [
      "=================================================\n",
      "57번째 신호등: frame17_439.jpg : [0.0024882] negative\n"
     ]
    },
    {
     "data": {
      "image/png": "[encoded data removed]",
      "text/plain": [
       "<Figure size 216x144 with 1 Axes>"
      ]
     },
     "metadata": {
      "needs_background": "light"
     },
     "output_type": "display_data"
    },
    {
     "name": "stdout",
     "output_type": "stream",
     "text": [
      "=================================================\n",
      "58번째 신호등: frame18_320.jpg : [0.00013244] negative\n"
     ]
    },
    {
     "data": {
      "image/png": "[encoded data removed]",
      "text/plain": [
       "<Figure size 216x144 with 1 Axes>"
      ]
     },
     "metadata": {
      "needs_background": "light"
     },
     "output_type": "display_data"
    },
    {
     "name": "stdout",
     "output_type": "stream",
     "text": [
      "=================================================\n",
      "59번째 신호등: frame18_36.jpg : [0.00091678] negative\n"
     ]
    },
    {
     "data": {
      "image/png": "[encoded data removed]",
      "text/plain": [
       "<Figure size 216x144 with 1 Axes>"
      ]
     },
     "metadata": {
      "needs_background": "light"
     },
     "output_type": "display_data"
    },
    {
     "name": "stdout",
     "output_type": "stream",
     "text": [
      "=================================================\n",
      "60번째 신호등: frame1_6.jpg : [0.00133663] negative\n"
     ]
    },
    {
     "data": {
      "image/png": "[encoded data removed]",
      "text/plain": [
       "<Figure size 216x144 with 1 Axes>"
      ]
     },
     "metadata": {
      "needs_background": "light"
     },
     "output_type": "display_data"
    },
    {
     "name": "stdout",
     "output_type": "stream",
     "text": [
      "=================================================\n",
      "61번째 신호등: frame1_7.jpg : [0.00011407] negative\n"
     ]
    },
    {
     "data": {
      "image/png": "[encoded data removed]",
      "text/plain": [
       "<Figure size 216x144 with 1 Axes>"
      ]
     },
     "metadata": {
      "needs_background": "light"
     },
     "output_type": "display_data"
    },
    {
     "name": "stdout",
     "output_type": "stream",
     "text": [
      "=================================================\n",
      "62번째 신호등: frame1_8.jpg : [0.00184709] negative\n"
     ]
    },
    {
     "data": {
      "image/png": "[encoded data removed]",
      "text/plain": [
       "<Figure size 216x144 with 1 Axes>"
      ]
     },
     "metadata": {
      "needs_background": "light"
     },
     "output_type": "display_data"
    },
    {
     "name": "stdout",
     "output_type": "stream",
     "text": [
      "=================================================\n",
      "63번째 신호등: frame1_9.jpg : [0.00050578] negative\n"
     ]
    },
    {
     "data": {
      "image/png": "[encoded data removed]",
      "text/plain": [
       "<Figure size 216x144 with 1 Axes>"
      ]
     },
     "metadata": {
      "needs_background": "light"
     },
     "output_type": "display_data"
    },
    {
     "name": "stdout",
     "output_type": "stream",
     "text": [
      "=================================================\n",
      "64번째 신호등: frame29_719.jpg : [0.00255629] negative\n"
     ]
    },
    {
     "data": {
      "image/png": "[encoded data removed]",
      "text/plain": [
       "<Figure size 216x144 with 1 Axes>"
      ]
     },
     "metadata": {
      "needs_background": "light"
     },
     "output_type": "display_data"
    },
    {
     "name": "stdout",
     "output_type": "stream",
     "text": [
      "=================================================\n",
      "65번째 신호등: frame34_215.jpg : [0.9990642] positive\n"
     ]
    },
    {
     "data": {
      "image/png": "[encoded data removed]",
      "text/plain": [
       "<Figure size 216x144 with 1 Axes>"
      ]
     },
     "metadata": {
      "needs_background": "light"
     },
     "output_type": "display_data"
    },
    {
     "name": "stdout",
     "output_type": "stream",
     "text": [
      "=================================================\n",
      "66번째 신호등: frame34_216.jpg : [0.9846192] positive\n"
     ]
    },
    {
     "data": {
      "image/png": "[encoded data removed]",
      "text/plain": [
       "<Figure size 216x144 with 1 Axes>"
      ]
     },
     "metadata": {
      "needs_background": "light"
     },
     "output_type": "display_data"
    },
    {
     "name": "stdout",
     "output_type": "stream",
     "text": [
      "=================================================\n",
      "67번째 신호등: frame35_223.jpg : [4.22807e-06] negative\n"
     ]
    },
    {
     "data": {
      "image/png": "[encoded data removed]",
      "text/plain": [
       "<Figure size 216x144 with 1 Axes>"
      ]
     },
     "metadata": {
      "needs_background": "light"
     },
     "output_type": "display_data"
    },
    {
     "name": "stdout",
     "output_type": "stream",
     "text": [
      "=================================================\n",
      "68번째 신호등: frame35_948.jpg : [0.00029522] negative\n"
     ]
    },
    {
     "data": {
      "image/png": "[encoded data removed]",
      "text/plain": [
       "<Figure size 216x144 with 1 Axes>"
      ]
     },
     "metadata": {
      "needs_background": "light"
     },
     "output_type": "display_data"
    },
    {
     "name": "stdout",
     "output_type": "stream",
     "text": [
      "=================================================\n",
      "69번째 신호등: frame35_953.jpg : [0.0001395] negative\n"
     ]
    },
    {
     "data": {
      "image/png": "[encoded data removed]",
      "text/plain": [
       "<Figure size 216x144 with 1 Axes>"
      ]
     },
     "metadata": {
      "needs_background": "light"
     },
     "output_type": "display_data"
    },
    {
     "name": "stdout",
     "output_type": "stream",
     "text": [
      "=================================================\n",
      "70번째 신호등: frame3_149.jpg : [0.00094858] negative\n"
     ]
    },
    {
     "data": {
      "image/png": "[encoded data removed]",
      "text/plain": [
       "<Figure size 216x144 with 1 Axes>"
      ]
     },
     "metadata": {
      "needs_background": "light"
     },
     "output_type": "display_data"
    },
    {
     "name": "stdout",
     "output_type": "stream",
     "text": [
      "=================================================\n",
      "71번째 신호등: frame3_150.jpg : [0.00302538] negative\n"
     ]
    },
    {
     "data": {
      "image/png": "[encoded data removed]",
      "text/plain": [
       "<Figure size 216x144 with 1 Axes>"
      ]
     },
     "metadata": {
      "needs_background": "light"
     },
     "output_type": "display_data"
    },
    {
     "name": "stdout",
     "output_type": "stream",
     "text": [
      "=================================================\n",
      "72번째 신호등: frame52_441.jpg : [0.00014716] negative\n"
     ]
    },
    {
     "data": {
      "image/png": "[encoded data removed]",
      "text/plain": [
       "<Figure size 216x144 with 1 Axes>"
      ]
     },
     "metadata": {
      "needs_background": "light"
     },
     "output_type": "display_data"
    },
    {
     "name": "stdout",
     "output_type": "stream",
     "text": [
      "=================================================\n",
      "73번째 신호등: frame52_442.jpg : [0.00062478] negative\n"
     ]
    },
    {
     "data": {
      "image/png": "[encoded data removed]",
      "text/plain": [
       "<Figure size 216x144 with 1 Axes>"
      ]
     },
     "metadata": {
      "needs_background": "light"
     },
     "output_type": "display_data"
    },
    {
     "name": "stdout",
     "output_type": "stream",
     "text": [
      "=================================================\n",
      "74번째 신호등: frame54_477.jpg : [0.00212514] negative\n"
     ]
    },
    {
     "data": {
      "image/png": "[encoded data removed]",
      "text/plain": [
       "<Figure size 216x144 with 1 Axes>"
      ]
     },
     "metadata": {
      "needs_background": "light"
     },
     "output_type": "display_data"
    },
    {
     "name": "stdout",
     "output_type": "stream",
     "text": [
      "=================================================\n",
      "75번째 신호등: frame54_478.jpg : [0.584605] negative\n"
     ]
    },
    {
     "data": {
      "image/png": "[encoded data removed]",
      "text/plain": [
       "<Figure size 216x144 with 1 Axes>"
      ]
     },
     "metadata": {
      "needs_background": "light"
     },
     "output_type": "display_data"
    },
    {
     "name": "stdout",
     "output_type": "stream",
     "text": [
      "=================================================\n",
      "76번째 신호등: frame56_495.jpg : [6.6079288e-06] negative\n"
     ]
    },
    {
     "data": {
      "image/png": "[encoded data removed]",
      "text/plain": [
       "<Figure size 216x144 with 1 Axes>"
      ]
     },
     "metadata": {
      "needs_background": "light"
     },
     "output_type": "display_data"
    },
    {
     "name": "stdout",
     "output_type": "stream",
     "text": [
      "=================================================\n",
      "77번째 신호등: frame57_510.jpg : [4.5621415e-05] negative\n"
     ]
    },
    {
     "data": {
      "image/png": "[encoded data removed]",
      "text/plain": [
       "<Figure size 216x144 with 1 Axes>"
      ]
     },
     "metadata": {
      "needs_background": "light"
     },
     "output_type": "display_data"
    },
    {
     "name": "stdout",
     "output_type": "stream",
     "text": [
      "=================================================\n",
      "78번째 신호등: frame66_1982.jpg : [0.00011322] negative\n"
     ]
    },
    {
     "data": {
      "image/png": "[encoded data removed]",
      "text/plain": [
       "<Figure size 216x144 with 1 Axes>"
      ]
     },
     "metadata": {
      "needs_background": "light"
     },
     "output_type": "display_data"
    },
    {
     "name": "stdout",
     "output_type": "stream",
     "text": [
      "=================================================\n",
      "79번째 신호등: frame67_1989.jpg : [0.01788676] negative\n"
     ]
    },
    {
     "data": {
      "image/png": "[encoded data removed]",
      "text/plain": [
       "<Figure size 216x144 with 1 Axes>"
      ]
     },
     "metadata": {
      "needs_background": "light"
     },
     "output_type": "display_data"
    },
    {
     "name": "stdout",
     "output_type": "stream",
     "text": [
      "=================================================\n",
      "80번째 신호등: frame6_526.jpg : [4.681799e-05] negative\n"
     ]
    },
    {
     "data": {
      "image/png": "[encoded data removed]",
      "text/plain": [
       "<Figure size 216x144 with 1 Axes>"
      ]
     },
     "metadata": {
      "needs_background": "light"
     },
     "output_type": "display_data"
    },
    {
     "name": "stdout",
     "output_type": "stream",
     "text": [
      "=================================================\n",
      "81번째 신호등: frame9_670.jpg : [0.00160137] negative\n"
     ]
    },
    {
     "data": {
      "image/png": "[encoded data removed]",
      "text/plain": [
       "<Figure size 216x144 with 1 Axes>"
      ]
     },
     "metadata": {
      "needs_background": "light"
     },
     "output_type": "display_data"
    },
    {
     "name": "stdout",
     "output_type": "stream",
     "text": [
      "=================================================\n"
     ]
    }
   ],
   "source": [
    "light_order = {0 : \"negative\", 1 : \"positive\"}\n",
    "\n",
    "for i, x in enumerate(prediction):\n",
    "    count = 0\n",
    "    \n",
    "    if x >= 0.85:\n",
    "        print(str(i) + \"번째 신호등: \" + file_list[i] + \" : \" + str(x) + \" \" + light_order[1])\n",
    "    else:\n",
    "        print(str(i) + \"번째 신호등: \" + file_list[i] + \" : \" + str(x) + \" \" + light_order[0])\n",
    "    \n",
    "    '''\n",
    "    for y in x:\n",
    "        print(y)\n",
    "        if y > 0.90:\n",
    "            count += 1\n",
    "        \n",
    "    if count > 0:\n",
    "        print(str(i)+\"번째 신호등: \" + file_list[i] + \" : \" + light_order[np.argmax(x)])\n",
    "    else:\n",
    "        print(\"Unknown\")\n",
    "    '''\n",
    "      \n",
    "    tstImg = cv2.imread(Path2 + file_list[i])\n",
    "    tstImg = cv2.cvtColor(tstImg, cv2.COLOR_BGR2RGB)\n",
    "    plt.figure(figsize = (3, 2))\n",
    "    plt.imshow(tstImg)\n",
    "    plt.show()\n",
    "    print(\"=================================================\")"
   ]
  },
  {
   "cell_type": "code",
   "execution_count": null,
   "id": "78ea4404",
   "metadata": {},
   "outputs": [],
   "source": []
  },
  {
   "cell_type": "code",
   "execution_count": null,
   "id": "b4a7cc8d",
   "metadata": {},
   "outputs": [],
   "source": []
  }
 ],
 "metadata": {
  "kernelspec": {
   "display_name": "Python 3 (ipykernel)",
   "language": "python",
   "name": "python3"
  },
  "language_info": {
   "codemirror_mode": {
    "name": "ipython",
    "version": 3
   },
   "file_extension": ".py",
   "mimetype": "text/x-python",
   "name": "python",
   "nbconvert_exporter": "python",
   "pygments_lexer": "ipython3",
   "version": "3.8.1"
  },
  "toc": {
   "base_numbering": 1,
   "nav_menu": {},
   "number_sections": true,
   "sideBar": true,
   "skip_h1_title": false,
   "title_cell": "Table of Contents",
   "title_sidebar": "Contents",
   "toc_cell": false,
   "toc_position": {},
   "toc_section_display": true,
   "toc_window_display": false
  },
  "varInspector": {
   "cols": {
    "lenName": 16,
    "lenType": 16,
    "lenVar": 40
   },
   "kernels_config": {
    "python": {
     "delete_cmd_postfix": "",
     "delete_cmd_prefix": "del ",
     "library": "var_list.py",
     "varRefreshCmd": "print(var_dic_list())"
    },
    "r": {
     "delete_cmd_postfix": ") ",
     "delete_cmd_prefix": "rm(",
     "library": "var_list.r",
     "varRefreshCmd": "cat(var_dic_list()) "
    }
   },
   "types_to_exclude": [
    "module",
    "function",
    "builtin_function_or_method",
    "instance",
    "_Feature"
   ],
   "window_display": false
  }
 },
 "nbformat": 4,
 "nbformat_minor": 5
}
