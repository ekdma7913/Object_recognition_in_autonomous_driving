{
 "cells": [
  {
   "cell_type": "code",
   "execution_count": 2,
   "id": "93c7aad1",
   "metadata": {
    "ExecuteTime": {
     "end_time": "2022-03-03T06:22:55.187493Z",
     "start_time": "2022-03-03T06:22:51.321455Z"
    }
   },
   "outputs": [],
   "source": [
    "import os\n",
    "import cv2\n",
    "import numpy as np\n",
    "import random\n",
    "from PIL import Image\n",
    "\n",
    "from matplotlib import pyplot as plt\n",
    "from tensorflow import keras\n",
    "import tensorflow as tf"
   ]
  },
  {
   "cell_type": "code",
   "execution_count": 24,
   "id": "2ff8f833",
   "metadata": {
    "ExecuteTime": {
     "end_time": "2022-03-03T05:36:52.301891Z",
     "start_time": "2022-03-03T05:36:51.588169Z"
    }
   },
   "outputs": [],
   "source": [
    "## 이미지 불러와서 이미지 크기를 임의의 크기 으로 이미지 리사이즈\n",
    "\n",
    "# all_folders 은 폴더 명만 나와야됨(ex) green, red, yellow\n",
    "all_folders = os.listdir(\"data/\")\n",
    "all_folders.remove(\".DS_Store\")\n",
    "\n",
    "# 각 green, red, yellow 폴더에 들어가있는 신호등 이미지가 변환되서 저장됨(원본 사라짐)\n",
    "for x in all_folders:\n",
    "    path = 'data/'+x+'/' \n",
    "    file_list = os.listdir(path) # 폴더 하나마다 들어있는 파일들 리스트 저장\n",
    "\n",
    "    for A in file_list:\n",
    "        if A == \".DS_Store\":\n",
    "            continue\n",
    "        img = cv2.imread(path + A)\n",
    "        res = cv2.resize(img, dsize=(30, 10), interpolation=cv2.INTER_CUBIC)\n",
    "        cv2.imwrite(path + A, res)"
   ]
  },
  {
   "cell_type": "code",
   "execution_count": 25,
   "id": "b3d27fcf",
   "metadata": {
    "ExecuteTime": {
     "end_time": "2022-03-03T05:36:54.572490Z",
     "start_time": "2022-03-03T05:36:54.566915Z"
    }
   },
   "outputs": [
    {
     "name": "stdout",
     "output_type": "stream",
     "text": [
      "['green', 'red', 'yellow']\n"
     ]
    }
   ],
   "source": [
    "c = os.listdir(\"data\")\n",
    "c.remove(\".DS_Store\") #['.DS_Store','green','red','yellow']\n",
    "\n",
    "print(c) # 0,1,2 지정할 때 순서 확인"
   ]
  },
  {
   "cell_type": "code",
   "execution_count": 26,
   "id": "1229a9b5",
   "metadata": {
    "ExecuteTime": {
     "end_time": "2022-03-03T05:36:55.239812Z",
     "start_time": "2022-03-03T05:36:55.221901Z"
    }
   },
   "outputs": [],
   "source": [
    "class Data():\n",
    "    def __init__(self):\n",
    "        \n",
    "        self.train_x = []\n",
    "        self.train_y = []\n",
    "        self.test_x = []\n",
    "        self.test_y = []\n",
    "        \n",
    "        self.images()\n",
    "        \n",
    "    def images(self):\n",
    "        data = []\n",
    "        classes = os.listdir(\"data\")\n",
    "        if \".DS_Store\" in classes:\n",
    "            classes.remove(\".DS_Store\")\n",
    "        for i, light in enumerate(classes): #green:0 red:1 yellow:2\n",
    "            PATH = os.listdir(\"data/\" + light)\n",
    "            if \".DS_Store\" in PATH:\n",
    "                PATH.remove(\".DS_Store\")\n",
    "            for x in PATH:\n",
    "                img = Image.open(\"data/\"+ light + \"/\" + x)\n",
    "                data.append((np.asarray(img),i))\n",
    "                img.close()\n",
    "                \n",
    "        random.shuffle(data)\n",
    "        \n",
    "        for i in range(len(data)):\n",
    "            if i < 0.8*len(data):\n",
    "                self.train_x.append(data[i][0])\n",
    "                self.train_y.append(data[i][1])\n",
    "            else:\n",
    "                self.test_x.append(data[i][0])\n",
    "                self.test_y.append(data[i][1])\n",
    "                \n",
    "        self.train_x = np.asarray(self.train_x) / 255.0\n",
    "        self.test_x = np.asarray(self.test_x) / 255.0\n",
    "        \n",
    "        self.train_y = np.asarray(self.train_y)\n",
    "        self.test_y = np.asarray(self.test_y)\n",
    "        \n",
    "        print(\"train x size : \" + str(self.train_x.shape))\n",
    "        print(\"train y size : \" + str(self.train_y.shape))\n",
    "        print(\"test x size : \" + str(self.test_x.shape))\n",
    "        print(\"test y size : \" + str(self.test_y.shape))\n",
    "        \n",
    "    def draw_graph(history):\n",
    "        train_history = history.history[\"loss\"]\n",
    "        validation_history = history.history[\"val_loss\"]\n",
    "        fig = plt.figure(figsize=(8, 8))\n",
    "        plt.title(\"Loss History\")\n",
    "        plt.xlabel(\"EPOCH\")\n",
    "        plt.ylabel(\"LOSS Function\")\n",
    "        plt.plot(train_history, \"red\")\n",
    "        plt.plot(validation_history, 'blue')\n",
    "        fig.savefig(\"train_history.png\")\n",
    "\n",
    "        train_history = history.history[\"accuracy\"]\n",
    "        validation_history = history.history[\"val_accuracy\"]\n",
    "        fig = plt.figure(figsize=(8, 8))\n",
    "        plt.title(\"Accuracy History\")\n",
    "        plt.xlabel(\"EPOCH\")\n",
    "        plt.ylabel(\"Accuracy\")\n",
    "        plt.plot(train_history, \"red\")\n",
    "        plt.plot(validation_history, 'blue')\n",
    "        fig.savefig(\"accuracy_history.png\")"
   ]
  },
  {
   "cell_type": "code",
   "execution_count": 130,
   "id": "7dc33f18",
   "metadata": {
    "ExecuteTime": {
     "end_time": "2022-03-03T06:20:32.447609Z",
     "start_time": "2022-03-03T06:20:32.161213Z"
    }
   },
   "outputs": [
    {
     "name": "stdout",
     "output_type": "stream",
     "text": [
      "train x size : (3588, 10, 30, 3)\n",
      "train y size : (3588,)\n",
      "test x size : (896, 10, 30, 3)\n",
      "test y size : (896,)\n"
     ]
    }
   ],
   "source": [
    "A = Data()"
   ]
  },
  {
   "cell_type": "code",
   "execution_count": 131,
   "id": "fa47d02c",
   "metadata": {
    "ExecuteTime": {
     "end_time": "2022-03-03T06:20:34.057265Z",
     "start_time": "2022-03-03T06:20:34.036663Z"
    }
   },
   "outputs": [],
   "source": [
    "model = keras.Sequential([\n",
    "    keras.layers.Conv2D(32,(3,3), activation=\"relu\"),\n",
    "    keras.layers.MaxPooling2D((2,2)),\n",
    "    keras.layers.Dropout(0.2),\n",
    "    \n",
    "    keras.layers.Conv2D(64,(3,3), activation=\"relu\"),\n",
    "    keras.layers.MaxPooling2D((2,2)),\n",
    "    keras.layers.Dropout(0.2),\n",
    "    \n",
    "    #keras.layers.Conv2D(128,(3,3), activation=\"relu\"),\n",
    "    #keras.layers.MaxPooling2D((2,2)),\n",
    "    #keras.layers.Dropout(0.2),\n",
    "    \n",
    "    keras.layers.Flatten(),\n",
    "    \n",
    "    keras.layers.Dense(128, activation=\"relu\"),\n",
    "    keras.layers.Dropout(0.2),\n",
    "    keras.layers.Dense(64, activation=\"relu\"),\n",
    "    keras.layers.Dropout(0.2),\n",
    "    keras.layers.Dense(3, activation=\"softmax\")\n",
    "])"
   ]
  },
  {
   "cell_type": "code",
   "execution_count": 132,
   "id": "d9e29521",
   "metadata": {
    "ExecuteTime": {
     "end_time": "2022-03-03T06:20:34.435302Z",
     "start_time": "2022-03-03T06:20:34.427659Z"
    }
   },
   "outputs": [],
   "source": [
    "model.compile(optimizer=\"adam\", metrics=[\"accuracy\"],\n",
    "             loss = \"sparse_categorical_crossentropy\")"
   ]
  },
  {
   "cell_type": "code",
   "execution_count": 133,
   "id": "67fba07d",
   "metadata": {
    "ExecuteTime": {
     "end_time": "2022-03-03T06:20:34.883281Z",
     "start_time": "2022-03-03T06:20:34.880355Z"
    }
   },
   "outputs": [],
   "source": [
    "Epochs = 10"
   ]
  },
  {
   "cell_type": "code",
   "execution_count": 134,
   "id": "6d1f9534",
   "metadata": {
    "ExecuteTime": {
     "end_time": "2022-03-03T06:20:47.205356Z",
     "start_time": "2022-03-03T06:20:36.499949Z"
    }
   },
   "outputs": [
    {
     "name": "stdout",
     "output_type": "stream",
     "text": [
      "Epoch 1/10\n",
      "  1/113 [..............................] - ETA: 37s - loss: 1.0498 - accuracy: 0.6250"
     ]
    },
    {
     "name": "stderr",
     "output_type": "stream",
     "text": [
      "2022-03-03 15:20:36.680044: I tensorflow/core/grappler/optimizers/custom_graph_optimizer_registry.cc:112] Plugin optimizer for device_type GPU is enabled.\n"
     ]
    },
    {
     "name": "stdout",
     "output_type": "stream",
     "text": [
      "113/113 [==============================] - 1s 10ms/step - loss: 0.2567 - accuracy: 0.9156 - val_loss: 0.1116 - val_accuracy: 0.9632\n",
      "Epoch 2/10\n",
      "  8/113 [=>............................] - ETA: 0s - loss: 0.1466 - accuracy: 0.9609"
     ]
    },
    {
     "name": "stderr",
     "output_type": "stream",
     "text": [
      "2022-03-03 15:20:37.906490: I tensorflow/core/grappler/optimizers/custom_graph_optimizer_registry.cc:112] Plugin optimizer for device_type GPU is enabled.\n"
     ]
    },
    {
     "name": "stdout",
     "output_type": "stream",
     "text": [
      "113/113 [==============================] - 1s 9ms/step - loss: 0.1223 - accuracy: 0.9682 - val_loss: 0.2568 - val_accuracy: 0.9152\n",
      "Epoch 3/10\n",
      "113/113 [==============================] - 1s 9ms/step - loss: 0.1135 - accuracy: 0.9721 - val_loss: 0.0808 - val_accuracy: 0.9777\n",
      "Epoch 4/10\n",
      "113/113 [==============================] - 1s 9ms/step - loss: 0.0956 - accuracy: 0.9769 - val_loss: 0.0814 - val_accuracy: 0.9732\n",
      "Epoch 5/10\n",
      "113/113 [==============================] - 1s 9ms/step - loss: 0.0836 - accuracy: 0.9788 - val_loss: 0.1091 - val_accuracy: 0.9710\n",
      "Epoch 6/10\n",
      "113/113 [==============================] - 1s 9ms/step - loss: 0.0849 - accuracy: 0.9788 - val_loss: 0.0708 - val_accuracy: 0.9799\n",
      "Epoch 7/10\n",
      "113/113 [==============================] - 1s 9ms/step - loss: 0.0723 - accuracy: 0.9827 - val_loss: 0.0783 - val_accuracy: 0.9732\n",
      "Epoch 8/10\n",
      "113/113 [==============================] - 1s 9ms/step - loss: 0.0789 - accuracy: 0.9799 - val_loss: 0.0752 - val_accuracy: 0.9743\n",
      "Epoch 9/10\n",
      "113/113 [==============================] - 1s 9ms/step - loss: 0.0671 - accuracy: 0.9841 - val_loss: 0.0688 - val_accuracy: 0.9766\n",
      "Epoch 10/10\n",
      "113/113 [==============================] - 1s 9ms/step - loss: 0.0612 - accuracy: 0.9833 - val_loss: 0.0642 - val_accuracy: 0.9810\n"
     ]
    }
   ],
   "source": [
    "history = model.fit(A.train_x,A.train_y, epochs=Epochs,\n",
    "                   validation_data = (A.test_x,A.test_y))"
   ]
  },
  {
   "cell_type": "code",
   "execution_count": 135,
   "id": "19b09c62",
   "metadata": {
    "ExecuteTime": {
     "end_time": "2022-03-03T06:20:48.822796Z",
     "start_time": "2022-03-03T06:20:48.658793Z"
    }
   },
   "outputs": [
    {
     "data": {
      "image/png": "[encoded data removed]",
      "text/plain": [
       "<Figure size 576x576 with 1 Axes>"
      ]
     },
     "metadata": {
      "needs_background": "light"
     },
     "output_type": "display_data"
    },
    {
     "data": {
      "image/png": "[encoded data removed]",
      "text/plain": [
       "<Figure size 576x576 with 1 Axes>"
      ]
     },
     "metadata": {
      "needs_background": "light"
     },
     "output_type": "display_data"
    }
   ],
   "source": [
    "Data.draw_graph(history)"
   ]
  },
  {
   "cell_type": "code",
   "execution_count": 136,
   "id": "5a6fd7a6",
   "metadata": {
    "ExecuteTime": {
     "end_time": "2022-03-03T06:20:58.684878Z",
     "start_time": "2022-03-03T06:20:58.644702Z"
    }
   },
   "outputs": [],
   "source": [
    "# 모델 저장\n",
    "model.save(\"traffic_light.h5\")"
   ]
  },
  {
   "cell_type": "code",
   "execution_count": null,
   "id": "3f0f3ce0",
   "metadata": {},
   "outputs": [],
   "source": [
    "# 모델 불러오기"
   ]
  },
  {
   "cell_type": "code",
   "execution_count": 3,
   "id": "caaf0227",
   "metadata": {
    "ExecuteTime": {
     "end_time": "2022-03-03T06:22:56.131771Z",
     "start_time": "2022-03-03T06:22:55.914421Z"
    }
   },
   "outputs": [
    {
     "name": "stdout",
     "output_type": "stream",
     "text": [
      "Metal device set to: Apple M1\n"
     ]
    },
    {
     "name": "stderr",
     "output_type": "stream",
     "text": [
      "2022-03-03 15:22:55.937249: I tensorflow/core/common_runtime/pluggable_device/pluggable_device_factory.cc:305] Could not identify NUMA node of platform GPU ID 0, defaulting to 0. Your kernel may not have been built with NUMA support.\n",
      "2022-03-03 15:22:55.938032: I tensorflow/core/common_runtime/pluggable_device/pluggable_device_factory.cc:271] Created TensorFlow device (/job:localhost/replica:0/task:0/device:GPU:0 with 0 MB memory) -> physical PluggableDevice (device: 0, name: METAL, pci bus id: <undefined>)\n"
     ]
    }
   ],
   "source": [
    "model = tf.keras.models.load_model('traffic_light.h5')"
   ]
  },
  {
   "cell_type": "code",
   "execution_count": 9,
   "id": "10498028",
   "metadata": {
    "ExecuteTime": {
     "end_time": "2022-03-03T06:23:54.755461Z",
     "start_time": "2022-03-03T06:23:54.750026Z"
    }
   },
   "outputs": [
    {
     "name": "stdout",
     "output_type": "stream",
     "text": [
      "Model: \"sequential_6\"\n",
      "_________________________________________________________________\n",
      " Layer (type)                Output Shape              Param #   \n",
      "=================================================================\n",
      " conv2d_16 (Conv2D)          (None, 8, 28, 32)         896       \n",
      "                                                                 \n",
      " max_pooling2d_16 (MaxPoolin  (None, 4, 14, 32)        0         \n",
      " g2D)                                                            \n",
      "                                                                 \n",
      " dropout_30 (Dropout)        (None, 4, 14, 32)         0         \n",
      "                                                                 \n",
      " conv2d_17 (Conv2D)          (None, 2, 12, 64)         18496     \n",
      "                                                                 \n",
      " max_pooling2d_17 (MaxPoolin  (None, 1, 6, 64)         0         \n",
      " g2D)                                                            \n",
      "                                                                 \n",
      " dropout_31 (Dropout)        (None, 1, 6, 64)          0         \n",
      "                                                                 \n",
      " flatten_7 (Flatten)         (None, 384)               0         \n",
      "                                                                 \n",
      " dense_20 (Dense)            (None, 128)               49280     \n",
      "                                                                 \n",
      " dropout_32 (Dropout)        (None, 128)               0         \n",
      "                                                                 \n",
      " dense_21 (Dense)            (None, 64)                8256      \n",
      "                                                                 \n",
      " dropout_33 (Dropout)        (None, 64)                0         \n",
      "                                                                 \n",
      " dense_22 (Dense)            (None, 3)                 195       \n",
      "                                                                 \n",
      "=================================================================\n",
      "Total params: 77,123\n",
      "Trainable params: 77,123\n",
      "Non-trainable params: 0\n",
      "_________________________________________________________________\n"
     ]
    }
   ],
   "source": [
    "model.summary()"
   ]
  },
  {
   "cell_type": "code",
   "execution_count": 4,
   "id": "f5af29b7",
   "metadata": {
    "ExecuteTime": {
     "end_time": "2022-03-03T06:23:07.330542Z",
     "start_time": "2022-03-03T06:23:07.300038Z"
    }
   },
   "outputs": [],
   "source": [
    "Path2 = 'data_2/all/'\n",
    "file_list = os.listdir(Path2)\n",
    "\n",
    "if \".DS_Store\" in file_list:\n",
    "    file_list.remove(\".DS_Store\")\n",
    "\n",
    "data2 = []\n",
    "\n",
    "for A in file_list:\n",
    "    if A == \".DS_Store\":\n",
    "        continue\n",
    "    img2 = cv2.imread(Path2+A)\n",
    "    res2 = cv2.resize(img2, dsize=(30,10), interpolation=cv2.INTER_CUBIC)\n",
    "    cv2.imwrite(Path2+A,res2)\n",
    "    \n",
    "for A in file_list:\n",
    "    if A == \".DS_Store\":\n",
    "        continue\n",
    "    img3 = Image.open(Path2+A)\n",
    "    data2.append(np.array(img3))\n",
    "    img3.close()"
   ]
  },
  {
   "cell_type": "code",
   "execution_count": 5,
   "id": "3345fb31",
   "metadata": {
    "ExecuteTime": {
     "end_time": "2022-03-03T06:23:17.784642Z",
     "start_time": "2022-03-03T06:23:17.781330Z"
    }
   },
   "outputs": [],
   "source": [
    "data2 = np.asarray(data2)/255.0"
   ]
  },
  {
   "cell_type": "code",
   "execution_count": 6,
   "id": "1396c1bf",
   "metadata": {
    "ExecuteTime": {
     "end_time": "2022-03-03T06:23:18.349635Z",
     "start_time": "2022-03-03T06:23:18.185250Z"
    }
   },
   "outputs": [
    {
     "name": "stderr",
     "output_type": "stream",
     "text": [
      "2022-03-03 15:23:18.233519: W tensorflow/core/platform/profile_utils/cpu_utils.cc:128] Failed to get CPU frequency: 0 Hz\n",
      "2022-03-03 15:23:18.284347: I tensorflow/core/grappler/optimizers/custom_graph_optimizer_registry.cc:112] Plugin optimizer for device_type GPU is enabled.\n"
     ]
    }
   ],
   "source": [
    "prediction = model.predict(data2)"
   ]
  },
  {
   "cell_type": "code",
   "execution_count": 8,
   "id": "bf0c546b",
   "metadata": {
    "ExecuteTime": {
     "end_time": "2022-03-03T06:23:24.966919Z",
     "start_time": "2022-03-03T06:23:24.961615Z"
    }
   },
   "outputs": [
    {
     "name": "stdout",
     "output_type": "stream",
     "text": [
      "3번째 신호등: 605.jpg red\n",
      "11번째 신호등: 371.jpg red\n",
      "14번째 신호등: 506.jpg red\n",
      "27번째 신호등: 385.jpg green\n"
     ]
    }
   ],
   "source": [
    "light_order = {0:\"green\",1:\"red\",2:\"yellow\"}\n",
    "\n",
    "for i,x in enumerate(prediction):\n",
    "    count = 0\n",
    "    for y in x:\n",
    "        if y > 0.999:\n",
    "            count += 1\n",
    "    if count > 0:\n",
    "        print(str(i)+\"번째 신호등: \" + file_list[i] + \" : \" + light_order[np.argmax(x)])"
   ]
  },
  {
   "cell_type": "code",
   "execution_count": null,
   "id": "aa5b69db",
   "metadata": {},
   "outputs": [],
   "source": []
  }
 ],
 "metadata": {
  "kernelspec": {
   "display_name": "Python 3 (ipykernel)",
   "language": "python",
   "name": "python3"
  },
  "language_info": {
   "codemirror_mode": {
    "name": "ipython",
    "version": 3
   },
   "file_extension": ".py",
   "mimetype": "text/x-python",
   "name": "python",
   "nbconvert_exporter": "python",
   "pygments_lexer": "ipython3",
   "version": "3.9.10"
  },
  "toc": {
   "base_numbering": 1,
   "nav_menu": {},
   "number_sections": true,
   "sideBar": true,
   "skip_h1_title": false,
   "title_cell": "Table of Contents",
   "title_sidebar": "Contents",
   "toc_cell": false,
   "toc_position": {},
   "toc_section_display": true,
   "toc_window_display": false
  },
  "varInspector": {
   "cols": {
    "lenName": 16,
    "lenType": 16,
    "lenVar": 40
   },
   "kernels_config": {
    "python": {
     "delete_cmd_postfix": "",
     "delete_cmd_prefix": "del ",
     "library": "var_list.py",
     "varRefreshCmd": "print(var_dic_list())"
    },
    "r": {
     "delete_cmd_postfix": ") ",
     "delete_cmd_prefix": "rm(",
     "library": "var_list.r",
     "varRefreshCmd": "cat(var_dic_list()) "
    }
   },
   "types_to_exclude": [
    "module",
    "function",
    "builtin_function_or_method",
    "instance",
    "_Feature"
   ],
   "window_display": false
  }
 },
 "nbformat": 4,
 "nbformat_minor": 5
}
